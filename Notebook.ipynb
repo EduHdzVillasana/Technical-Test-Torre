{
  "nbformat": 4,
  "nbformat_minor": 0,
  "metadata": {
    "language_info": {
      "codemirror_mode": {
        "name": "ipython",
        "version": 3
      },
      "file_extension": ".py",
      "mimetype": "text/x-python",
      "name": "python",
      "nbconvert_exporter": "python",
      "pygments_lexer": "ipython3",
      "version": "3.9.0"
    },
    "orig_nbformat": 2,
    "kernelspec": {
      "name": "python390jvsc74a57bd01f65e174391277f634e70871feaa21300658cb740b5dabfc689c4c43dbc10e3e",
      "display_name": "Python 3.9.0 64-bit"
    },
    "metadata": {
      "interpreter": {
        "hash": "1f65e174391277f634e70871feaa21300658cb740b5dabfc689c4c43dbc10e3e"
      }
    },
    "colab": {
      "name": "Notebook.ipynb",
      "provenance": [],
      "include_colab_link": true
    }
  },
  "cells": [
    {
      "cell_type": "markdown",
      "metadata": {
        "id": "view-in-github",
        "colab_type": "text"
      },
      "source": [
        "<a href=\"https://colab.research.google.com/github/EduHdzVillasana/Technical-Test-Torre/blob/main/Notebook.ipynb\" target=\"_parent\"><img src=\"https://colab.research.google.com/assets/colab-badge.svg\" alt=\"Open In Colab\"/></a>"
      ]
    },
    {
      "cell_type": "markdown",
      "metadata": {
        "id": "RGdWLwS3rhUN"
      },
      "source": [
        "# Technical Test Torre\n",
        "----\n",
        "*Eduardo Alan Hernandez Villasana*"
      ]
    },
    {
      "cell_type": "markdown",
      "metadata": {
        "id": "LjAScUkzrua5"
      },
      "source": [
        "## Data Extraction\n",
        "\n",
        "The data was extracted from [Data World](https://data.world/promptcloud/50000-job-board-records-from-reed-uk).\n",
        "\n",
        "Reed is one of the top employment agency based in the United Kingdom. This data set contains 50000 records of latest job postings on Reed UK.\n",
        "\n",
        "This data was extracted on March 13th 2018 and contains job postings from last 15 days. Following data fields are included in the dataset:\n",
        "\n",
        "* category\n",
        "* city\n",
        "* state\n",
        "* company name\n",
        "* job title\n",
        "* job description\n",
        "* job requirement\n",
        "* job type\n",
        "* salary offered\n",
        "* posting date"
      ]
    },
    {
      "cell_type": "code",
      "metadata": {
        "id": "QlYJ0BMDa1lU"
      },
      "source": [
        "# Libraries\n",
        "import pandas as pd\n",
        "import numpy as np\n",
        "import matplotlib.pyplot as plt\n",
        "import seaborn as sns"
      ],
      "execution_count": 1,
      "outputs": []
    },
    {
      "cell_type": "code",
      "metadata": {
        "id": "hruxMfpUa1lV"
      },
      "source": [
        "data_url = \"https://query.data.world/s/rut5pr5nm5i4onzlfp6xjgcsw3rvu4\"\n",
        "df_raw = pd.read_csv(data_url)"
      ],
      "execution_count": 2,
      "outputs": []
    },
    {
      "cell_type": "markdown",
      "metadata": {
        "id": "-7gRCxhhsscC"
      },
      "source": [
        "## Data Exploration"
      ]
    },
    {
      "cell_type": "code",
      "metadata": {
        "id": "1AZKRfZSa1lW",
        "colab": {
          "base_uri": "https://localhost:8080/",
          "height": 330
        },
        "outputId": "ebd154d3-fbcf-4c37-ff67-a6bce9b2b78a"
      },
      "source": [
        "df_raw.sample(5)"
      ],
      "execution_count": 3,
      "outputs": [
        {
          "output_type": "execute_result",
          "data": {
            "text/html": [
              "<div>\n",
              "<style scoped>\n",
              "    .dataframe tbody tr th:only-of-type {\n",
              "        vertical-align: middle;\n",
              "    }\n",
              "\n",
              "    .dataframe tbody tr th {\n",
              "        vertical-align: top;\n",
              "    }\n",
              "\n",
              "    .dataframe thead th {\n",
              "        text-align: right;\n",
              "    }\n",
              "</style>\n",
              "<table border=\"1\" class=\"dataframe\">\n",
              "  <thead>\n",
              "    <tr style=\"text-align: right;\">\n",
              "      <th></th>\n",
              "      <th>category</th>\n",
              "      <th>city</th>\n",
              "      <th>company_name</th>\n",
              "      <th>geo</th>\n",
              "      <th>job_board</th>\n",
              "      <th>job_description</th>\n",
              "      <th>job_requirements</th>\n",
              "      <th>job_title</th>\n",
              "      <th>job_type</th>\n",
              "      <th>post_date</th>\n",
              "      <th>salary_offered</th>\n",
              "      <th>state</th>\n",
              "    </tr>\n",
              "  </thead>\n",
              "  <tbody>\n",
              "    <tr>\n",
              "      <th>45792</th>\n",
              "      <td>other jobs</td>\n",
              "      <td>Zone 1</td>\n",
              "      <td>Hollyfield Personnel</td>\n",
              "      <td>uk</td>\n",
              "      <td>reed</td>\n",
              "      <td>Apply now Our client is looking for a Schedul...</td>\n",
              "      <td>NaN</td>\n",
              "      <td>Scheduler - Burntwood - Temp on going</td>\n",
              "      <td>Temporary, full-time</td>\n",
              "      <td>3/6/2018</td>\n",
              "      <td>£8.50 - £9.00 per hour</td>\n",
              "      <td>Staffordshire</td>\n",
              "    </tr>\n",
              "    <tr>\n",
              "      <th>26060</th>\n",
              "      <td>science jobs</td>\n",
              "      <td>france</td>\n",
              "      <td>Helix Recruitment Ltd</td>\n",
              "      <td>uk</td>\n",
              "      <td>reed</td>\n",
              "      <td>Apply now As EMEA Product Manager, you will b...</td>\n",
              "      <td>Required skills Cell Biology ELISA Immunology...</td>\n",
              "      <td>EMEA Product Manager - Immunoassay</td>\n",
              "      <td>Permanent, full-time</td>\n",
              "      <td>3/6/2018</td>\n",
              "      <td>Competitive salary</td>\n",
              "      <td>France</td>\n",
              "    </tr>\n",
              "    <tr>\n",
              "      <th>32219</th>\n",
              "      <td>marketing jobs</td>\n",
              "      <td>West London</td>\n",
              "      <td>VTCT</td>\n",
              "      <td>uk</td>\n",
              "      <td>reed</td>\n",
              "      <td>Apply now Job Title: Marketing Intelligence E...</td>\n",
              "      <td>Required skills Marketing 'Marketing Executiv...</td>\n",
              "      <td>Marketing Intelligence Executive</td>\n",
              "      <td>Permanent, full-time</td>\n",
              "      <td>2/27/2018</td>\n",
              "      <td>£29,000 per annum</td>\n",
              "      <td>London</td>\n",
              "    </tr>\n",
              "    <tr>\n",
              "      <th>30119</th>\n",
              "      <td>law jobs</td>\n",
              "      <td>Doncaster</td>\n",
              "      <td>CRA Consulting</td>\n",
              "      <td>uk</td>\n",
              "      <td>reed</td>\n",
              "      <td>Apply now We are recruiting on behalf of lead...</td>\n",
              "      <td>NaN</td>\n",
              "      <td>Commercial Litigation Paralegal</td>\n",
              "      <td>Permanent, full-time</td>\n",
              "      <td>3/7/2018</td>\n",
              "      <td>£18,000 - £24,000 per annum</td>\n",
              "      <td>South Yorkshire</td>\n",
              "    </tr>\n",
              "    <tr>\n",
              "      <th>17382</th>\n",
              "      <td>sales jobs</td>\n",
              "      <td>London</td>\n",
              "      <td>Genesis Associates (UK) Limited</td>\n",
              "      <td>uk</td>\n",
              "      <td>reed</td>\n",
              "      <td>Apply now Sale Consultant/ New Business/ Acco...</td>\n",
              "      <td>Required skills sales executive account manag...</td>\n",
              "      <td>Sales Consultant/ New Business/ Account Manage...</td>\n",
              "      <td>Permanent, full-time</td>\n",
              "      <td>3/4/2018</td>\n",
              "      <td>£40,000 - £45,000 per annum</td>\n",
              "      <td>South East England</td>\n",
              "    </tr>\n",
              "  </tbody>\n",
              "</table>\n",
              "</div>"
            ],
            "text/plain": [
              "             category  ...               state\n",
              "45792      other jobs  ...       Staffordshire\n",
              "26060    science jobs  ...              France\n",
              "32219  marketing jobs  ...              London\n",
              "30119        law jobs  ...     South Yorkshire\n",
              "17382      sales jobs  ...  South East England\n",
              "\n",
              "[5 rows x 12 columns]"
            ]
          },
          "metadata": {
            "tags": []
          },
          "execution_count": 3
        }
      ]
    },
    {
      "cell_type": "code",
      "metadata": {
        "id": "m6AvxcqKa1lW",
        "colab": {
          "base_uri": "https://localhost:8080/"
        },
        "outputId": "9d86d5f1-c941-4cb0-b85f-5e5891a2a89d"
      },
      "source": [
        "df_raw.dtypes"
      ],
      "execution_count": 4,
      "outputs": [
        {
          "output_type": "execute_result",
          "data": {
            "text/plain": [
              "category            object\n",
              "city                object\n",
              "company_name        object\n",
              "geo                 object\n",
              "job_board           object\n",
              "job_description     object\n",
              "job_requirements    object\n",
              "job_title           object\n",
              "job_type            object\n",
              "post_date           object\n",
              "salary_offered      object\n",
              "state               object\n",
              "dtype: object"
            ]
          },
          "metadata": {
            "tags": []
          },
          "execution_count": 4
        }
      ]
    },
    {
      "cell_type": "code",
      "metadata": {
        "id": "f8tqQXT_a1lW",
        "colab": {
          "base_uri": "https://localhost:8080/"
        },
        "outputId": "8ad4d763-eecc-484e-a4ef-9990a9fb6a0c"
      },
      "source": [
        "df_raw.isnull().sum()"
      ],
      "execution_count": 5,
      "outputs": [
        {
          "output_type": "execute_result",
          "data": {
            "text/plain": [
              "category                0\n",
              "city                    0\n",
              "company_name            0\n",
              "geo                     0\n",
              "job_board               0\n",
              "job_description         0\n",
              "job_requirements    29452\n",
              "job_title               0\n",
              "job_type                0\n",
              "post_date               0\n",
              "salary_offered          0\n",
              "state                  20\n",
              "dtype: int64"
            ]
          },
          "metadata": {
            "tags": []
          },
          "execution_count": 5
        }
      ]
    },
    {
      "cell_type": "code",
      "metadata": {
        "id": "YKuLfVsva1lX",
        "colab": {
          "base_uri": "https://localhost:8080/"
        },
        "outputId": "77715797-ea9e-47a1-9fb4-cfed3719fed2"
      },
      "source": [
        "df_raw.shape"
      ],
      "execution_count": 6,
      "outputs": [
        {
          "output_type": "execute_result",
          "data": {
            "text/plain": [
              "(50000, 12)"
            ]
          },
          "metadata": {
            "tags": []
          },
          "execution_count": 6
        }
      ]
    },
    {
      "cell_type": "code",
      "metadata": {
        "id": "dVrF6Fzba1lX",
        "colab": {
          "base_uri": "https://localhost:8080/",
          "height": 182
        },
        "outputId": "46b8791f-2039-4fd7-af0f-3aa8a309d510"
      },
      "source": [
        "df_raw.describe()"
      ],
      "execution_count": 7,
      "outputs": [
        {
          "output_type": "execute_result",
          "data": {
            "text/html": [
              "<div>\n",
              "<style scoped>\n",
              "    .dataframe tbody tr th:only-of-type {\n",
              "        vertical-align: middle;\n",
              "    }\n",
              "\n",
              "    .dataframe tbody tr th {\n",
              "        vertical-align: top;\n",
              "    }\n",
              "\n",
              "    .dataframe thead th {\n",
              "        text-align: right;\n",
              "    }\n",
              "</style>\n",
              "<table border=\"1\" class=\"dataframe\">\n",
              "  <thead>\n",
              "    <tr style=\"text-align: right;\">\n",
              "      <th></th>\n",
              "      <th>category</th>\n",
              "      <th>city</th>\n",
              "      <th>company_name</th>\n",
              "      <th>geo</th>\n",
              "      <th>job_board</th>\n",
              "      <th>job_description</th>\n",
              "      <th>job_requirements</th>\n",
              "      <th>job_title</th>\n",
              "      <th>job_type</th>\n",
              "      <th>post_date</th>\n",
              "      <th>salary_offered</th>\n",
              "      <th>state</th>\n",
              "    </tr>\n",
              "  </thead>\n",
              "  <tbody>\n",
              "    <tr>\n",
              "      <th>count</th>\n",
              "      <td>50000</td>\n",
              "      <td>50000</td>\n",
              "      <td>50000</td>\n",
              "      <td>50000</td>\n",
              "      <td>50000</td>\n",
              "      <td>50000</td>\n",
              "      <td>20548</td>\n",
              "      <td>50000</td>\n",
              "      <td>50000</td>\n",
              "      <td>50000</td>\n",
              "      <td>50000</td>\n",
              "      <td>49980</td>\n",
              "    </tr>\n",
              "    <tr>\n",
              "      <th>unique</th>\n",
              "      <td>37</td>\n",
              "      <td>2918</td>\n",
              "      <td>5166</td>\n",
              "      <td>1</td>\n",
              "      <td>1</td>\n",
              "      <td>42057</td>\n",
              "      <td>14887</td>\n",
              "      <td>29155</td>\n",
              "      <td>9</td>\n",
              "      <td>66</td>\n",
              "      <td>7345</td>\n",
              "      <td>167</td>\n",
              "    </tr>\n",
              "    <tr>\n",
              "      <th>top</th>\n",
              "      <td>health jobs</td>\n",
              "      <td>London</td>\n",
              "      <td>Hays Specialist Recruitment Limited</td>\n",
              "      <td>uk</td>\n",
              "      <td>reed</td>\n",
              "      <td>Apply on employer's website Add an annual tur...</td>\n",
              "      <td>Required skills Recruitment</td>\n",
              "      <td>Administrator</td>\n",
              "      <td>Permanent, full-time</td>\n",
              "      <td>3/7/2018</td>\n",
              "      <td>Salary negotiable</td>\n",
              "      <td>London</td>\n",
              "    </tr>\n",
              "    <tr>\n",
              "      <th>freq</th>\n",
              "      <td>1930</td>\n",
              "      <td>4349</td>\n",
              "      <td>1830</td>\n",
              "      <td>50000</td>\n",
              "      <td>50000</td>\n",
              "      <td>85</td>\n",
              "      <td>123</td>\n",
              "      <td>162</td>\n",
              "      <td>36864</td>\n",
              "      <td>8472</td>\n",
              "      <td>4539</td>\n",
              "      <td>5900</td>\n",
              "    </tr>\n",
              "  </tbody>\n",
              "</table>\n",
              "</div>"
            ],
            "text/plain": [
              "           category    city  ...       salary_offered   state\n",
              "count         50000   50000  ...                50000   49980\n",
              "unique           37    2918  ...                 7345     167\n",
              "top     health jobs  London  ...   Salary negotiable   London\n",
              "freq           1930    4349  ...                 4539    5900\n",
              "\n",
              "[4 rows x 12 columns]"
            ]
          },
          "metadata": {
            "tags": []
          },
          "execution_count": 7
        }
      ]
    },
    {
      "cell_type": "code",
      "metadata": {
        "id": "ZW7MjEGJvU_j",
        "colab": {
          "base_uri": "https://localhost:8080/"
        },
        "outputId": "42c09420-c15c-47f2-e634-5d340dd8f038"
      },
      "source": [
        "df_raw[\"city\"].sort_values().unique()[[937,1012]]"
      ],
      "execution_count": 8,
      "outputs": [
        {
          "output_type": "execute_result",
          "data": {
            "text/plain": [
              "array(['FRANKFURT', 'Frankfurt'], dtype=object)"
            ]
          },
          "metadata": {
            "tags": []
          },
          "execution_count": 8
        }
      ]
    },
    {
      "cell_type": "code",
      "metadata": {
        "id": "qKwAzG-e108o",
        "colab": {
          "base_uri": "https://localhost:8080/"
        },
        "outputId": "fc61f19e-114e-4613-cc58-bbc37c13c8ed"
      },
      "source": [
        "df_raw[\"job_type\"].unique()"
      ],
      "execution_count": 9,
      "outputs": [
        {
          "output_type": "execute_result",
          "data": {
            "text/plain": [
              "array(['Permanent, full-time', 'Permanent, full-time or part-time',\n",
              "       'Permanent, part-time', 'Contract, full-time',\n",
              "       'Temporary, part-time', 'Temporary, full-time or part-time',\n",
              "       'Temporary, full-time', 'Contract, full-time or part-time',\n",
              "       'Contract, part-time'], dtype=object)"
            ]
          },
          "metadata": {
            "tags": []
          },
          "execution_count": 9
        }
      ]
    },
    {
      "cell_type": "markdown",
      "metadata": {
        "id": "CP8T8dyju9vw"
      },
      "source": [
        "## Data Cleaning\n",
        "* The `geo` and `job_board` columns will be dropped because they have only one unique value in all rows.\n",
        "* Transform to lower case the cities and states because some cities or states are repeated but some with uper case or lower case.\n",
        "* Get kew words in `job_requirements` to get a list of requirements."
      ]
    },
    {
      "cell_type": "markdown",
      "metadata": {
        "id": "yOSewAIV237c"
      },
      "source": [
        "### Dropping unnecessary columns"
      ]
    },
    {
      "cell_type": "code",
      "metadata": {
        "id": "oy60jQofu_UW"
      },
      "source": [
        "df = df_raw.drop(columns = [\"geo\",\"job_board\"], axis = 1)"
      ],
      "execution_count": 10,
      "outputs": []
    },
    {
      "cell_type": "markdown",
      "metadata": {
        "id": "X41P9pzk3Bpe"
      },
      "source": [
        "### Transforming string columns to lower case."
      ]
    },
    {
      "cell_type": "code",
      "metadata": {
        "id": "twabNjx-y_xs"
      },
      "source": [
        "df[\"city\"] = df[\"city\"].str.lower()\n",
        "df[\"state\"] = df[\"state\"].str.lower()\n",
        "df[\"job_requirements\"] = df[\"job_requirements\"].str.lower()\n",
        "df[\"job_title\"] = df[\"job_title\"].str.lower()\n",
        "df[\"company_name\"] = df[\"company_name\"].str.lower()\n",
        "df[\"category\"] = df[\"category\"].str.lower()"
      ],
      "execution_count": 11,
      "outputs": []
    },
    {
      "cell_type": "code",
      "metadata": {
        "id": "ycsyW5A61jix",
        "colab": {
          "base_uri": "https://localhost:8080/"
        },
        "outputId": "1ec920bd-b7ed-4e02-c6fb-271279ba6962"
      },
      "source": [
        "len(df[df[\"salary_offered\"] == \" Salary not specified \"])"
      ],
      "execution_count": 12,
      "outputs": [
        {
          "output_type": "execute_result",
          "data": {
            "text/plain": [
              "317"
            ]
          },
          "metadata": {
            "tags": []
          },
          "execution_count": 12
        }
      ]
    },
    {
      "cell_type": "code",
      "metadata": {
        "id": "1RV9VOcu2sYj"
      },
      "source": [
        "df[\"salary_offered\"] = df[\"salary_offered\"].str.strip()"
      ],
      "execution_count": 13,
      "outputs": []
    },
    {
      "cell_type": "code",
      "metadata": {
        "id": "it2m08rg2xta",
        "colab": {
          "base_uri": "https://localhost:8080/"
        },
        "outputId": "cd23fafa-af54-4697-eeb0-c8d9bd8ed019"
      },
      "source": [
        "len(df[df[\"salary_offered\"] == \"Salary not specified\"])"
      ],
      "execution_count": 14,
      "outputs": [
        {
          "output_type": "execute_result",
          "data": {
            "text/plain": [
              "317"
            ]
          },
          "metadata": {
            "tags": []
          },
          "execution_count": 14
        }
      ]
    },
    {
      "cell_type": "markdown",
      "metadata": {
        "id": "zTEaBTKW3PLk"
      },
      "source": [
        "### Getting key words of `job_requirements` "
      ]
    },
    {
      "cell_type": "code",
      "metadata": {
        "id": "4WKiJ7Sj3YwU",
        "colab": {
          "base_uri": "https://localhost:8080/"
        },
        "outputId": "c2f003e8-17b6-4e01-f06a-4684af3a5c07"
      },
      "source": [
        "df[\"job_requirements\"].sample(3)"
      ],
      "execution_count": 15,
      "outputs": [
        {
          "output_type": "execute_result",
          "data": {
            "text/plain": [
              "30216                                                  NaN\n",
              "12184                                                  NaN\n",
              "2209      required skills hr recruitment retail hr advi...\n",
              "Name: job_requirements, dtype: object"
            ]
          },
          "metadata": {
            "tags": []
          },
          "execution_count": 15
        }
      ]
    },
    {
      "cell_type": "markdown",
      "metadata": {
        "id": "cGM888iA4dxX"
      },
      "source": [
        "\"required skills* is repeated in all non NaN rows"
      ]
    },
    {
      "cell_type": "code",
      "metadata": {
        "id": "_movVTvY4l0n"
      },
      "source": [
        "df[\"job_requirements\"] = df[\"job_requirements\"].str.replace(\"required skills \",\"\")"
      ],
      "execution_count": 16,
      "outputs": []
    },
    {
      "cell_type": "code",
      "metadata": {
        "id": "wvjOMsQMEjXa",
        "colab": {
          "base_uri": "https://localhost:8080/"
        },
        "outputId": "e5390236-122f-4cf6-d166-a3f8c7f5567a"
      },
      "source": [
        "df[\"job_requirements\"].sample(5)"
      ],
      "execution_count": 17,
      "outputs": [
        {
          "output_type": "execute_result",
          "data": {
            "text/plain": [
              "22609     global procurement purchasing buyer \n",
              "37280                                      NaN\n",
              "34035                                      NaN\n",
              "47066                                      NaN\n",
              "10966                                      NaN\n",
              "Name: job_requirements, dtype: object"
            ]
          },
          "metadata": {
            "tags": []
          },
          "execution_count": 17
        }
      ]
    },
    {
      "cell_type": "code",
      "metadata": {
        "id": "jlQy_iHWFQBY",
        "colab": {
          "base_uri": "https://localhost:8080/"
        },
        "outputId": "43d8c3c5-99cc-4f6f-f35d-7a77bf9c9e6d"
      },
      "source": [
        "import nltk\n",
        "nltk.download('punkt')\n",
        "nltk.download('stopwords')\n",
        "import re\n",
        "from nltk.corpus import stopwords"
      ],
      "execution_count": 18,
      "outputs": [
        {
          "output_type": "stream",
          "text": [
            "[nltk_data] Downloading package punkt to /root/nltk_data...\n",
            "[nltk_data]   Package punkt is already up-to-date!\n",
            "[nltk_data] Downloading package stopwords to /root/nltk_data...\n",
            "[nltk_data]   Package stopwords is already up-to-date!\n"
          ],
          "name": "stdout"
        }
      ]
    },
    {
      "cell_type": "code",
      "metadata": {
        "id": "VkhAxbJfG6oS"
      },
      "source": [
        "df[\"job_requirements\"] = df[\"job_requirements\"].fillna(\"Unrequirement\")"
      ],
      "execution_count": 19,
      "outputs": []
    },
    {
      "cell_type": "code",
      "metadata": {
        "id": "pKb_4nBUHsbh",
        "colab": {
          "base_uri": "https://localhost:8080/"
        },
        "outputId": "cad1bcff-ba21-47a3-84ff-8f2ef8665843"
      },
      "source": [
        "df[\"job_requirements\"].sample(5)"
      ],
      "execution_count": 20,
      "outputs": [
        {
          "output_type": "execute_result",
          "data": {
            "text/plain": [
              "7828      autism communication skills learning disabili...\n",
              "34893                                        Unrequirement\n",
              "36339                                        Unrequirement\n",
              "42822     ecommerce front end javascript node react sin...\n",
              "26662                                     finance payroll \n",
              "Name: job_requirements, dtype: object"
            ]
          },
          "metadata": {
            "tags": []
          },
          "execution_count": 20
        }
      ]
    },
    {
      "cell_type": "code",
      "metadata": {
        "id": "fFi-Yv4bd0yV"
      },
      "source": [
        "df[\"job_requirements\"] = df[\"job_requirements\"].str.lower()\n",
        "df[\"job_requirements\"] = df[\"job_requirements\"].str.strip()\n",
        "df[\"job_requirements\"] = df[\"job_requirements\"].str.replace('[^\\w\\s]', '')\n",
        "df[\"job_requirements\"] = df[\"job_requirements\"].str.replace('\\d', '')\n",
        "df[\"job_requirements\"] = df[\"job_requirements\"].str.replace('\\\\n', '')"
      ],
      "execution_count": 21,
      "outputs": []
    },
    {
      "cell_type": "code",
      "metadata": {
        "id": "MyLMycNWeDvb"
      },
      "source": [
        "df[\"job_requirements\"] = df[\"job_requirements\"].apply(nltk.word_tokenize)"
      ],
      "execution_count": 22,
      "outputs": []
    },
    {
      "cell_type": "code",
      "metadata": {
        "id": "hPK8Pyk-eIK6",
        "outputId": "38cac99b-ce78-4978-ba46-cbb5c4d199fa",
        "colab": {
          "base_uri": "https://localhost:8080/"
        }
      },
      "source": [
        "df[\"job_requirements\"].sample(3)"
      ],
      "execution_count": 23,
      "outputs": [
        {
          "output_type": "execute_result",
          "data": {
            "text/plain": [
              "35553                                        [recruitment]\n",
              "38405    [recruitment, sales, advisor, consultant, busi...\n",
              "48302    [buying, category, procurement, purchase, purc...\n",
              "Name: job_requirements, dtype: object"
            ]
          },
          "metadata": {
            "tags": []
          },
          "execution_count": 23
        }
      ]
    },
    {
      "cell_type": "code",
      "metadata": {
        "id": "QyrRyJ7LeYg9"
      },
      "source": [
        "english_stop_words = stopwords.words('english')\n",
        "df[\"job_requirements\"] = df[\"job_requirements\"].apply(lambda s: [word for word in s if word not in english_stop_words])"
      ],
      "execution_count": 24,
      "outputs": []
    },
    {
      "cell_type": "code",
      "metadata": {
        "id": "dxybVo-TemGN",
        "outputId": "28d11b59-2832-4cd9-cea1-49226bf52019",
        "colab": {
          "base_uri": "https://localhost:8080/"
        }
      },
      "source": [
        "df[\"job_requirements\"].sample(10)"
      ],
      "execution_count": 25,
      "outputs": [
        {
          "output_type": "execute_result",
          "data": {
            "text/plain": [
              "15177                                      [unrequirement]\n",
              "17126                   [apache, linux, mysql, networking]\n",
              "2327                                       [unrequirement]\n",
              "12202                                      [unrequirement]\n",
              "15287    [aca, acca, accounts, assistant, part, qualifi...\n",
              "1500                                       [unrequirement]\n",
              "46449    [budgets, leadership, management, project, man...\n",
              "48538               [analytical, glp, gmp, reporting, cro]\n",
              "40374                                      [unrequirement]\n",
              "29646                                      [unrequirement]\n",
              "Name: job_requirements, dtype: object"
            ]
          },
          "metadata": {
            "tags": []
          },
          "execution_count": 25
        }
      ]
    },
    {
      "cell_type": "code",
      "metadata": {
        "id": "DUIpmyFElD5i"
      },
      "source": [
        "df[\"id\"] = df.index"
      ],
      "execution_count": 41,
      "outputs": []
    },
    {
      "cell_type": "code",
      "metadata": {
        "id": "w8VjZ8CdjDCH",
        "outputId": "2fe9abb5-7cb4-4822-b9e2-d3b7b95df214",
        "colab": {
          "base_uri": "https://localhost:8080/",
          "height": 182
        }
      },
      "source": [
        "df.describe(include=\"object\")"
      ],
      "execution_count": 39,
      "outputs": [
        {
          "output_type": "execute_result",
          "data": {
            "text/html": [
              "<div>\n",
              "<style scoped>\n",
              "    .dataframe tbody tr th:only-of-type {\n",
              "        vertical-align: middle;\n",
              "    }\n",
              "\n",
              "    .dataframe tbody tr th {\n",
              "        vertical-align: top;\n",
              "    }\n",
              "\n",
              "    .dataframe thead th {\n",
              "        text-align: right;\n",
              "    }\n",
              "</style>\n",
              "<table border=\"1\" class=\"dataframe\">\n",
              "  <thead>\n",
              "    <tr style=\"text-align: right;\">\n",
              "      <th></th>\n",
              "      <th>category</th>\n",
              "      <th>city</th>\n",
              "      <th>company_name</th>\n",
              "      <th>job_description</th>\n",
              "      <th>job_requirements</th>\n",
              "      <th>job_title</th>\n",
              "      <th>job_type</th>\n",
              "      <th>post_date</th>\n",
              "      <th>salary_offered</th>\n",
              "      <th>state</th>\n",
              "    </tr>\n",
              "  </thead>\n",
              "  <tbody>\n",
              "    <tr>\n",
              "      <th>count</th>\n",
              "      <td>50000</td>\n",
              "      <td>50000</td>\n",
              "      <td>50000</td>\n",
              "      <td>50000</td>\n",
              "      <td>50000</td>\n",
              "      <td>50000</td>\n",
              "      <td>50000</td>\n",
              "      <td>50000</td>\n",
              "      <td>50000</td>\n",
              "      <td>49980</td>\n",
              "    </tr>\n",
              "    <tr>\n",
              "      <th>unique</th>\n",
              "      <td>37</td>\n",
              "      <td>2874</td>\n",
              "      <td>5162</td>\n",
              "      <td>42057</td>\n",
              "      <td>14786</td>\n",
              "      <td>28702</td>\n",
              "      <td>9</td>\n",
              "      <td>66</td>\n",
              "      <td>7345</td>\n",
              "      <td>163</td>\n",
              "    </tr>\n",
              "    <tr>\n",
              "      <th>top</th>\n",
              "      <td>health jobs</td>\n",
              "      <td>london</td>\n",
              "      <td>hays specialist recruitment limited</td>\n",
              "      <td>Apply on employer's website Add an annual tur...</td>\n",
              "      <td>[unrequirement]</td>\n",
              "      <td>administrator</td>\n",
              "      <td>Permanent, full-time</td>\n",
              "      <td>3/7/2018</td>\n",
              "      <td>Salary negotiable</td>\n",
              "      <td>london</td>\n",
              "    </tr>\n",
              "    <tr>\n",
              "      <th>freq</th>\n",
              "      <td>1930</td>\n",
              "      <td>4349</td>\n",
              "      <td>1830</td>\n",
              "      <td>85</td>\n",
              "      <td>29452</td>\n",
              "      <td>162</td>\n",
              "      <td>36864</td>\n",
              "      <td>8472</td>\n",
              "      <td>4539</td>\n",
              "      <td>5900</td>\n",
              "    </tr>\n",
              "  </tbody>\n",
              "</table>\n",
              "</div>"
            ],
            "text/plain": [
              "           category    city  ...     salary_offered   state\n",
              "count         50000   50000  ...              50000   49980\n",
              "unique           37    2874  ...               7345     163\n",
              "top     health jobs  london  ...  Salary negotiable  london\n",
              "freq           1930    4349  ...               4539    5900\n",
              "\n",
              "[4 rows x 10 columns]"
            ]
          },
          "metadata": {
            "tags": []
          },
          "execution_count": 39
        }
      ]
    },
    {
      "cell_type": "code",
      "metadata": {
        "id": "zA0fUHrmkzF1",
        "outputId": "2499b556-15d2-4587-839e-dc98f47f0b53",
        "colab": {
          "base_uri": "https://localhost:8080/",
          "height": 186
        }
      },
      "source": [
        "df.head(3)"
      ],
      "execution_count": 44,
      "outputs": [
        {
          "output_type": "execute_result",
          "data": {
            "text/html": [
              "<div>\n",
              "<style scoped>\n",
              "    .dataframe tbody tr th:only-of-type {\n",
              "        vertical-align: middle;\n",
              "    }\n",
              "\n",
              "    .dataframe tbody tr th {\n",
              "        vertical-align: top;\n",
              "    }\n",
              "\n",
              "    .dataframe thead th {\n",
              "        text-align: right;\n",
              "    }\n",
              "</style>\n",
              "<table border=\"1\" class=\"dataframe\">\n",
              "  <thead>\n",
              "    <tr style=\"text-align: right;\">\n",
              "      <th></th>\n",
              "      <th>category</th>\n",
              "      <th>city</th>\n",
              "      <th>company_name</th>\n",
              "      <th>job_description</th>\n",
              "      <th>job_requirements</th>\n",
              "      <th>job_title</th>\n",
              "      <th>job_type</th>\n",
              "      <th>post_date</th>\n",
              "      <th>salary_offered</th>\n",
              "      <th>state</th>\n",
              "      <th>id</th>\n",
              "    </tr>\n",
              "  </thead>\n",
              "  <tbody>\n",
              "    <tr>\n",
              "      <th>0</th>\n",
              "      <td>catering jobs</td>\n",
              "      <td>chudleigh</td>\n",
              "      <td>haulfryn group</td>\n",
              "      <td>Apply now New opportunity not to be missed! H...</td>\n",
              "      <td>[unrequirement]</td>\n",
              "      <td>commis chef</td>\n",
              "      <td>Permanent, full-time</td>\n",
              "      <td>3/12/2018</td>\n",
              "      <td>£18,323 per annum</td>\n",
              "      <td>devon</td>\n",
              "      <td>0</td>\n",
              "    </tr>\n",
              "    <tr>\n",
              "      <th>1</th>\n",
              "      <td>law jobs</td>\n",
              "      <td>swindon</td>\n",
              "      <td>reed</td>\n",
              "      <td>Apply now This role requires an experienced s...</td>\n",
              "      <td>[unrequirement]</td>\n",
              "      <td>corporate legal secretary</td>\n",
              "      <td>Permanent, full-time</td>\n",
              "      <td>3/8/2018</td>\n",
              "      <td>£18,000 - £22,000 per annum</td>\n",
              "      <td>wiltshire</td>\n",
              "      <td>1</td>\n",
              "    </tr>\n",
              "    <tr>\n",
              "      <th>2</th>\n",
              "      <td>factory jobs</td>\n",
              "      <td>norfolk</td>\n",
              "      <td>swanstaff recruitment ltd</td>\n",
              "      <td>Apply now Job Title: Warehouse personLocation...</td>\n",
              "      <td>[unrequirement]</td>\n",
              "      <td>warehouse person</td>\n",
              "      <td>Permanent, full-time</td>\n",
              "      <td>2/27/2018</td>\n",
              "      <td>Salary not specified</td>\n",
              "      <td>east anglia</td>\n",
              "      <td>2</td>\n",
              "    </tr>\n",
              "  </tbody>\n",
              "</table>\n",
              "</div>"
            ],
            "text/plain": [
              "        category       city  ...        state id\n",
              "0  catering jobs  chudleigh  ...        devon  0\n",
              "1       law jobs    swindon  ...    wiltshire  1\n",
              "2   factory jobs    norfolk  ...  east anglia  2\n",
              "\n",
              "[3 rows x 11 columns]"
            ]
          },
          "metadata": {
            "tags": []
          },
          "execution_count": 44
        }
      ]
    },
    {
      "cell_type": "code",
      "metadata": {
        "id": "xg7w2P99lIXR"
      },
      "source": [
        "df_cleaned = df.copy()"
      ],
      "execution_count": 42,
      "outputs": []
    },
    {
      "cell_type": "markdown",
      "metadata": {
        "id": "dRDhKBUjlXIA"
      },
      "source": [
        "## Preparing DataFrame for the Graph Database"
      ]
    },
    {
      "cell_type": "code",
      "metadata": {
        "id": "I--F_qduljKh",
        "outputId": "8146dbff-4155-46e8-81ed-705a668f7119",
        "colab": {
          "base_uri": "https://localhost:8080/"
        }
      },
      "source": [
        "df_cleaned.columns"
      ],
      "execution_count": 43,
      "outputs": [
        {
          "output_type": "execute_result",
          "data": {
            "text/plain": [
              "Index(['category', 'city', 'company_name', 'job_description',\n",
              "       'job_requirements', 'job_title', 'job_type', 'post_date',\n",
              "       'salary_offered', 'state', 'id'],\n",
              "      dtype='object')"
            ]
          },
          "metadata": {
            "tags": []
          },
          "execution_count": 43
        }
      ]
    },
    {
      "cell_type": "code",
      "metadata": {
        "id": "5moNiITDlg9o"
      },
      "source": [
        "df_celaned = df_cleaned.rename(columns = {\"company_name\":\"company\",\"job_description\":\"description\",\"job_requirements\":\"requirements\", \"job_title\":\"title\",\"job_type\":\"type\",\"salary_offered\":\"salary\"})"
      ],
      "execution_count": 55,
      "outputs": []
    },
    {
      "cell_type": "code",
      "metadata": {
        "id": "ZxXeC2s3mHM9",
        "outputId": "566b741e-c87e-459b-f48f-42240cf53b36",
        "colab": {
          "base_uri": "https://localhost:8080/"
        }
      },
      "source": [
        "df_celaned.columns"
      ],
      "execution_count": 56,
      "outputs": [
        {
          "output_type": "execute_result",
          "data": {
            "text/plain": [
              "Index(['category', 'city', 'company', 'description', 'requirements', 'title',\n",
              "       'type', 'post_date', 'salary', 'state', 'id'],\n",
              "      dtype='object')"
            ]
          },
          "metadata": {
            "tags": []
          },
          "execution_count": 56
        }
      ]
    },
    {
      "cell_type": "markdown",
      "metadata": {
        "id": "r6ewTF5rqCPk"
      },
      "source": [
        "### Preparing `category` nodes"
      ]
    },
    {
      "cell_type": "code",
      "metadata": {
        "id": "xFSJ2zlLqG_k",
        "outputId": "b5d9b30c-1bcc-47cd-808f-755fdb3f4182",
        "colab": {
          "base_uri": "https://localhost:8080/"
        }
      },
      "source": [
        "category = pd.DataFrame(df_celaned[[\"category\"]]).explode(\"category\").drop_duplicates(subset=[\"category\"])\n",
        "category.size"
      ],
      "execution_count": 57,
      "outputs": [
        {
          "output_type": "execute_result",
          "data": {
            "text/plain": [
              "37"
            ]
          },
          "metadata": {
            "tags": []
          },
          "execution_count": 57
        }
      ]
    },
    {
      "cell_type": "markdown",
      "metadata": {
        "id": "Vs5fVuKCqPjE"
      },
      "source": [
        "### Preparing `city` nodes"
      ]
    },
    {
      "cell_type": "code",
      "metadata": {
        "id": "NKL5q40DqXIq",
        "outputId": "629c073d-0e3e-40a3-e327-9b66584cc247",
        "colab": {
          "base_uri": "https://localhost:8080/"
        }
      },
      "source": [
        "city = pd.DataFrame(df_celaned[[\"city\"]]).explode(\"city\").drop_duplicates(subset=[\"city\"])\n",
        "city.size"
      ],
      "execution_count": 58,
      "outputs": [
        {
          "output_type": "execute_result",
          "data": {
            "text/plain": [
              "2874"
            ]
          },
          "metadata": {
            "tags": []
          },
          "execution_count": 58
        }
      ]
    },
    {
      "cell_type": "markdown",
      "metadata": {
        "id": "aP3BFckGqerv"
      },
      "source": [
        "### Preparing `company` nodes"
      ]
    },
    {
      "cell_type": "code",
      "metadata": {
        "id": "i6DI4Am0qiZa",
        "outputId": "39814274-42eb-4fb3-ecf0-72648ff4740b",
        "colab": {
          "base_uri": "https://localhost:8080/"
        }
      },
      "source": [
        "company = pd.DataFrame(df_celaned[[\"company\"]]).explode(\"company\").drop_duplicates(subset=[\"company\"])\n",
        "company.size"
      ],
      "execution_count": 59,
      "outputs": [
        {
          "output_type": "execute_result",
          "data": {
            "text/plain": [
              "5162"
            ]
          },
          "metadata": {
            "tags": []
          },
          "execution_count": 59
        }
      ]
    },
    {
      "cell_type": "markdown",
      "metadata": {
        "id": "XhZz9RHoqo_T"
      },
      "source": [
        "### Preparing `requirement` nodes"
      ]
    },
    {
      "cell_type": "code",
      "metadata": {
        "id": "abH4wVBgqteG",
        "outputId": "46c49e6c-2659-4977-e1db-317dcb67ead0",
        "colab": {
          "base_uri": "https://localhost:8080/"
        }
      },
      "source": [
        "requirements = pd.DataFrame(df_celaned[[\"requirements\"]]).explode(\"requirements\").drop_duplicates(subset=[\"requirements\"])\n",
        "requirements.size"
      ],
      "execution_count": 60,
      "outputs": [
        {
          "output_type": "execute_result",
          "data": {
            "text/plain": [
              "7761"
            ]
          },
          "metadata": {
            "tags": []
          },
          "execution_count": 60
        }
      ]
    },
    {
      "cell_type": "markdown",
      "metadata": {
        "id": "ckdrnU4HoQIe"
      },
      "source": [
        "### Preparing `title` nodes"
      ]
    },
    {
      "cell_type": "code",
      "metadata": {
        "id": "aBKLsBYmoV6D",
        "outputId": "55bdcc66-25f2-441d-f837-68053031b5ae",
        "colab": {
          "base_uri": "https://localhost:8080/"
        }
      },
      "source": [
        "title = pd.DataFrame(df_celaned[[\"title\"]]).explode(\"title\").drop_duplicates(subset=[\"title\"])\n",
        "title.size"
      ],
      "execution_count": 54,
      "outputs": [
        {
          "output_type": "execute_result",
          "data": {
            "text/plain": [
              "28702"
            ]
          },
          "metadata": {
            "tags": []
          },
          "execution_count": 54
        }
      ]
    },
    {
      "cell_type": "markdown",
      "metadata": {
        "id": "TnlUpezQrQ2C"
      },
      "source": [
        "### Preparing `type` nodes"
      ]
    },
    {
      "cell_type": "code",
      "metadata": {
        "id": "vg1sKqMSoPkW",
        "outputId": "bd0e6cfb-2bdc-4813-e8b0-202f67b41fcb",
        "colab": {
          "base_uri": "https://localhost:8080/"
        }
      },
      "source": [
        "type_ = pd.DataFrame(df_celaned[[\"type\"]]).explode(\"type\").drop_duplicates(subset=[\"type\"])\n",
        "type_.size"
      ],
      "execution_count": 65,
      "outputs": [
        {
          "output_type": "execute_result",
          "data": {
            "text/plain": [
              "9"
            ]
          },
          "metadata": {
            "tags": []
          },
          "execution_count": 65
        }
      ]
    },
    {
      "cell_type": "markdown",
      "metadata": {
        "id": "FZwSV5k7rbP_"
      },
      "source": [
        "### Preparing `state` nodes"
      ]
    },
    {
      "cell_type": "code",
      "metadata": {
        "id": "EDZJ3Y-lrf-Y",
        "outputId": "0e56917f-d8c8-4521-b855-c8bd760d605c",
        "colab": {
          "base_uri": "https://localhost:8080/"
        }
      },
      "source": [
        "state = pd.DataFrame(df_celaned[[\"state\"]]).explode(\"state\").drop_duplicates(subset=[\"state\"])\n",
        "state.size"
      ],
      "execution_count": 63,
      "outputs": [
        {
          "output_type": "execute_result",
          "data": {
            "text/plain": [
              "164"
            ]
          },
          "metadata": {
            "tags": []
          },
          "execution_count": 63
        }
      ]
    },
    {
      "cell_type": "markdown",
      "metadata": {
        "id": "K6oEoay_rk8g"
      },
      "source": [
        "### Preparing `salary` nodes"
      ]
    },
    {
      "cell_type": "code",
      "metadata": {
        "id": "3Dt0dXkErsAb",
        "outputId": "20a80dfb-ee0d-48bb-dc15-bdfbd275a268",
        "colab": {
          "base_uri": "https://localhost:8080/"
        }
      },
      "source": [
        "salary = pd.DataFrame(df_celaned[[\"salary\"]]).explode(\"salary\").drop_duplicates(subset=[\"salary\"])\n",
        "salary.size"
      ],
      "execution_count": 64,
      "outputs": [
        {
          "output_type": "execute_result",
          "data": {
            "text/plain": [
              "7345"
            ]
          },
          "metadata": {
            "tags": []
          },
          "execution_count": 64
        }
      ]
    },
    {
      "cell_type": "markdown",
      "metadata": {
        "id": "obcgr97WeyIg"
      },
      "source": [
        "## Language processing"
      ]
    },
    {
      "cell_type": "code",
      "metadata": {
        "id": "0tp87kpaIB5H"
      },
      "source": [
        "tokenized = df[\"job_requirements\"]"
      ],
      "execution_count": 26,
      "outputs": []
    },
    {
      "cell_type": "code",
      "metadata": {
        "id": "TeyHlEHcIYxw",
        "colab": {
          "base_uri": "https://localhost:8080/"
        },
        "outputId": "cd7f2b84-a197-4f77-9822-0971a14ea79c"
      },
      "source": [
        "tokenized.sample(5)"
      ],
      "execution_count": 27,
      "outputs": [
        {
          "output_type": "execute_result",
          "data": {
            "text/plain": [
              "3343     [management, parts, ordering, mechanic, servic...\n",
              "28381                                      [unrequirement]\n",
              "41723                                      [unrequirement]\n",
              "19766    [sales, business, development, solar, pv, tier...\n",
              "34487                                      [unrequirement]\n",
              "Name: job_requirements, dtype: object"
            ]
          },
          "metadata": {
            "tags": []
          },
          "execution_count": 27
        }
      ]
    },
    {
      "cell_type": "code",
      "metadata": {
        "id": "x0pvHkAfIT38"
      },
      "source": [
        "all_words = tokenized.sum()"
      ],
      "execution_count": 28,
      "outputs": []
    },
    {
      "cell_type": "code",
      "metadata": {
        "id": "eOeDSY8DJBtl"
      },
      "source": [
        "english_stop_words = stopwords.words('english')\n",
        "all_words_except_stop_words = [word for word in all_words if word not in english_stop_words]"
      ],
      "execution_count": 29,
      "outputs": []
    },
    {
      "cell_type": "code",
      "metadata": {
        "id": "d4mU11fDJHI9",
        "colab": {
          "base_uri": "https://localhost:8080/"
        },
        "outputId": "e65c8a32-1266-41a1-cb15-046ef17f1fc7"
      },
      "source": [
        "len(all_words_except_stop_words)"
      ],
      "execution_count": 30,
      "outputs": [
        {
          "output_type": "execute_result",
          "data": {
            "text/plain": [
              "180812"
            ]
          },
          "metadata": {
            "tags": []
          },
          "execution_count": 30
        }
      ]
    },
    {
      "cell_type": "code",
      "metadata": {
        "id": "XGwsiLxjJWrN"
      },
      "source": [
        "freq_dist = nltk.FreqDist(all_words_except_stop_words)\n",
        "most_common_20 = np.array(list(map(lambda x: list(x), freq_dist.most_common(20))))\n",
        "y = np.array(most_common_20[:,1], dtype=int)"
      ],
      "execution_count": 31,
      "outputs": []
    },
    {
      "cell_type": "code",
      "metadata": {
        "id": "JNu1PkKyJXkQ",
        "outputId": "cfd453c9-85b2-40dc-ab56-e1d7e5b67b4d",
        "colab": {
          "base_uri": "https://localhost:8080/",
          "height": 458
        }
      },
      "source": [
        "fig = plt.figure(figsize=(10,5  ))\n",
        "ax = fig.add_subplot()\n",
        "\n",
        "sns.barplot(most_common_20[:, 0], y, ax=ax, palette='RdYlBu');\n",
        "ax.set_title('Most Common Words in Job Requirements', pad=10)\n",
        "ax.set_ylabel('Count')\n",
        "ax.tick_params(axis='x', rotation=80)"
      ],
      "execution_count": 32,
      "outputs": [
        {
          "output_type": "stream",
          "text": [
            "/usr/local/lib/python3.7/dist-packages/seaborn/_decorators.py:43: FutureWarning: Pass the following variables as keyword args: x, y. From version 0.12, the only valid positional argument will be `data`, and passing other arguments without an explicit keyword will result in an error or misinterpretation.\n",
            "  FutureWarning\n"
          ],
          "name": "stderr"
        },
        {
          "output_type": "display_data",
          "data": {
            "image/png": "[encoded data removed]",
            "text/plain": [
              "<Figure size 720x360 with 1 Axes>"
            ]
          },
          "metadata": {
            "tags": [],
            "needs_background": "light"
          }
        }
      ]
    },
    {
      "cell_type": "code",
      "metadata": {
        "id": "FfY6PLaJdHSu",
        "outputId": "e4d863bc-c985-4478-9c19-13271499b0c1",
        "colab": {
          "base_uri": "https://localhost:8080/",
          "height": 450
        }
      },
      "source": [
        "freq_dist = nltk.FreqDist(all_words_except_stop_words)\n",
        "most_common_20 = np.array(list(map(lambda x: list(x), freq_dist.most_common(21))))\n",
        "y = np.array(most_common_20[1:,1], dtype=int)\n",
        "fig = plt.figure(figsize=(10,5  ))\n",
        "ax = fig.add_subplot()\n",
        "\n",
        "sns.barplot(most_common_20[1:, 0], y, ax=ax, palette='RdYlBu');\n",
        "ax.set_title('Most Common Words in Job Requirements', pad=10)\n",
        "ax.set_ylabel('Count')\n",
        "ax.tick_params(axis='x', rotation=80)"
      ],
      "execution_count": 33,
      "outputs": [
        {
          "output_type": "stream",
          "text": [
            "/usr/local/lib/python3.7/dist-packages/seaborn/_decorators.py:43: FutureWarning: Pass the following variables as keyword args: x, y. From version 0.12, the only valid positional argument will be `data`, and passing other arguments without an explicit keyword will result in an error or misinterpretation.\n",
            "  FutureWarning\n"
          ],
          "name": "stderr"
        },
        {
          "output_type": "display_data",
          "data": {
            "image/png": "[encoded data removed]",
            "text/plain": [
              "<Figure size 720x360 with 1 Axes>"
            ]
          },
          "metadata": {
            "tags": [],
            "needs_background": "light"
          }
        }
      ]
    }
  ]
}