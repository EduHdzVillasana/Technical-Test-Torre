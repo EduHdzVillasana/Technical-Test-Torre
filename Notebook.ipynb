{
  "nbformat": 4,
  "nbformat_minor": 0,
  "metadata": {
    "language_info": {
      "codemirror_mode": {
        "name": "ipython",
        "version": 3
      },
      "file_extension": ".py",
      "mimetype": "text/x-python",
      "name": "python",
      "nbconvert_exporter": "python",
      "pygments_lexer": "ipython3",
      "version": "3.9.0"
    },
    "orig_nbformat": 2,
    "kernelspec": {
      "name": "python390jvsc74a57bd01f65e174391277f634e70871feaa21300658cb740b5dabfc689c4c43dbc10e3e",
      "display_name": "Python 3.9.0 64-bit"
    },
    "metadata": {
      "interpreter": {
        "hash": "1f65e174391277f634e70871feaa21300658cb740b5dabfc689c4c43dbc10e3e"
      }
    },
    "colab": {
      "name": "Notebook.ipynb",
      "provenance": [],
      "include_colab_link": true
    }
  },
  "cells": [
    {
      "cell_type": "markdown",
      "metadata": {
        "id": "view-in-github",
        "colab_type": "text"
      },
      "source": [
        "<a href=\"https://colab.research.google.com/github/EduHdzVillasana/Technical-Test-Torre/blob/main/Notebook.ipynb\" target=\"_parent\"><img src=\"https://colab.research.google.com/assets/colab-badge.svg\" alt=\"Open In Colab\"/></a>"
      ]
    },
    {
      "cell_type": "markdown",
      "metadata": {
        "id": "RGdWLwS3rhUN"
      },
      "source": [
        "# Technical Test Torre\n",
        "----\n",
        "*Eduardo Alan Hernandez Villasana*"
      ]
    },
    {
      "cell_type": "markdown",
      "metadata": {
        "id": "LjAScUkzrua5"
      },
      "source": [
        "## Data Extraction\n",
        "\n",
        "The data was extracted from [Data World](https://data.world/promptcloud/50000-job-board-records-from-reed-uk).\n",
        "\n",
        "Reed is one of the top employment agency based in the United Kingdom. This data set contains 50000 records of latest job postings on Reed UK.\n",
        "\n",
        "This data was extracted on March 13th 2018 and contains job postings from last 15 days. Following data fields are included in the dataset:\n",
        "\n",
        "* category\n",
        "* city\n",
        "* state\n",
        "* company name\n",
        "* job title\n",
        "* job description\n",
        "* job requirement\n",
        "* job type\n",
        "* salary offered\n",
        "* posting date"
      ]
    },
    {
      "cell_type": "code",
      "metadata": {
        "id": "QlYJ0BMDa1lU"
      },
      "source": [
        "# Libraries\n",
        "import pandas as pd\n",
        "import numpy as np\n",
        "import matplotlib.pyplot as plt\n",
        "import seaborn as sns"
      ],
      "execution_count": 9,
      "outputs": []
    },
    {
      "cell_type": "code",
      "metadata": {
        "id": "hruxMfpUa1lV"
      },
      "source": [
        "data_url = \"https://query.data.world/s/rut5pr5nm5i4onzlfp6xjgcsw3rvu4\"\n",
        "df_raw = pd.read_csv(data_url)"
      ],
      "execution_count": 10,
      "outputs": []
    },
    {
      "cell_type": "markdown",
      "metadata": {
        "id": "-7gRCxhhsscC"
      },
      "source": [
        "## Data Exploration"
      ]
    },
    {
      "cell_type": "code",
      "metadata": {
        "id": "1AZKRfZSa1lW",
        "outputId": "38f97a5d-895b-4630-d329-c4f9970717af",
        "colab": {
          "base_uri": "https://localhost:8080/",
          "height": 346
        }
      },
      "source": [
        "df_raw.sample(5)"
      ],
      "execution_count": 11,
      "outputs": [
        {
          "output_type": "execute_result",
          "data": {
            "text/html": [
              "<div>\n",
              "<style scoped>\n",
              "    .dataframe tbody tr th:only-of-type {\n",
              "        vertical-align: middle;\n",
              "    }\n",
              "\n",
              "    .dataframe tbody tr th {\n",
              "        vertical-align: top;\n",
              "    }\n",
              "\n",
              "    .dataframe thead th {\n",
              "        text-align: right;\n",
              "    }\n",
              "</style>\n",
              "<table border=\"1\" class=\"dataframe\">\n",
              "  <thead>\n",
              "    <tr style=\"text-align: right;\">\n",
              "      <th></th>\n",
              "      <th>category</th>\n",
              "      <th>city</th>\n",
              "      <th>company_name</th>\n",
              "      <th>geo</th>\n",
              "      <th>job_board</th>\n",
              "      <th>job_description</th>\n",
              "      <th>job_requirements</th>\n",
              "      <th>job_title</th>\n",
              "      <th>job_type</th>\n",
              "      <th>post_date</th>\n",
              "      <th>salary_offered</th>\n",
              "      <th>state</th>\n",
              "    </tr>\n",
              "  </thead>\n",
              "  <tbody>\n",
              "    <tr>\n",
              "      <th>29388</th>\n",
              "      <td>marketing jobs</td>\n",
              "      <td>Cardiff</td>\n",
              "      <td>Signet Resources</td>\n",
              "      <td>uk</td>\n",
              "      <td>reed</td>\n",
              "      <td>Apply now Exciting digital marketing opportun...</td>\n",
              "      <td>Required skills CRM Digital Marketing Marketi...</td>\n",
              "      <td>Digital Marketing E-Mail/Automation Manager</td>\n",
              "      <td>Permanent, full-time</td>\n",
              "      <td>3/11/2018</td>\n",
              "      <td>£30,000 - £35,000 per annum, negotiable, inc ...</td>\n",
              "      <td>South Glamorgan</td>\n",
              "    </tr>\n",
              "    <tr>\n",
              "      <th>14027</th>\n",
              "      <td>engineering jobs</td>\n",
              "      <td>North London</td>\n",
              "      <td>KBA Recruitment</td>\n",
              "      <td>uk</td>\n",
              "      <td>reed</td>\n",
              "      <td>Apply now Global Technology Company are recru...</td>\n",
              "      <td>Required skills ATMs Customer Service Enginee...</td>\n",
              "      <td>ATM Field Service Engineer - North London</td>\n",
              "      <td>Permanent, full-time</td>\n",
              "      <td>3/8/2018</td>\n",
              "      <td>£26,700 - £35,000 per annum</td>\n",
              "      <td>London</td>\n",
              "    </tr>\n",
              "    <tr>\n",
              "      <th>8758</th>\n",
              "      <td>logistics jobs</td>\n",
              "      <td>Huthwaite</td>\n",
              "      <td>Senior Salmon</td>\n",
              "      <td>uk</td>\n",
              "      <td>reed</td>\n",
              "      <td>Apply now We are looking on behalf of our cli...</td>\n",
              "      <td>NaN</td>\n",
              "      <td>Van Driver</td>\n",
              "      <td>Contract, full-time</td>\n",
              "      <td>3/9/2018</td>\n",
              "      <td>£7.50 - £8.21 per hour</td>\n",
              "      <td>Nottinghamshire</td>\n",
              "    </tr>\n",
              "    <tr>\n",
              "      <th>46384</th>\n",
              "      <td>banking jobs</td>\n",
              "      <td>City Of London</td>\n",
              "      <td>LMA</td>\n",
              "      <td>uk</td>\n",
              "      <td>reed</td>\n",
              "      <td>Apply now This is an exciting opportunity to ...</td>\n",
              "      <td>NaN</td>\n",
              "      <td>Operational Risk Manager</td>\n",
              "      <td>Contract, full-time</td>\n",
              "      <td>3/5/2018</td>\n",
              "      <td>£40,000 per annum</td>\n",
              "      <td>London</td>\n",
              "    </tr>\n",
              "    <tr>\n",
              "      <th>40678</th>\n",
              "      <td>admin secretarial pa jobs</td>\n",
              "      <td>Lichfield</td>\n",
              "      <td>Aprico Limited</td>\n",
              "      <td>uk</td>\n",
              "      <td>reed</td>\n",
              "      <td>Apply now We are looking for a dynamic indivi...</td>\n",
              "      <td>Required skills Administrative Booking Custom...</td>\n",
              "      <td>Administrator / Move Coordinator</td>\n",
              "      <td>Permanent, full-time</td>\n",
              "      <td>3/7/2018</td>\n",
              "      <td>Salary negotiable</td>\n",
              "      <td>Staffordshire</td>\n",
              "    </tr>\n",
              "  </tbody>\n",
              "</table>\n",
              "</div>"
            ],
            "text/plain": [
              "                        category  ...            state\n",
              "29388             marketing jobs  ...  South Glamorgan\n",
              "14027           engineering jobs  ...           London\n",
              "8758              logistics jobs  ...  Nottinghamshire\n",
              "46384               banking jobs  ...           London\n",
              "40678  admin secretarial pa jobs  ...    Staffordshire\n",
              "\n",
              "[5 rows x 12 columns]"
            ]
          },
          "metadata": {
            "tags": []
          },
          "execution_count": 11
        }
      ]
    },
    {
      "cell_type": "code",
      "metadata": {
        "id": "m6AvxcqKa1lW",
        "outputId": "bf23c8d8-56b2-4cf6-aab7-602831bb612d",
        "colab": {
          "base_uri": "https://localhost:8080/"
        }
      },
      "source": [
        "df_raw.dtypes"
      ],
      "execution_count": 12,
      "outputs": [
        {
          "output_type": "execute_result",
          "data": {
            "text/plain": [
              "category            object\n",
              "city                object\n",
              "company_name        object\n",
              "geo                 object\n",
              "job_board           object\n",
              "job_description     object\n",
              "job_requirements    object\n",
              "job_title           object\n",
              "job_type            object\n",
              "post_date           object\n",
              "salary_offered      object\n",
              "state               object\n",
              "dtype: object"
            ]
          },
          "metadata": {
            "tags": []
          },
          "execution_count": 12
        }
      ]
    },
    {
      "cell_type": "code",
      "metadata": {
        "id": "f8tqQXT_a1lW",
        "outputId": "723a99c7-bf2b-4a93-b8cf-3c8d621a5339",
        "colab": {
          "base_uri": "https://localhost:8080/"
        }
      },
      "source": [
        "df_raw.isnull().sum()"
      ],
      "execution_count": 13,
      "outputs": [
        {
          "output_type": "execute_result",
          "data": {
            "text/plain": [
              "category                0\n",
              "city                    0\n",
              "company_name            0\n",
              "geo                     0\n",
              "job_board               0\n",
              "job_description         0\n",
              "job_requirements    29452\n",
              "job_title               0\n",
              "job_type                0\n",
              "post_date               0\n",
              "salary_offered          0\n",
              "state                  20\n",
              "dtype: int64"
            ]
          },
          "metadata": {
            "tags": []
          },
          "execution_count": 13
        }
      ]
    },
    {
      "cell_type": "code",
      "metadata": {
        "id": "YKuLfVsva1lX",
        "outputId": "e729f894-c8cf-4d76-a181-b986429a1a6a",
        "colab": {
          "base_uri": "https://localhost:8080/"
        }
      },
      "source": [
        "df_raw.shape"
      ],
      "execution_count": 14,
      "outputs": [
        {
          "output_type": "execute_result",
          "data": {
            "text/plain": [
              "(50000, 12)"
            ]
          },
          "metadata": {
            "tags": []
          },
          "execution_count": 14
        }
      ]
    },
    {
      "cell_type": "code",
      "metadata": {
        "id": "dVrF6Fzba1lX",
        "outputId": "19e6daf3-5e46-4d0d-9f97-ee35b55175da",
        "colab": {
          "base_uri": "https://localhost:8080/",
          "height": 182
        }
      },
      "source": [
        "df_raw.describe()"
      ],
      "execution_count": 15,
      "outputs": [
        {
          "output_type": "execute_result",
          "data": {
            "text/html": [
              "<div>\n",
              "<style scoped>\n",
              "    .dataframe tbody tr th:only-of-type {\n",
              "        vertical-align: middle;\n",
              "    }\n",
              "\n",
              "    .dataframe tbody tr th {\n",
              "        vertical-align: top;\n",
              "    }\n",
              "\n",
              "    .dataframe thead th {\n",
              "        text-align: right;\n",
              "    }\n",
              "</style>\n",
              "<table border=\"1\" class=\"dataframe\">\n",
              "  <thead>\n",
              "    <tr style=\"text-align: right;\">\n",
              "      <th></th>\n",
              "      <th>category</th>\n",
              "      <th>city</th>\n",
              "      <th>company_name</th>\n",
              "      <th>geo</th>\n",
              "      <th>job_board</th>\n",
              "      <th>job_description</th>\n",
              "      <th>job_requirements</th>\n",
              "      <th>job_title</th>\n",
              "      <th>job_type</th>\n",
              "      <th>post_date</th>\n",
              "      <th>salary_offered</th>\n",
              "      <th>state</th>\n",
              "    </tr>\n",
              "  </thead>\n",
              "  <tbody>\n",
              "    <tr>\n",
              "      <th>count</th>\n",
              "      <td>50000</td>\n",
              "      <td>50000</td>\n",
              "      <td>50000</td>\n",
              "      <td>50000</td>\n",
              "      <td>50000</td>\n",
              "      <td>50000</td>\n",
              "      <td>20548</td>\n",
              "      <td>50000</td>\n",
              "      <td>50000</td>\n",
              "      <td>50000</td>\n",
              "      <td>50000</td>\n",
              "      <td>49980</td>\n",
              "    </tr>\n",
              "    <tr>\n",
              "      <th>unique</th>\n",
              "      <td>37</td>\n",
              "      <td>2918</td>\n",
              "      <td>5166</td>\n",
              "      <td>1</td>\n",
              "      <td>1</td>\n",
              "      <td>42057</td>\n",
              "      <td>14887</td>\n",
              "      <td>29155</td>\n",
              "      <td>9</td>\n",
              "      <td>66</td>\n",
              "      <td>7345</td>\n",
              "      <td>167</td>\n",
              "    </tr>\n",
              "    <tr>\n",
              "      <th>top</th>\n",
              "      <td>health jobs</td>\n",
              "      <td>London</td>\n",
              "      <td>Hays Specialist Recruitment Limited</td>\n",
              "      <td>uk</td>\n",
              "      <td>reed</td>\n",
              "      <td>Apply on employer's website Add an annual tur...</td>\n",
              "      <td>Required skills Recruitment</td>\n",
              "      <td>Administrator</td>\n",
              "      <td>Permanent, full-time</td>\n",
              "      <td>3/7/2018</td>\n",
              "      <td>Salary negotiable</td>\n",
              "      <td>London</td>\n",
              "    </tr>\n",
              "    <tr>\n",
              "      <th>freq</th>\n",
              "      <td>1930</td>\n",
              "      <td>4349</td>\n",
              "      <td>1830</td>\n",
              "      <td>50000</td>\n",
              "      <td>50000</td>\n",
              "      <td>85</td>\n",
              "      <td>123</td>\n",
              "      <td>162</td>\n",
              "      <td>36864</td>\n",
              "      <td>8472</td>\n",
              "      <td>4539</td>\n",
              "      <td>5900</td>\n",
              "    </tr>\n",
              "  </tbody>\n",
              "</table>\n",
              "</div>"
            ],
            "text/plain": [
              "           category    city  ...       salary_offered   state\n",
              "count         50000   50000  ...                50000   49980\n",
              "unique           37    2918  ...                 7345     167\n",
              "top     health jobs  London  ...   Salary negotiable   London\n",
              "freq           1930    4349  ...                 4539    5900\n",
              "\n",
              "[4 rows x 12 columns]"
            ]
          },
          "metadata": {
            "tags": []
          },
          "execution_count": 15
        }
      ]
    },
    {
      "cell_type": "code",
      "metadata": {
        "id": "ZW7MjEGJvU_j",
        "outputId": "2c8a56be-253f-431f-b55e-d4e0a31cd601",
        "colab": {
          "base_uri": "https://localhost:8080/"
        }
      },
      "source": [
        "df_raw[\"city\"].sort_values().unique()[[937,1012]]"
      ],
      "execution_count": 52,
      "outputs": [
        {
          "output_type": "execute_result",
          "data": {
            "text/plain": [
              "array(['FRANKFURT', 'Frankfurt'], dtype=object)"
            ]
          },
          "metadata": {
            "tags": []
          },
          "execution_count": 52
        }
      ]
    },
    {
      "cell_type": "code",
      "metadata": {
        "id": "qKwAzG-e108o",
        "outputId": "ba8be870-ea38-433e-aa54-88805aed9695",
        "colab": {
          "base_uri": "https://localhost:8080/"
        }
      },
      "source": [
        "df_raw[\"job_type\"].unique()"
      ],
      "execution_count": 62,
      "outputs": [
        {
          "output_type": "execute_result",
          "data": {
            "text/plain": [
              "array(['Permanent, full-time', 'Permanent, full-time or part-time',\n",
              "       'Permanent, part-time', 'Contract, full-time',\n",
              "       'Temporary, part-time', 'Temporary, full-time or part-time',\n",
              "       'Temporary, full-time', 'Contract, full-time or part-time',\n",
              "       'Contract, part-time'], dtype=object)"
            ]
          },
          "metadata": {
            "tags": []
          },
          "execution_count": 62
        }
      ]
    },
    {
      "cell_type": "markdown",
      "metadata": {
        "id": "CP8T8dyju9vw"
      },
      "source": [
        "## Data Cleaning\n",
        "* The `geo` and `job_board` columns will be dropped because they have only one unique value in all rows.\n",
        "* Transform to lower case the cities and states because some cities or states are repeated but some with uper case or lower case.\n",
        "* Get kew words in `job_requirements` to get a list of requirements."
      ]
    },
    {
      "cell_type": "markdown",
      "metadata": {
        "id": "yOSewAIV237c"
      },
      "source": [
        "### Dropping unnecessary columns"
      ]
    },
    {
      "cell_type": "code",
      "metadata": {
        "id": "oy60jQofu_UW"
      },
      "source": [
        "df = df_raw.drop(columns = [\"geo\",\"job_board\"], axis = 1)"
      ],
      "execution_count": 53,
      "outputs": []
    },
    {
      "cell_type": "markdown",
      "metadata": {
        "id": "X41P9pzk3Bpe"
      },
      "source": [
        "### Transforming string columns to lower case."
      ]
    },
    {
      "cell_type": "code",
      "metadata": {
        "id": "twabNjx-y_xs"
      },
      "source": [
        "df[\"city\"] = df[\"city\"].str.lower()\n",
        "df[\"state\"] = df[\"state\"].str.lower()\n",
        "df[\"job_requirements\"] = df[\"job_requirements\"].str.lower()\n",
        "df[\"job_title\"] = df[\"job_title\"].str.lower()\n",
        "df[\"company_name\"] = df[\"company_name\"].str.lower()\n",
        "df[\"category\"] = df[\"category\"].str.lower()"
      ],
      "execution_count": 59,
      "outputs": []
    },
    {
      "cell_type": "code",
      "metadata": {
        "id": "ycsyW5A61jix",
        "outputId": "5d56cd3e-7c92-4303-f957-1a3ed5c1d694",
        "colab": {
          "base_uri": "https://localhost:8080/"
        }
      },
      "source": [
        "len(df[df[\"salary_offered\"] == \" Salary not specified \"])"
      ],
      "execution_count": 70,
      "outputs": [
        {
          "output_type": "execute_result",
          "data": {
            "text/plain": [
              "317"
            ]
          },
          "metadata": {
            "tags": []
          },
          "execution_count": 70
        }
      ]
    },
    {
      "cell_type": "code",
      "metadata": {
        "id": "1RV9VOcu2sYj"
      },
      "source": [
        "df[\"salary_offered\"] = df[\"salary_offered\"].str.strip()"
      ],
      "execution_count": 71,
      "outputs": []
    },
    {
      "cell_type": "code",
      "metadata": {
        "id": "it2m08rg2xta",
        "outputId": "be96da43-94ea-4f77-dc3a-44f671e5a2a0",
        "colab": {
          "base_uri": "https://localhost:8080/"
        }
      },
      "source": [
        "len(df[df[\"salary_offered\"] == \"Salary not specified\"])"
      ],
      "execution_count": 73,
      "outputs": [
        {
          "output_type": "execute_result",
          "data": {
            "text/plain": [
              "317"
            ]
          },
          "metadata": {
            "tags": []
          },
          "execution_count": 73
        }
      ]
    },
    {
      "cell_type": "markdown",
      "metadata": {
        "id": "zTEaBTKW3PLk"
      },
      "source": [
        "### Getting key words of `job_requirements` "
      ]
    },
    {
      "cell_type": "code",
      "metadata": {
        "id": "4WKiJ7Sj3YwU",
        "outputId": "6e2d25a7-db69-4800-e184-0f59e2579716",
        "colab": {
          "base_uri": "https://localhost:8080/"
        }
      },
      "source": [
        "df[\"job_requirements\"].sample(3)"
      ],
      "execution_count": 74,
      "outputs": [
        {
          "output_type": "execute_result",
          "data": {
            "text/plain": [
              "19511     required skills hardworking communicative eng...\n",
              "37498                                                  NaN\n",
              "15284     required skills administrative calls communic...\n",
              "Name: job_requirements, dtype: object"
            ]
          },
          "metadata": {
            "tags": []
          },
          "execution_count": 74
        }
      ]
    },
    {
      "cell_type": "markdown",
      "metadata": {
        "id": "cGM888iA4dxX"
      },
      "source": [
        "\"required skills* is repeated in all non NaN rows"
      ]
    },
    {
      "cell_type": "code",
      "metadata": {
        "id": "_movVTvY4l0n"
      },
      "source": [
        "df[\"job_requirements\"] = df[\"job_requirements\"].str.re"
      ],
      "execution_count": null,
      "outputs": []
    }
  ]
}