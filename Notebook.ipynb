{
  "nbformat": 4,
  "nbformat_minor": 0,
  "metadata": {
    "language_info": {
      "codemirror_mode": {
        "name": "ipython",
        "version": 3
      },
      "file_extension": ".py",
      "mimetype": "text/x-python",
      "name": "python",
      "nbconvert_exporter": "python",
      "pygments_lexer": "ipython3",
      "version": "3.9.0"
    },
    "orig_nbformat": 2,
    "kernelspec": {
      "name": "python390jvsc74a57bd01f65e174391277f634e70871feaa21300658cb740b5dabfc689c4c43dbc10e3e",
      "display_name": "Python 3.9.0 64-bit"
    },
    "metadata": {
      "interpreter": {
        "hash": "1f65e174391277f634e70871feaa21300658cb740b5dabfc689c4c43dbc10e3e"
      }
    },
    "colab": {
      "name": "Notebook.ipynb",
      "provenance": [],
      "include_colab_link": true
    }
  },
  "cells": [
    {
      "cell_type": "markdown",
      "metadata": {
        "id": "view-in-github",
        "colab_type": "text"
      },
      "source": [
        "<a href=\"https://colab.research.google.com/github/EduHdzVillasana/Technical-Test-Torre/blob/main/Notebook.ipynb\" target=\"_parent\"><img src=\"https://colab.research.google.com/assets/colab-badge.svg\" alt=\"Open In Colab\"/></a>"
      ]
    },
    {
      "cell_type": "markdown",
      "metadata": {
        "id": "RGdWLwS3rhUN"
      },
      "source": [
        "# Technical Test Torre\n",
        "----\n",
        "*Eduardo Alan Hernandez Villasana*"
      ]
    },
    {
      "cell_type": "markdown",
      "metadata": {
        "id": "LjAScUkzrua5"
      },
      "source": [
        "## Data Extraction\n",
        "\n",
        "The data was extracted from [Data World](https://data.world/promptcloud/50000-job-board-records-from-reed-uk).\n",
        "\n",
        "Reed is one of the top employment agency based in the United Kingdom. This data set contains 50000 records of latest job postings on Reed UK.\n",
        "\n",
        "This data was extracted on March 13th 2018 and contains job postings from last 15 days. Following data fields are included in the dataset:\n",
        "\n",
        "* category\n",
        "* city\n",
        "* state\n",
        "* company name\n",
        "* job title\n",
        "* job description\n",
        "* job requirement\n",
        "* job type\n",
        "* salary offered\n",
        "* posting date"
      ]
    },
    {
      "cell_type": "code",
      "metadata": {
        "id": "QlYJ0BMDa1lU"
      },
      "source": [
        "# Libraries\n",
        "import pandas as pd\n",
        "import numpy as np\n",
        "import matplotlib.pyplot as plt\n",
        "import seaborn as sns"
      ],
      "execution_count": 1,
      "outputs": []
    },
    {
      "cell_type": "code",
      "metadata": {
        "id": "hruxMfpUa1lV"
      },
      "source": [
        "data_url = \"https://query.data.world/s/rut5pr5nm5i4onzlfp6xjgcsw3rvu4\"\n",
        "df_raw = pd.read_csv(data_url)"
      ],
      "execution_count": 2,
      "outputs": []
    },
    {
      "cell_type": "markdown",
      "metadata": {
        "id": "-7gRCxhhsscC"
      },
      "source": [
        "## Data Exploration"
      ]
    },
    {
      "cell_type": "code",
      "metadata": {
        "id": "1AZKRfZSa1lW",
        "colab": {
          "base_uri": "https://localhost:8080/",
          "height": 380
        },
        "outputId": "5c1f6e6c-ff66-44a1-b475-b5f55bd6aebf"
      },
      "source": [
        "df_raw.sample(5)"
      ],
      "execution_count": 3,
      "outputs": [
        {
          "output_type": "execute_result",
          "data": {
            "text/html": [
              "<div>\n",
              "<style scoped>\n",
              "    .dataframe tbody tr th:only-of-type {\n",
              "        vertical-align: middle;\n",
              "    }\n",
              "\n",
              "    .dataframe tbody tr th {\n",
              "        vertical-align: top;\n",
              "    }\n",
              "\n",
              "    .dataframe thead th {\n",
              "        text-align: right;\n",
              "    }\n",
              "</style>\n",
              "<table border=\"1\" class=\"dataframe\">\n",
              "  <thead>\n",
              "    <tr style=\"text-align: right;\">\n",
              "      <th></th>\n",
              "      <th>category</th>\n",
              "      <th>city</th>\n",
              "      <th>company_name</th>\n",
              "      <th>geo</th>\n",
              "      <th>job_board</th>\n",
              "      <th>job_description</th>\n",
              "      <th>job_requirements</th>\n",
              "      <th>job_title</th>\n",
              "      <th>job_type</th>\n",
              "      <th>post_date</th>\n",
              "      <th>salary_offered</th>\n",
              "      <th>state</th>\n",
              "    </tr>\n",
              "  </thead>\n",
              "  <tbody>\n",
              "    <tr>\n",
              "      <th>11494</th>\n",
              "      <td>recruitment consultancy jobs</td>\n",
              "      <td>Birmingham</td>\n",
              "      <td>Amanda Wright Recruitment</td>\n",
              "      <td>uk</td>\n",
              "      <td>reed</td>\n",
              "      <td>Apply now Education Recruitment Consultant Bi...</td>\n",
              "      <td>NaN</td>\n",
              "      <td>Education Recruitment Consultant</td>\n",
              "      <td>Permanent, full-time</td>\n",
              "      <td>3/8/2018</td>\n",
              "      <td>£25,000 - £35,000 per annum, negotiable</td>\n",
              "      <td>West Midlands</td>\n",
              "    </tr>\n",
              "    <tr>\n",
              "      <th>27956</th>\n",
              "      <td>hr jobs</td>\n",
              "      <td>Woodley</td>\n",
              "      <td>Mabella Recruitment</td>\n",
              "      <td>uk</td>\n",
              "      <td>reed</td>\n",
              "      <td>Apply now HR Assistant / HR Administrator Woo...</td>\n",
              "      <td>Required skills Administrative Support Contra...</td>\n",
              "      <td>HR Admin / HR Assistant</td>\n",
              "      <td>Permanent, full-time</td>\n",
              "      <td>3/6/2018</td>\n",
              "      <td>£18,000 - £23,000 per annum</td>\n",
              "      <td>Berkshire</td>\n",
              "    </tr>\n",
              "    <tr>\n",
              "      <th>28270</th>\n",
              "      <td>estate agent jobs</td>\n",
              "      <td>Bromley</td>\n",
              "      <td>10Ten Recruitment</td>\n",
              "      <td>uk</td>\n",
              "      <td>reed</td>\n",
              "      <td>Apply now This is a fantastic opportunity to ...</td>\n",
              "      <td>Required skills Experienced Property Manager</td>\n",
              "      <td>Property Manager</td>\n",
              "      <td>Permanent, full-time</td>\n",
              "      <td>2/26/2018</td>\n",
              "      <td>£22,000 - £26,000 per annum</td>\n",
              "      <td>Kent</td>\n",
              "    </tr>\n",
              "    <tr>\n",
              "      <th>21821</th>\n",
              "      <td>fmcg jobs</td>\n",
              "      <td>East London</td>\n",
              "      <td>Lime Talent Ltd</td>\n",
              "      <td>uk</td>\n",
              "      <td>reed</td>\n",
              "      <td>Apply now This is a field based role, so cand...</td>\n",
              "      <td>NaN</td>\n",
              "      <td>Key Account Manager- Drinks- East London</td>\n",
              "      <td>Permanent, full-time</td>\n",
              "      <td>2/28/2018</td>\n",
              "      <td>£28,000 - £35,000 per annum</td>\n",
              "      <td>London</td>\n",
              "    </tr>\n",
              "    <tr>\n",
              "      <th>723</th>\n",
              "      <td>retail jobs</td>\n",
              "      <td>Stockport</td>\n",
              "      <td>Zachary Daniels</td>\n",
              "      <td>uk</td>\n",
              "      <td>reed</td>\n",
              "      <td>Apply now We are exclusively recruiting for P...</td>\n",
              "      <td>NaN</td>\n",
              "      <td>Sales Assistant - NEW SHOWROOM</td>\n",
              "      <td>Permanent, full-time</td>\n",
              "      <td>3/6/2018</td>\n",
              "      <td>£8.00 - £9.00 per hour</td>\n",
              "      <td>Cheshire</td>\n",
              "    </tr>\n",
              "  </tbody>\n",
              "</table>\n",
              "</div>"
            ],
            "text/plain": [
              "                           category  ...          state\n",
              "11494  recruitment consultancy jobs  ...  West Midlands\n",
              "27956                       hr jobs  ...      Berkshire\n",
              "28270             estate agent jobs  ...           Kent\n",
              "21821                     fmcg jobs  ...         London\n",
              "723                     retail jobs  ...       Cheshire\n",
              "\n",
              "[5 rows x 12 columns]"
            ]
          },
          "metadata": {
            "tags": []
          },
          "execution_count": 3
        }
      ]
    },
    {
      "cell_type": "code",
      "metadata": {
        "id": "m6AvxcqKa1lW",
        "colab": {
          "base_uri": "https://localhost:8080/"
        },
        "outputId": "c31eac71-f65a-4388-8dd4-70a2d9dc4efd"
      },
      "source": [
        "df_raw.dtypes"
      ],
      "execution_count": 4,
      "outputs": [
        {
          "output_type": "execute_result",
          "data": {
            "text/plain": [
              "category            object\n",
              "city                object\n",
              "company_name        object\n",
              "geo                 object\n",
              "job_board           object\n",
              "job_description     object\n",
              "job_requirements    object\n",
              "job_title           object\n",
              "job_type            object\n",
              "post_date           object\n",
              "salary_offered      object\n",
              "state               object\n",
              "dtype: object"
            ]
          },
          "metadata": {
            "tags": []
          },
          "execution_count": 4
        }
      ]
    },
    {
      "cell_type": "code",
      "metadata": {
        "id": "f8tqQXT_a1lW",
        "colab": {
          "base_uri": "https://localhost:8080/"
        },
        "outputId": "b2a41821-f103-400d-b9ba-c522e5c6caee"
      },
      "source": [
        "df_raw.isnull().sum()"
      ],
      "execution_count": 5,
      "outputs": [
        {
          "output_type": "execute_result",
          "data": {
            "text/plain": [
              "category                0\n",
              "city                    0\n",
              "company_name            0\n",
              "geo                     0\n",
              "job_board               0\n",
              "job_description         0\n",
              "job_requirements    29452\n",
              "job_title               0\n",
              "job_type                0\n",
              "post_date               0\n",
              "salary_offered          0\n",
              "state                  20\n",
              "dtype: int64"
            ]
          },
          "metadata": {
            "tags": []
          },
          "execution_count": 5
        }
      ]
    },
    {
      "cell_type": "code",
      "metadata": {
        "id": "YKuLfVsva1lX",
        "colab": {
          "base_uri": "https://localhost:8080/"
        },
        "outputId": "1e80f9ce-bfd5-49a1-8abc-958a32709bd4"
      },
      "source": [
        "df_raw.shape"
      ],
      "execution_count": 6,
      "outputs": [
        {
          "output_type": "execute_result",
          "data": {
            "text/plain": [
              "(50000, 12)"
            ]
          },
          "metadata": {
            "tags": []
          },
          "execution_count": 6
        }
      ]
    },
    {
      "cell_type": "code",
      "metadata": {
        "id": "dVrF6Fzba1lX",
        "colab": {
          "base_uri": "https://localhost:8080/",
          "height": 182
        },
        "outputId": "0027cbe0-0f8f-481a-9472-0c4baa2ba5ed"
      },
      "source": [
        "df_raw.describe()"
      ],
      "execution_count": 7,
      "outputs": [
        {
          "output_type": "execute_result",
          "data": {
            "text/html": [
              "<div>\n",
              "<style scoped>\n",
              "    .dataframe tbody tr th:only-of-type {\n",
              "        vertical-align: middle;\n",
              "    }\n",
              "\n",
              "    .dataframe tbody tr th {\n",
              "        vertical-align: top;\n",
              "    }\n",
              "\n",
              "    .dataframe thead th {\n",
              "        text-align: right;\n",
              "    }\n",
              "</style>\n",
              "<table border=\"1\" class=\"dataframe\">\n",
              "  <thead>\n",
              "    <tr style=\"text-align: right;\">\n",
              "      <th></th>\n",
              "      <th>category</th>\n",
              "      <th>city</th>\n",
              "      <th>company_name</th>\n",
              "      <th>geo</th>\n",
              "      <th>job_board</th>\n",
              "      <th>job_description</th>\n",
              "      <th>job_requirements</th>\n",
              "      <th>job_title</th>\n",
              "      <th>job_type</th>\n",
              "      <th>post_date</th>\n",
              "      <th>salary_offered</th>\n",
              "      <th>state</th>\n",
              "    </tr>\n",
              "  </thead>\n",
              "  <tbody>\n",
              "    <tr>\n",
              "      <th>count</th>\n",
              "      <td>50000</td>\n",
              "      <td>50000</td>\n",
              "      <td>50000</td>\n",
              "      <td>50000</td>\n",
              "      <td>50000</td>\n",
              "      <td>50000</td>\n",
              "      <td>20548</td>\n",
              "      <td>50000</td>\n",
              "      <td>50000</td>\n",
              "      <td>50000</td>\n",
              "      <td>50000</td>\n",
              "      <td>49980</td>\n",
              "    </tr>\n",
              "    <tr>\n",
              "      <th>unique</th>\n",
              "      <td>37</td>\n",
              "      <td>2918</td>\n",
              "      <td>5166</td>\n",
              "      <td>1</td>\n",
              "      <td>1</td>\n",
              "      <td>42057</td>\n",
              "      <td>14887</td>\n",
              "      <td>29155</td>\n",
              "      <td>9</td>\n",
              "      <td>66</td>\n",
              "      <td>7345</td>\n",
              "      <td>167</td>\n",
              "    </tr>\n",
              "    <tr>\n",
              "      <th>top</th>\n",
              "      <td>health jobs</td>\n",
              "      <td>London</td>\n",
              "      <td>Hays Specialist Recruitment Limited</td>\n",
              "      <td>uk</td>\n",
              "      <td>reed</td>\n",
              "      <td>Apply on employer's website Add an annual tur...</td>\n",
              "      <td>Required skills Recruitment</td>\n",
              "      <td>Administrator</td>\n",
              "      <td>Permanent, full-time</td>\n",
              "      <td>3/7/2018</td>\n",
              "      <td>Salary negotiable</td>\n",
              "      <td>London</td>\n",
              "    </tr>\n",
              "    <tr>\n",
              "      <th>freq</th>\n",
              "      <td>1930</td>\n",
              "      <td>4349</td>\n",
              "      <td>1830</td>\n",
              "      <td>50000</td>\n",
              "      <td>50000</td>\n",
              "      <td>85</td>\n",
              "      <td>123</td>\n",
              "      <td>162</td>\n",
              "      <td>36864</td>\n",
              "      <td>8472</td>\n",
              "      <td>4539</td>\n",
              "      <td>5900</td>\n",
              "    </tr>\n",
              "  </tbody>\n",
              "</table>\n",
              "</div>"
            ],
            "text/plain": [
              "           category    city  ...       salary_offered   state\n",
              "count         50000   50000  ...                50000   49980\n",
              "unique           37    2918  ...                 7345     167\n",
              "top     health jobs  London  ...   Salary negotiable   London\n",
              "freq           1930    4349  ...                 4539    5900\n",
              "\n",
              "[4 rows x 12 columns]"
            ]
          },
          "metadata": {
            "tags": []
          },
          "execution_count": 7
        }
      ]
    },
    {
      "cell_type": "code",
      "metadata": {
        "id": "ZW7MjEGJvU_j",
        "colab": {
          "base_uri": "https://localhost:8080/"
        },
        "outputId": "07c019a8-9f5b-432f-de9a-4ef0743441e1"
      },
      "source": [
        "df_raw[\"city\"].sort_values().unique()[[937,1012]]"
      ],
      "execution_count": 8,
      "outputs": [
        {
          "output_type": "execute_result",
          "data": {
            "text/plain": [
              "array(['FRANKFURT', 'Frankfurt'], dtype=object)"
            ]
          },
          "metadata": {
            "tags": []
          },
          "execution_count": 8
        }
      ]
    },
    {
      "cell_type": "code",
      "metadata": {
        "id": "qKwAzG-e108o",
        "colab": {
          "base_uri": "https://localhost:8080/"
        },
        "outputId": "bc8b86ca-9dec-4dbf-c1b7-c3d3d28242ab"
      },
      "source": [
        "df_raw[\"job_type\"].unique()"
      ],
      "execution_count": 9,
      "outputs": [
        {
          "output_type": "execute_result",
          "data": {
            "text/plain": [
              "array(['Permanent, full-time', 'Permanent, full-time or part-time',\n",
              "       'Permanent, part-time', 'Contract, full-time',\n",
              "       'Temporary, part-time', 'Temporary, full-time or part-time',\n",
              "       'Temporary, full-time', 'Contract, full-time or part-time',\n",
              "       'Contract, part-time'], dtype=object)"
            ]
          },
          "metadata": {
            "tags": []
          },
          "execution_count": 9
        }
      ]
    },
    {
      "cell_type": "markdown",
      "metadata": {
        "id": "CP8T8dyju9vw"
      },
      "source": [
        "## Data Cleaning\n",
        "* The `geo` and `job_board` columns will be dropped because they have only one unique value in all rows.\n",
        "* Transform to lower case the cities and states because some cities or states are repeated but some with uper case or lower case.\n",
        "* Get kew words in `job_requirements` to get a list of requirements."
      ]
    },
    {
      "cell_type": "markdown",
      "metadata": {
        "id": "yOSewAIV237c"
      },
      "source": [
        "### Dropping unnecessary columns"
      ]
    },
    {
      "cell_type": "code",
      "metadata": {
        "id": "oy60jQofu_UW"
      },
      "source": [
        "df = df_raw.drop(columns = [\"geo\",\"job_board\"], axis = 1)"
      ],
      "execution_count": 10,
      "outputs": []
    },
    {
      "cell_type": "markdown",
      "metadata": {
        "id": "X41P9pzk3Bpe"
      },
      "source": [
        "### Transforming string columns to lower case."
      ]
    },
    {
      "cell_type": "code",
      "metadata": {
        "id": "twabNjx-y_xs"
      },
      "source": [
        "df[\"city\"] = df[\"city\"].str.lower()\n",
        "df[\"state\"] = df[\"state\"].str.lower()\n",
        "df[\"job_requirements\"] = df[\"job_requirements\"].str.lower()\n",
        "df[\"job_title\"] = df[\"job_title\"].str.lower()\n",
        "df[\"company_name\"] = df[\"company_name\"].str.lower()\n",
        "df[\"category\"] = df[\"category\"].str.lower()"
      ],
      "execution_count": 11,
      "outputs": []
    },
    {
      "cell_type": "code",
      "metadata": {
        "id": "ycsyW5A61jix",
        "colab": {
          "base_uri": "https://localhost:8080/"
        },
        "outputId": "5aea0438-ff3d-4004-f717-487e60562567"
      },
      "source": [
        "len(df[df[\"salary_offered\"] == \" Salary not specified \"])"
      ],
      "execution_count": 12,
      "outputs": [
        {
          "output_type": "execute_result",
          "data": {
            "text/plain": [
              "317"
            ]
          },
          "metadata": {
            "tags": []
          },
          "execution_count": 12
        }
      ]
    },
    {
      "cell_type": "code",
      "metadata": {
        "id": "1RV9VOcu2sYj"
      },
      "source": [
        "df[\"salary_offered\"] = df[\"salary_offered\"].str.strip()"
      ],
      "execution_count": 13,
      "outputs": []
    },
    {
      "cell_type": "code",
      "metadata": {
        "id": "it2m08rg2xta",
        "colab": {
          "base_uri": "https://localhost:8080/"
        },
        "outputId": "6fd2d201-ffcb-4cce-9242-ab436612ff33"
      },
      "source": [
        "len(df[df[\"salary_offered\"] == \"Salary not specified\"])"
      ],
      "execution_count": 14,
      "outputs": [
        {
          "output_type": "execute_result",
          "data": {
            "text/plain": [
              "317"
            ]
          },
          "metadata": {
            "tags": []
          },
          "execution_count": 14
        }
      ]
    },
    {
      "cell_type": "markdown",
      "metadata": {
        "id": "zTEaBTKW3PLk"
      },
      "source": [
        "### Getting key words of `job_requirements` "
      ]
    },
    {
      "cell_type": "code",
      "metadata": {
        "id": "4WKiJ7Sj3YwU",
        "colab": {
          "base_uri": "https://localhost:8080/"
        },
        "outputId": "cf862343-f9be-4a07-d1ae-bef64d3d755f"
      },
      "source": [
        "df[\"job_requirements\"].sample(3)"
      ],
      "execution_count": 17,
      "outputs": [
        {
          "output_type": "execute_result",
          "data": {
            "text/plain": [
              "10058                                                  NaN\n",
              "11684                                                  NaN\n",
              "32816     required skills rgn senior dementia staff nur...\n",
              "Name: job_requirements, dtype: object"
            ]
          },
          "metadata": {
            "tags": []
          },
          "execution_count": 17
        }
      ]
    },
    {
      "cell_type": "markdown",
      "metadata": {
        "id": "cGM888iA4dxX"
      },
      "source": [
        "\"required skills* is repeated in all non NaN rows"
      ]
    },
    {
      "cell_type": "code",
      "metadata": {
        "id": "_movVTvY4l0n"
      },
      "source": [
        "df[\"job_requirements\"] = df[\"job_requirements\"].str.replace(\"required skills \",\"\")"
      ],
      "execution_count": 18,
      "outputs": []
    },
    {
      "cell_type": "code",
      "metadata": {
        "id": "wvjOMsQMEjXa",
        "outputId": "579ae50b-f9bb-464f-f83a-50ae8b55d2ed",
        "colab": {
          "base_uri": "https://localhost:8080/"
        }
      },
      "source": [
        "df[\"job_requirements\"].sample(5)"
      ],
      "execution_count": 19,
      "outputs": [
        {
          "output_type": "execute_result",
          "data": {
            "text/plain": [
              "21053                                                  NaN\n",
              "12434     branch manager recruitment consultant interna...\n",
              "10237                                                  NaN\n",
              "44285                    eyfs teacher early years teacher \n",
              "24617                                                  NaN\n",
              "Name: job_requirements, dtype: object"
            ]
          },
          "metadata": {
            "tags": []
          },
          "execution_count": 19
        }
      ]
    },
    {
      "cell_type": "code",
      "metadata": {
        "id": "jlQy_iHWFQBY",
        "outputId": "b445ccd3-6d1c-4cf6-a0c7-6dc95397f9a7",
        "colab": {
          "base_uri": "https://localhost:8080/"
        }
      },
      "source": [
        "import nltk\n",
        "nltk.download('punkt')\n",
        "nltk.download('stopwords')\n",
        "import re\n",
        "from nltk.corpus import stopwords"
      ],
      "execution_count": 21,
      "outputs": [
        {
          "output_type": "stream",
          "text": [
            "[nltk_data] Downloading package punkt to /root/nltk_data...\n",
            "[nltk_data]   Unzipping tokenizers/punkt.zip.\n",
            "[nltk_data] Downloading package stopwords to /root/nltk_data...\n",
            "[nltk_data]   Unzipping corpora/stopwords.zip.\n"
          ],
          "name": "stdout"
        }
      ]
    },
    {
      "cell_type": "code",
      "metadata": {
        "id": "VkhAxbJfG6oS"
      },
      "source": [
        "df[\"job_requirements\"] = df[\"job_requirements\"].fillna(\"Unrequirement\")"
      ],
      "execution_count": 23,
      "outputs": []
    },
    {
      "cell_type": "code",
      "metadata": {
        "id": "pKb_4nBUHsbh",
        "outputId": "74ab7469-e218-4f2b-a77c-bb1ebffa7881",
        "colab": {
          "base_uri": "https://localhost:8080/"
        }
      },
      "source": [
        "df[\"job_requirements\"].sample(5)"
      ],
      "execution_count": 26,
      "outputs": [
        {
          "output_type": "execute_result",
          "data": {
            "text/plain": [
              "681                                          Unrequirement\n",
              "19129     sia reception patrols distribution gatehouse ...\n",
              "10844                              clinical nurse nursing \n",
              "30793                                        Unrequirement\n",
              "11473                                        Unrequirement\n",
              "Name: job_requirements, dtype: object"
            ]
          },
          "metadata": {
            "tags": []
          },
          "execution_count": 26
        }
      ]
    },
    {
      "cell_type": "code",
      "metadata": {
        "id": "8pgrueiXGenR"
      },
      "source": [
        "df_req = df[\"job_requirements\"]\n",
        "df_req = df_req.str.lower()\n",
        "df_req = df_req.str.strip()\n",
        "df_req = df_req.str.replace('[^\\w\\s]', '')\n",
        "df_req = df_req.str.replace('\\d', '')\n",
        "df_req = df_req.str.replace('\\\\n', '')"
      ],
      "execution_count": 27,
      "outputs": []
    },
    {
      "cell_type": "code",
      "metadata": {
        "id": "AJanpIAhH_63",
        "outputId": "230676dc-0a46-448b-dcc5-51024764769e",
        "colab": {
          "base_uri": "https://localhost:8080/"
        }
      },
      "source": [
        "df_req.sample(3)"
      ],
      "execution_count": 28,
      "outputs": [
        {
          "output_type": "execute_result",
          "data": {
            "text/plain": [
              "39535    loans operations administration regulatory sta...\n",
              "20062    finance fundraising legal management marketing...\n",
              "1946                                                    hr\n",
              "Name: job_requirements, dtype: object"
            ]
          },
          "metadata": {
            "tags": []
          },
          "execution_count": 28
        }
      ]
    },
    {
      "cell_type": "code",
      "metadata": {
        "id": "0tp87kpaIB5H"
      },
      "source": [
        "tokenized = df_req.apply(nltk.word_tokenize)"
      ],
      "execution_count": 29,
      "outputs": []
    },
    {
      "cell_type": "code",
      "metadata": {
        "id": "TeyHlEHcIYxw",
        "outputId": "2bb76e6b-9fbc-4c10-db48-276de88149a3",
        "colab": {
          "base_uri": "https://localhost:8080/"
        }
      },
      "source": [
        "tokenized.sample(5)"
      ],
      "execution_count": 30,
      "outputs": [
        {
          "output_type": "execute_result",
          "data": {
            "text/plain": [
              "37899                                      [unrequirement]\n",
              "21324    [spa, beauty, therapy, massage, spa, therapist...\n",
              "22847    [vna, flt, counter, balance, counterbalance, f...\n",
              "2855                                       [unrequirement]\n",
              "47860    [body, communication, contract, management, co...\n",
              "Name: job_requirements, dtype: object"
            ]
          },
          "metadata": {
            "tags": []
          },
          "execution_count": 30
        }
      ]
    },
    {
      "cell_type": "code",
      "metadata": {
        "id": "x0pvHkAfIT38"
      },
      "source": [
        "all_words = tokenized.sum()"
      ],
      "execution_count": 31,
      "outputs": []
    },
    {
      "cell_type": "code",
      "metadata": {
        "id": "eOeDSY8DJBtl"
      },
      "source": [
        "english_stop_words = stopwords.words('english')\n",
        "all_words_except_stop_words = [word for word in all_words if word not in english_stop_words]"
      ],
      "execution_count": 32,
      "outputs": []
    },
    {
      "cell_type": "code",
      "metadata": {
        "id": "d4mU11fDJHI9",
        "outputId": "9580fd0e-b192-4896-a424-e1dc4c28464b",
        "colab": {
          "base_uri": "https://localhost:8080/"
        }
      },
      "source": [
        "len(all_words_except_stop_words)"
      ],
      "execution_count": 35,
      "outputs": [
        {
          "output_type": "execute_result",
          "data": {
            "text/plain": [
              "180812"
            ]
          },
          "metadata": {
            "tags": []
          },
          "execution_count": 35
        }
      ]
    },
    {
      "cell_type": "code",
      "metadata": {
        "id": "XGwsiLxjJWrN",
        "outputId": "9fbf7784-80dd-4df8-d91f-d445ad8b712f",
        "colab": {
          "base_uri": "https://localhost:8080/",
          "height": 178
        }
      },
      "source": [
        "most_common_20 = np.array(list(map(lambda x: list(x), freq_dist.most_common(20))))\n",
        "y = np.array(most_common_20[:,1], dtype=int)"
      ],
      "execution_count": 36,
      "outputs": [
        {
          "output_type": "error",
          "ename": "NameError",
          "evalue": "ignored",
          "traceback": [
            "\u001b[0;31m---------------------------------------------------------------------------\u001b[0m",
            "\u001b[0;31mNameError\u001b[0m                                 Traceback (most recent call last)",
            "\u001b[0;32m<ipython-input-36-82da4758e825>\u001b[0m in \u001b[0;36m<module>\u001b[0;34m()\u001b[0m\n\u001b[0;32m----> 1\u001b[0;31m \u001b[0mmost_common_20\u001b[0m \u001b[0;34m=\u001b[0m \u001b[0mnp\u001b[0m\u001b[0;34m.\u001b[0m\u001b[0marray\u001b[0m\u001b[0;34m(\u001b[0m\u001b[0mlist\u001b[0m\u001b[0;34m(\u001b[0m\u001b[0mmap\u001b[0m\u001b[0;34m(\u001b[0m\u001b[0;32mlambda\u001b[0m \u001b[0mx\u001b[0m\u001b[0;34m:\u001b[0m \u001b[0mlist\u001b[0m\u001b[0;34m(\u001b[0m\u001b[0mx\u001b[0m\u001b[0;34m)\u001b[0m\u001b[0;34m,\u001b[0m \u001b[0mfreq_dist\u001b[0m\u001b[0;34m.\u001b[0m\u001b[0mmost_common\u001b[0m\u001b[0;34m(\u001b[0m\u001b[0;36m20\u001b[0m\u001b[0;34m)\u001b[0m\u001b[0;34m)\u001b[0m\u001b[0;34m)\u001b[0m\u001b[0;34m)\u001b[0m\u001b[0;34m\u001b[0m\u001b[0;34m\u001b[0m\u001b[0m\n\u001b[0m\u001b[1;32m      2\u001b[0m \u001b[0my\u001b[0m \u001b[0;34m=\u001b[0m \u001b[0mnp\u001b[0m\u001b[0;34m.\u001b[0m\u001b[0marray\u001b[0m\u001b[0;34m(\u001b[0m\u001b[0mmost_common_20\u001b[0m\u001b[0;34m[\u001b[0m\u001b[0;34m:\u001b[0m\u001b[0;34m,\u001b[0m\u001b[0;36m1\u001b[0m\u001b[0;34m]\u001b[0m\u001b[0;34m,\u001b[0m \u001b[0mdtype\u001b[0m\u001b[0;34m=\u001b[0m\u001b[0mint\u001b[0m\u001b[0;34m)\u001b[0m\u001b[0;34m\u001b[0m\u001b[0;34m\u001b[0m\u001b[0m\n",
            "\u001b[0;31mNameError\u001b[0m: name 'freq_dist' is not defined"
          ]
        }
      ]
    },
    {
      "cell_type": "code",
      "metadata": {
        "id": "JNu1PkKyJXkQ"
      },
      "source": [
        ""
      ],
      "execution_count": null,
      "outputs": []
    }
  ]
}