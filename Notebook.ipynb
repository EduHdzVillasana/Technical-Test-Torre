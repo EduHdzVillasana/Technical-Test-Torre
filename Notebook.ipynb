{
  "nbformat": 4,
  "nbformat_minor": 0,
  "metadata": {
    "language_info": {
      "codemirror_mode": {
        "name": "ipython",
        "version": 3
      },
      "file_extension": ".py",
      "mimetype": "text/x-python",
      "name": "python",
      "nbconvert_exporter": "python",
      "pygments_lexer": "ipython3",
      "version": "3.9.0"
    },
    "orig_nbformat": 2,
    "kernelspec": {
      "name": "python390jvsc74a57bd01f65e174391277f634e70871feaa21300658cb740b5dabfc689c4c43dbc10e3e",
      "display_name": "Python 3.9.0 64-bit"
    },
    "metadata": {
      "interpreter": {
        "hash": "1f65e174391277f634e70871feaa21300658cb740b5dabfc689c4c43dbc10e3e"
      }
    },
    "colab": {
      "name": "Notebook.ipynb",
      "provenance": [],
      "toc_visible": true,
      "include_colab_link": true
    }
  },
  "cells": [
    {
      "cell_type": "markdown",
      "metadata": {
        "id": "view-in-github",
        "colab_type": "text"
      },
      "source": [
        "<a href=\"https://colab.research.google.com/github/EduHdzVillasana/Technical-Test-Torre/blob/main/Notebook.ipynb\" target=\"_parent\"><img src=\"https://colab.research.google.com/assets/colab-badge.svg\" alt=\"Open In Colab\"/></a>"
      ]
    },
    {
      "cell_type": "markdown",
      "metadata": {
        "id": "RGdWLwS3rhUN"
      },
      "source": [
        "# Technical Test Torre\n",
        "----\n",
        "*Eduardo Alan Hernandez Villasana*"
      ]
    },
    {
      "cell_type": "markdown",
      "metadata": {
        "id": "LjAScUkzrua5"
      },
      "source": [
        "## Data Extraction\n",
        "\n",
        "The data was extracted from [Data World](https://data.world/promptcloud/50000-job-board-records-from-reed-uk).\n",
        "\n",
        "Reed is one of the top employment agency based in the United Kingdom. This data set contains 50000 records of latest job postings on Reed UK.\n",
        "\n",
        "This data was extracted on March 13th 2018 and contains job postings from last 15 days. Following data fields are included in the dataset:\n",
        "\n",
        "* category\n",
        "* city\n",
        "* state\n",
        "* company name\n",
        "* job title\n",
        "* job description\n",
        "* job requirement\n",
        "* job type\n",
        "* salary offered\n",
        "* posting date\n",
        "\n",
        "**IMPORTANT**: The Node4j sandbox used in this notebook will be available until May 30th 2021. "
      ]
    },
    {
      "cell_type": "code",
      "metadata": {
        "id": "QlYJ0BMDa1lU"
      },
      "source": [
        "# Libraries\n",
        "import pandas as pd\n",
        "import numpy as np\n",
        "import matplotlib.pyplot as plt\n",
        "import seaborn as sns"
      ],
      "execution_count": null,
      "outputs": []
    },
    {
      "cell_type": "code",
      "metadata": {
        "id": "hruxMfpUa1lV"
      },
      "source": [
        "data_url = \"https://query.data.world/s/rut5pr5nm5i4onzlfp6xjgcsw3rvu4\"\n",
        "df_raw = pd.read_csv(data_url)"
      ],
      "execution_count": null,
      "outputs": []
    },
    {
      "cell_type": "markdown",
      "metadata": {
        "id": "-7gRCxhhsscC"
      },
      "source": [
        "## Data Exploration"
      ]
    },
    {
      "cell_type": "code",
      "metadata": {
        "id": "1AZKRfZSa1lW",
        "colab": {
          "base_uri": "https://localhost:8080/",
          "height": 467
        },
        "outputId": "a4c6f910-9a53-4d43-8c83-f3f3658cd212"
      },
      "source": [
        "df_raw.sample(5)"
      ],
      "execution_count": null,
      "outputs": [
        {
          "output_type": "execute_result",
          "data": {
            "text/html": [
              "<div>\n",
              "<style scoped>\n",
              "    .dataframe tbody tr th:only-of-type {\n",
              "        vertical-align: middle;\n",
              "    }\n",
              "\n",
              "    .dataframe tbody tr th {\n",
              "        vertical-align: top;\n",
              "    }\n",
              "\n",
              "    .dataframe thead th {\n",
              "        text-align: right;\n",
              "    }\n",
              "</style>\n",
              "<table border=\"1\" class=\"dataframe\">\n",
              "  <thead>\n",
              "    <tr style=\"text-align: right;\">\n",
              "      <th></th>\n",
              "      <th>category</th>\n",
              "      <th>city</th>\n",
              "      <th>company_name</th>\n",
              "      <th>geo</th>\n",
              "      <th>job_board</th>\n",
              "      <th>job_description</th>\n",
              "      <th>job_requirements</th>\n",
              "      <th>job_title</th>\n",
              "      <th>job_type</th>\n",
              "      <th>post_date</th>\n",
              "      <th>salary_offered</th>\n",
              "      <th>state</th>\n",
              "    </tr>\n",
              "  </thead>\n",
              "  <tbody>\n",
              "    <tr>\n",
              "      <th>9574</th>\n",
              "      <td>social care jobs</td>\n",
              "      <td>Maidenhead</td>\n",
              "      <td>Vantis Resourcing</td>\n",
              "      <td>uk</td>\n",
              "      <td>reed</td>\n",
              "      <td>Apply now Our client is a new Private homecar...</td>\n",
              "      <td>NaN</td>\n",
              "      <td>Domicilary Care Assistants</td>\n",
              "      <td>Permanent, part-time</td>\n",
              "      <td>3/12/2018</td>\n",
              "      <td>£11.00 - £14.00 per hour</td>\n",
              "      <td>Berkshire</td>\n",
              "    </tr>\n",
              "    <tr>\n",
              "      <th>16778</th>\n",
              "      <td>sales jobs</td>\n",
              "      <td>South East England</td>\n",
              "      <td>Aaron Wallis Sales Recruitment</td>\n",
              "      <td>uk</td>\n",
              "      <td>reed</td>\n",
              "      <td>Apply now Position: Business Development Exec...</td>\n",
              "      <td>Required skills Field Sales Sales account man...</td>\n",
              "      <td>Field Sales Executive</td>\n",
              "      <td>Permanent, full-time</td>\n",
              "      <td>3/8/2018</td>\n",
              "      <td>£20,000 - £22,000 per annum</td>\n",
              "      <td>England</td>\n",
              "    </tr>\n",
              "    <tr>\n",
              "      <th>29095</th>\n",
              "      <td>motoring automotive jobs</td>\n",
              "      <td>Bedford</td>\n",
              "      <td>Kwik-Fit</td>\n",
              "      <td>uk</td>\n",
              "      <td>reed</td>\n",
              "      <td>Apply on employer's website Our Tyre &amp; Auto-C...</td>\n",
              "      <td>NaN</td>\n",
              "      <td>Advanced Autocare Technician</td>\n",
              "      <td>Permanent, full-time</td>\n",
              "      <td>3/10/2018</td>\n",
              "      <td>£15,300 - £18,300 per annum</td>\n",
              "      <td>Bedfordshire</td>\n",
              "    </tr>\n",
              "    <tr>\n",
              "      <th>16031</th>\n",
              "      <td>accountancy jobs</td>\n",
              "      <td>East London</td>\n",
              "      <td>Oakleaf Partnership</td>\n",
              "      <td>uk</td>\n",
              "      <td>reed</td>\n",
              "      <td>Apply now Payroll Officer - Â£35000 to Â£4000...</td>\n",
              "      <td>Required skills Banking City Financial Servic...</td>\n",
              "      <td>Payroll Officer Â£35k to Â£40k + Bens - City</td>\n",
              "      <td>Permanent, full-time</td>\n",
              "      <td>3/7/2018</td>\n",
              "      <td>£35,000 - £40,000 per annum</td>\n",
              "      <td>London</td>\n",
              "    </tr>\n",
              "    <tr>\n",
              "      <th>18539</th>\n",
              "      <td>education jobs</td>\n",
              "      <td>Nottingham</td>\n",
              "      <td>Monarch Education</td>\n",
              "      <td>uk</td>\n",
              "      <td>reed</td>\n",
              "      <td>Apply now Monarch Education is a highly estab...</td>\n",
              "      <td>NaN</td>\n",
              "      <td>Newly Qualified Teachers NQT's</td>\n",
              "      <td>Contract, part-time</td>\n",
              "      <td>3/8/2018</td>\n",
              "      <td>£90.00 - £110.00 per day</td>\n",
              "      <td>Nottinghamshire</td>\n",
              "    </tr>\n",
              "  </tbody>\n",
              "</table>\n",
              "</div>"
            ],
            "text/plain": [
              "                       category  ...            state\n",
              "9574           social care jobs  ...        Berkshire\n",
              "16778                sales jobs  ...          England\n",
              "29095  motoring automotive jobs  ...     Bedfordshire\n",
              "16031          accountancy jobs  ...           London\n",
              "18539            education jobs  ...  Nottinghamshire\n",
              "\n",
              "[5 rows x 12 columns]"
            ]
          },
          "metadata": {
            "tags": []
          },
          "execution_count": 3
        }
      ]
    },
    {
      "cell_type": "code",
      "metadata": {
        "id": "m6AvxcqKa1lW",
        "colab": {
          "base_uri": "https://localhost:8080/"
        },
        "outputId": "c96418f5-5aa1-4178-d7e4-cfccfe26575a"
      },
      "source": [
        "df_raw.dtypes"
      ],
      "execution_count": null,
      "outputs": [
        {
          "output_type": "execute_result",
          "data": {
            "text/plain": [
              "category            object\n",
              "city                object\n",
              "company_name        object\n",
              "geo                 object\n",
              "job_board           object\n",
              "job_description     object\n",
              "job_requirements    object\n",
              "job_title           object\n",
              "job_type            object\n",
              "post_date           object\n",
              "salary_offered      object\n",
              "state               object\n",
              "dtype: object"
            ]
          },
          "metadata": {
            "tags": []
          },
          "execution_count": 4
        }
      ]
    },
    {
      "cell_type": "code",
      "metadata": {
        "id": "f8tqQXT_a1lW",
        "colab": {
          "base_uri": "https://localhost:8080/"
        },
        "outputId": "eb58d62a-e6d8-4219-adca-5849bcda6f89"
      },
      "source": [
        "df_raw.isnull().sum()"
      ],
      "execution_count": null,
      "outputs": [
        {
          "output_type": "execute_result",
          "data": {
            "text/plain": [
              "category                0\n",
              "city                    0\n",
              "company_name            0\n",
              "geo                     0\n",
              "job_board               0\n",
              "job_description         0\n",
              "job_requirements    29452\n",
              "job_title               0\n",
              "job_type                0\n",
              "post_date               0\n",
              "salary_offered          0\n",
              "state                  20\n",
              "dtype: int64"
            ]
          },
          "metadata": {
            "tags": []
          },
          "execution_count": 5
        }
      ]
    },
    {
      "cell_type": "code",
      "metadata": {
        "id": "YKuLfVsva1lX",
        "colab": {
          "base_uri": "https://localhost:8080/"
        },
        "outputId": "a4eafadd-7d0b-4b73-d747-768bb1adaa1f"
      },
      "source": [
        "df_raw.shape"
      ],
      "execution_count": null,
      "outputs": [
        {
          "output_type": "execute_result",
          "data": {
            "text/plain": [
              "(50000, 12)"
            ]
          },
          "metadata": {
            "tags": []
          },
          "execution_count": 6
        }
      ]
    },
    {
      "cell_type": "code",
      "metadata": {
        "id": "dVrF6Fzba1lX",
        "colab": {
          "base_uri": "https://localhost:8080/",
          "height": 236
        },
        "outputId": "03137a89-d736-4668-a9da-728e2e47e107"
      },
      "source": [
        "df_raw.describe()"
      ],
      "execution_count": null,
      "outputs": [
        {
          "output_type": "execute_result",
          "data": {
            "text/html": [
              "<div>\n",
              "<style scoped>\n",
              "    .dataframe tbody tr th:only-of-type {\n",
              "        vertical-align: middle;\n",
              "    }\n",
              "\n",
              "    .dataframe tbody tr th {\n",
              "        vertical-align: top;\n",
              "    }\n",
              "\n",
              "    .dataframe thead th {\n",
              "        text-align: right;\n",
              "    }\n",
              "</style>\n",
              "<table border=\"1\" class=\"dataframe\">\n",
              "  <thead>\n",
              "    <tr style=\"text-align: right;\">\n",
              "      <th></th>\n",
              "      <th>category</th>\n",
              "      <th>city</th>\n",
              "      <th>company_name</th>\n",
              "      <th>geo</th>\n",
              "      <th>job_board</th>\n",
              "      <th>job_description</th>\n",
              "      <th>job_requirements</th>\n",
              "      <th>job_title</th>\n",
              "      <th>job_type</th>\n",
              "      <th>post_date</th>\n",
              "      <th>salary_offered</th>\n",
              "      <th>state</th>\n",
              "    </tr>\n",
              "  </thead>\n",
              "  <tbody>\n",
              "    <tr>\n",
              "      <th>count</th>\n",
              "      <td>50000</td>\n",
              "      <td>50000</td>\n",
              "      <td>50000</td>\n",
              "      <td>50000</td>\n",
              "      <td>50000</td>\n",
              "      <td>50000</td>\n",
              "      <td>20548</td>\n",
              "      <td>50000</td>\n",
              "      <td>50000</td>\n",
              "      <td>50000</td>\n",
              "      <td>50000</td>\n",
              "      <td>49980</td>\n",
              "    </tr>\n",
              "    <tr>\n",
              "      <th>unique</th>\n",
              "      <td>37</td>\n",
              "      <td>2918</td>\n",
              "      <td>5166</td>\n",
              "      <td>1</td>\n",
              "      <td>1</td>\n",
              "      <td>42057</td>\n",
              "      <td>14887</td>\n",
              "      <td>29155</td>\n",
              "      <td>9</td>\n",
              "      <td>66</td>\n",
              "      <td>7345</td>\n",
              "      <td>167</td>\n",
              "    </tr>\n",
              "    <tr>\n",
              "      <th>top</th>\n",
              "      <td>health jobs</td>\n",
              "      <td>London</td>\n",
              "      <td>Hays Specialist Recruitment Limited</td>\n",
              "      <td>uk</td>\n",
              "      <td>reed</td>\n",
              "      <td>Apply on employer's website Add an annual tur...</td>\n",
              "      <td>Required skills Recruitment</td>\n",
              "      <td>Administrator</td>\n",
              "      <td>Permanent, full-time</td>\n",
              "      <td>3/7/2018</td>\n",
              "      <td>Salary negotiable</td>\n",
              "      <td>London</td>\n",
              "    </tr>\n",
              "    <tr>\n",
              "      <th>freq</th>\n",
              "      <td>1930</td>\n",
              "      <td>4349</td>\n",
              "      <td>1830</td>\n",
              "      <td>50000</td>\n",
              "      <td>50000</td>\n",
              "      <td>85</td>\n",
              "      <td>123</td>\n",
              "      <td>162</td>\n",
              "      <td>36864</td>\n",
              "      <td>8472</td>\n",
              "      <td>4539</td>\n",
              "      <td>5900</td>\n",
              "    </tr>\n",
              "  </tbody>\n",
              "</table>\n",
              "</div>"
            ],
            "text/plain": [
              "           category    city  ...       salary_offered   state\n",
              "count         50000   50000  ...                50000   49980\n",
              "unique           37    2918  ...                 7345     167\n",
              "top     health jobs  London  ...   Salary negotiable   London\n",
              "freq           1930    4349  ...                 4539    5900\n",
              "\n",
              "[4 rows x 12 columns]"
            ]
          },
          "metadata": {
            "tags": []
          },
          "execution_count": 7
        }
      ]
    },
    {
      "cell_type": "code",
      "metadata": {
        "id": "ZW7MjEGJvU_j",
        "colab": {
          "base_uri": "https://localhost:8080/"
        },
        "outputId": "69448e9a-a842-48a4-ba8b-121b0642ad0f"
      },
      "source": [
        "df_raw[\"city\"].sort_values().unique()[[937,1012]]"
      ],
      "execution_count": null,
      "outputs": [
        {
          "output_type": "execute_result",
          "data": {
            "text/plain": [
              "array(['FRANKFURT', 'Frankfurt'], dtype=object)"
            ]
          },
          "metadata": {
            "tags": []
          },
          "execution_count": 8
        }
      ]
    },
    {
      "cell_type": "code",
      "metadata": {
        "id": "qKwAzG-e108o",
        "colab": {
          "base_uri": "https://localhost:8080/"
        },
        "outputId": "bb61670b-45c3-4f33-8329-aca4d5be3921"
      },
      "source": [
        "df_raw[\"job_type\"].unique()"
      ],
      "execution_count": null,
      "outputs": [
        {
          "output_type": "execute_result",
          "data": {
            "text/plain": [
              "array(['Permanent, full-time', 'Permanent, full-time or part-time',\n",
              "       'Permanent, part-time', 'Contract, full-time',\n",
              "       'Temporary, part-time', 'Temporary, full-time or part-time',\n",
              "       'Temporary, full-time', 'Contract, full-time or part-time',\n",
              "       'Contract, part-time'], dtype=object)"
            ]
          },
          "metadata": {
            "tags": []
          },
          "execution_count": 9
        }
      ]
    },
    {
      "cell_type": "markdown",
      "metadata": {
        "id": "CP8T8dyju9vw"
      },
      "source": [
        "## Data Cleaning\n",
        "* The `geo` and `job_board` columns will be dropped because they have only one unique value in all rows.\n",
        "* Transform to lower case the cities and states because some cities or states are repeated but some with uper case or lower case.\n",
        "* Get kew words in `job_requirements` to get a list of requirements."
      ]
    },
    {
      "cell_type": "markdown",
      "metadata": {
        "id": "yOSewAIV237c"
      },
      "source": [
        "### Dropping unnecessary columns"
      ]
    },
    {
      "cell_type": "code",
      "metadata": {
        "id": "oy60jQofu_UW"
      },
      "source": [
        "df = df_raw.drop(columns = [\"geo\",\"job_board\"], axis = 1)"
      ],
      "execution_count": null,
      "outputs": []
    },
    {
      "cell_type": "markdown",
      "metadata": {
        "id": "X41P9pzk3Bpe"
      },
      "source": [
        "### Transforming string columns to lower case."
      ]
    },
    {
      "cell_type": "code",
      "metadata": {
        "id": "twabNjx-y_xs"
      },
      "source": [
        "df[\"city\"] = df[\"city\"].str.lower()\n",
        "df[\"state\"] = df[\"state\"].str.lower()\n",
        "df[\"job_requirements\"] = df[\"job_requirements\"].str.lower()\n",
        "df[\"job_title\"] = df[\"job_title\"].str.lower()\n",
        "df[\"company_name\"] = df[\"company_name\"].str.lower()\n",
        "df[\"category\"] = df[\"category\"].str.lower()"
      ],
      "execution_count": null,
      "outputs": []
    },
    {
      "cell_type": "code",
      "metadata": {
        "id": "ycsyW5A61jix",
        "colab": {
          "base_uri": "https://localhost:8080/"
        },
        "outputId": "e097318d-ef40-4a72-b428-bdce079f1b61"
      },
      "source": [
        "len(df[df[\"salary_offered\"] == \" Salary not specified \"])"
      ],
      "execution_count": null,
      "outputs": [
        {
          "output_type": "execute_result",
          "data": {
            "text/plain": [
              "317"
            ]
          },
          "metadata": {
            "tags": []
          },
          "execution_count": 12
        }
      ]
    },
    {
      "cell_type": "code",
      "metadata": {
        "id": "1RV9VOcu2sYj"
      },
      "source": [
        "df[\"salary_offered\"] = df[\"salary_offered\"].str.strip()"
      ],
      "execution_count": null,
      "outputs": []
    },
    {
      "cell_type": "code",
      "metadata": {
        "id": "it2m08rg2xta",
        "colab": {
          "base_uri": "https://localhost:8080/"
        },
        "outputId": "4ad6f7ce-1344-4c4c-953f-b29fbe3e1cfa"
      },
      "source": [
        "len(df[df[\"salary_offered\"] == \"Salary not specified\"])"
      ],
      "execution_count": null,
      "outputs": [
        {
          "output_type": "execute_result",
          "data": {
            "text/plain": [
              "317"
            ]
          },
          "metadata": {
            "tags": []
          },
          "execution_count": 14
        }
      ]
    },
    {
      "cell_type": "markdown",
      "metadata": {
        "id": "zTEaBTKW3PLk"
      },
      "source": [
        "### Getting key words of `job_requirements` "
      ]
    },
    {
      "cell_type": "code",
      "metadata": {
        "id": "4WKiJ7Sj3YwU",
        "colab": {
          "base_uri": "https://localhost:8080/"
        },
        "outputId": "8c1b83fe-cf54-4d74-ab41-53187609d751"
      },
      "source": [
        "df[\"job_requirements\"].sample(3)"
      ],
      "execution_count": null,
      "outputs": [
        {
          "output_type": "execute_result",
          "data": {
            "text/plain": [
              "14729                                                  NaN\n",
              "20150     required skills defence microsoft office secu...\n",
              "6906                     required skills customer service \n",
              "Name: job_requirements, dtype: object"
            ]
          },
          "metadata": {
            "tags": []
          },
          "execution_count": 15
        }
      ]
    },
    {
      "cell_type": "markdown",
      "metadata": {
        "id": "cGM888iA4dxX"
      },
      "source": [
        "\"required skills* is repeated in all non NaN rows"
      ]
    },
    {
      "cell_type": "code",
      "metadata": {
        "id": "_movVTvY4l0n"
      },
      "source": [
        "df[\"job_requirements\"] = df[\"job_requirements\"].str.replace(\"required skills \",\"\")"
      ],
      "execution_count": null,
      "outputs": []
    },
    {
      "cell_type": "code",
      "metadata": {
        "id": "wvjOMsQMEjXa",
        "colab": {
          "base_uri": "https://localhost:8080/"
        },
        "outputId": "77e44249-2bc2-4f4a-8497-8a03d767ea88"
      },
      "source": [
        "df[\"job_requirements\"].sample(5)"
      ],
      "execution_count": null,
      "outputs": [
        {
          "output_type": "execute_result",
          "data": {
            "text/plain": [
              "18556    NaN\n",
              "45039    NaN\n",
              "38570    NaN\n",
              "2455     NaN\n",
              "33515    NaN\n",
              "Name: job_requirements, dtype: object"
            ]
          },
          "metadata": {
            "tags": []
          },
          "execution_count": 17
        }
      ]
    },
    {
      "cell_type": "code",
      "metadata": {
        "id": "jlQy_iHWFQBY",
        "colab": {
          "base_uri": "https://localhost:8080/"
        },
        "outputId": "bcf4582b-74ca-4d1a-f6de-3c7c85a47245"
      },
      "source": [
        "import nltk\n",
        "nltk.download('punkt')\n",
        "nltk.download('stopwords')\n",
        "import re\n",
        "from nltk.corpus import stopwords"
      ],
      "execution_count": null,
      "outputs": [
        {
          "output_type": "stream",
          "text": [
            "[nltk_data] Downloading package punkt to /root/nltk_data...\n",
            "[nltk_data]   Unzipping tokenizers/punkt.zip.\n",
            "[nltk_data] Downloading package stopwords to /root/nltk_data...\n",
            "[nltk_data]   Unzipping corpora/stopwords.zip.\n"
          ],
          "name": "stdout"
        }
      ]
    },
    {
      "cell_type": "code",
      "metadata": {
        "id": "VkhAxbJfG6oS"
      },
      "source": [
        "df[\"job_requirements\"] = df[\"job_requirements\"].fillna(\"Unrequirement\")"
      ],
      "execution_count": null,
      "outputs": []
    },
    {
      "cell_type": "code",
      "metadata": {
        "id": "pKb_4nBUHsbh",
        "colab": {
          "base_uri": "https://localhost:8080/"
        },
        "outputId": "6db141cb-5042-46e4-faba-7320a1587662"
      },
      "source": [
        "df[\"job_requirements\"].sample(5)"
      ],
      "execution_count": null,
      "outputs": [
        {
          "output_type": "execute_result",
          "data": {
            "text/plain": [
              "11822                                        Unrequirement\n",
              "28848                                        Unrequirement\n",
              "43488     assistive technologist / student learning sup...\n",
              "5698                                         Unrequirement\n",
              "36463     new finance business partner / project accoun...\n",
              "Name: job_requirements, dtype: object"
            ]
          },
          "metadata": {
            "tags": []
          },
          "execution_count": 20
        }
      ]
    },
    {
      "cell_type": "code",
      "metadata": {
        "id": "fFi-Yv4bd0yV"
      },
      "source": [
        "df[\"job_requirements\"] = df[\"job_requirements\"].str.lower()\n",
        "df[\"job_requirements\"] = df[\"job_requirements\"].str.strip()\n",
        "df[\"job_requirements\"] = df[\"job_requirements\"].str.replace('[^\\w\\s]', '')\n",
        "df[\"job_requirements\"] = df[\"job_requirements\"].str.replace('\\d', '')\n",
        "df[\"job_requirements\"] = df[\"job_requirements\"].str.replace('\\\\n', '')"
      ],
      "execution_count": null,
      "outputs": []
    },
    {
      "cell_type": "code",
      "metadata": {
        "id": "MyLMycNWeDvb"
      },
      "source": [
        "df[\"job_requirements\"] = df[\"job_requirements\"].apply(nltk.word_tokenize)"
      ],
      "execution_count": null,
      "outputs": []
    },
    {
      "cell_type": "code",
      "metadata": {
        "id": "hPK8Pyk-eIK6",
        "colab": {
          "base_uri": "https://localhost:8080/"
        },
        "outputId": "e706dca6-2476-47e3-e3ed-1248ecd79992"
      },
      "source": [
        "df[\"job_requirements\"].sample(3)"
      ],
      "execution_count": null,
      "outputs": [
        {
          "output_type": "execute_result",
          "data": {
            "text/plain": [
              "7258                                       [unrequirement]\n",
              "29285    [administrator, administration, sales, adminis...\n",
              "21608     [category, leadership, management, team, leader]\n",
              "Name: job_requirements, dtype: object"
            ]
          },
          "metadata": {
            "tags": []
          },
          "execution_count": 23
        }
      ]
    },
    {
      "cell_type": "code",
      "metadata": {
        "id": "QyrRyJ7LeYg9"
      },
      "source": [
        "english_stop_words = stopwords.words('english')\n",
        "df[\"job_requirements\"] = df[\"job_requirements\"].apply(lambda s: [word for word in s if word not in english_stop_words])"
      ],
      "execution_count": null,
      "outputs": []
    },
    {
      "cell_type": "code",
      "metadata": {
        "id": "dxybVo-TemGN",
        "colab": {
          "base_uri": "https://localhost:8080/"
        },
        "outputId": "ed3c5948-2412-450e-b8ec-8e86cabf9a26"
      },
      "source": [
        "df[\"job_requirements\"].sample(10)"
      ],
      "execution_count": null,
      "outputs": [
        {
          "output_type": "execute_result",
          "data": {
            "text/plain": [
              "8429                                       [unrequirement]\n",
              "37474    [recruitment, sales, sales, recruitment, train...\n",
              "35916                                      [unrequirement]\n",
              "27362                                      [unrequirement]\n",
              "45084    [computer, literate, order, processing, repeti...\n",
              "25793    [estate, agents, lettings, property, managemen...\n",
              "6122                                     [dutch, research]\n",
              "30976                                      [unrequirement]\n",
              "4608                                       [unrequirement]\n",
              "30215    [computer, literate, warehouse, forklift, oper...\n",
              "Name: job_requirements, dtype: object"
            ]
          },
          "metadata": {
            "tags": []
          },
          "execution_count": 25
        }
      ]
    },
    {
      "cell_type": "code",
      "metadata": {
        "id": "DUIpmyFElD5i"
      },
      "source": [
        "df[\"id\"] = df.index"
      ],
      "execution_count": null,
      "outputs": []
    },
    {
      "cell_type": "code",
      "metadata": {
        "id": "w8VjZ8CdjDCH",
        "colab": {
          "base_uri": "https://localhost:8080/"
        },
        "outputId": "fb29bd18-837e-4a32-b824-52c834bc6f20"
      },
      "source": [
        "df.describe(include=\"object\")"
      ],
      "execution_count": null,
      "outputs": [
        {
          "output_type": "execute_result",
          "data": {
            "text/html": [
              "<div>\n",
              "<style scoped>\n",
              "    .dataframe tbody tr th:only-of-type {\n",
              "        vertical-align: middle;\n",
              "    }\n",
              "\n",
              "    .dataframe tbody tr th {\n",
              "        vertical-align: top;\n",
              "    }\n",
              "\n",
              "    .dataframe thead th {\n",
              "        text-align: right;\n",
              "    }\n",
              "</style>\n",
              "<table border=\"1\" class=\"dataframe\">\n",
              "  <thead>\n",
              "    <tr style=\"text-align: right;\">\n",
              "      <th></th>\n",
              "      <th>category</th>\n",
              "      <th>city</th>\n",
              "      <th>company_name</th>\n",
              "      <th>job_description</th>\n",
              "      <th>job_requirements</th>\n",
              "      <th>job_title</th>\n",
              "      <th>job_type</th>\n",
              "      <th>post_date</th>\n",
              "      <th>salary_offered</th>\n",
              "      <th>state</th>\n",
              "    </tr>\n",
              "  </thead>\n",
              "  <tbody>\n",
              "    <tr>\n",
              "      <th>count</th>\n",
              "      <td>50000</td>\n",
              "      <td>50000</td>\n",
              "      <td>50000</td>\n",
              "      <td>50000</td>\n",
              "      <td>50000</td>\n",
              "      <td>50000</td>\n",
              "      <td>50000</td>\n",
              "      <td>50000</td>\n",
              "      <td>50000</td>\n",
              "      <td>49980</td>\n",
              "    </tr>\n",
              "    <tr>\n",
              "      <th>unique</th>\n",
              "      <td>37</td>\n",
              "      <td>2874</td>\n",
              "      <td>5162</td>\n",
              "      <td>42057</td>\n",
              "      <td>14786</td>\n",
              "      <td>28702</td>\n",
              "      <td>9</td>\n",
              "      <td>66</td>\n",
              "      <td>7345</td>\n",
              "      <td>163</td>\n",
              "    </tr>\n",
              "    <tr>\n",
              "      <th>top</th>\n",
              "      <td>health jobs</td>\n",
              "      <td>london</td>\n",
              "      <td>hays specialist recruitment limited</td>\n",
              "      <td>Apply on employer's website Add an annual tur...</td>\n",
              "      <td>[unrequirement]</td>\n",
              "      <td>administrator</td>\n",
              "      <td>Permanent, full-time</td>\n",
              "      <td>3/7/2018</td>\n",
              "      <td>Salary negotiable</td>\n",
              "      <td>london</td>\n",
              "    </tr>\n",
              "    <tr>\n",
              "      <th>freq</th>\n",
              "      <td>1930</td>\n",
              "      <td>4349</td>\n",
              "      <td>1830</td>\n",
              "      <td>85</td>\n",
              "      <td>29452</td>\n",
              "      <td>162</td>\n",
              "      <td>36864</td>\n",
              "      <td>8472</td>\n",
              "      <td>4539</td>\n",
              "      <td>5900</td>\n",
              "    </tr>\n",
              "  </tbody>\n",
              "</table>\n",
              "</div>"
            ],
            "text/plain": [
              "           category    city  ...     salary_offered   state\n",
              "count         50000   50000  ...              50000   49980\n",
              "unique           37    2874  ...               7345     163\n",
              "top     health jobs  london  ...  Salary negotiable  london\n",
              "freq           1930    4349  ...               4539    5900\n",
              "\n",
              "[4 rows x 10 columns]"
            ]
          },
          "metadata": {
            "tags": []
          },
          "execution_count": 27
        }
      ]
    },
    {
      "cell_type": "code",
      "metadata": {
        "id": "zA0fUHrmkzF1",
        "colab": {
          "base_uri": "https://localhost:8080/"
        },
        "outputId": "3ba050d3-3d71-4b40-9128-388048285e09"
      },
      "source": [
        "df.head(3)"
      ],
      "execution_count": null,
      "outputs": [
        {
          "output_type": "execute_result",
          "data": {
            "text/html": [
              "<div>\n",
              "<style scoped>\n",
              "    .dataframe tbody tr th:only-of-type {\n",
              "        vertical-align: middle;\n",
              "    }\n",
              "\n",
              "    .dataframe tbody tr th {\n",
              "        vertical-align: top;\n",
              "    }\n",
              "\n",
              "    .dataframe thead th {\n",
              "        text-align: right;\n",
              "    }\n",
              "</style>\n",
              "<table border=\"1\" class=\"dataframe\">\n",
              "  <thead>\n",
              "    <tr style=\"text-align: right;\">\n",
              "      <th></th>\n",
              "      <th>category</th>\n",
              "      <th>city</th>\n",
              "      <th>company_name</th>\n",
              "      <th>job_description</th>\n",
              "      <th>job_requirements</th>\n",
              "      <th>job_title</th>\n",
              "      <th>job_type</th>\n",
              "      <th>post_date</th>\n",
              "      <th>salary_offered</th>\n",
              "      <th>state</th>\n",
              "      <th>id</th>\n",
              "    </tr>\n",
              "  </thead>\n",
              "  <tbody>\n",
              "    <tr>\n",
              "      <th>0</th>\n",
              "      <td>catering jobs</td>\n",
              "      <td>chudleigh</td>\n",
              "      <td>haulfryn group</td>\n",
              "      <td>Apply now New opportunity not to be missed! H...</td>\n",
              "      <td>[unrequirement]</td>\n",
              "      <td>commis chef</td>\n",
              "      <td>Permanent, full-time</td>\n",
              "      <td>3/12/2018</td>\n",
              "      <td>£18,323 per annum</td>\n",
              "      <td>devon</td>\n",
              "      <td>0</td>\n",
              "    </tr>\n",
              "    <tr>\n",
              "      <th>1</th>\n",
              "      <td>law jobs</td>\n",
              "      <td>swindon</td>\n",
              "      <td>reed</td>\n",
              "      <td>Apply now This role requires an experienced s...</td>\n",
              "      <td>[unrequirement]</td>\n",
              "      <td>corporate legal secretary</td>\n",
              "      <td>Permanent, full-time</td>\n",
              "      <td>3/8/2018</td>\n",
              "      <td>£18,000 - £22,000 per annum</td>\n",
              "      <td>wiltshire</td>\n",
              "      <td>1</td>\n",
              "    </tr>\n",
              "    <tr>\n",
              "      <th>2</th>\n",
              "      <td>factory jobs</td>\n",
              "      <td>norfolk</td>\n",
              "      <td>swanstaff recruitment ltd</td>\n",
              "      <td>Apply now Job Title: Warehouse personLocation...</td>\n",
              "      <td>[unrequirement]</td>\n",
              "      <td>warehouse person</td>\n",
              "      <td>Permanent, full-time</td>\n",
              "      <td>2/27/2018</td>\n",
              "      <td>Salary not specified</td>\n",
              "      <td>east anglia</td>\n",
              "      <td>2</td>\n",
              "    </tr>\n",
              "  </tbody>\n",
              "</table>\n",
              "</div>"
            ],
            "text/plain": [
              "        category       city  ...        state id\n",
              "0  catering jobs  chudleigh  ...        devon  0\n",
              "1       law jobs    swindon  ...    wiltshire  1\n",
              "2   factory jobs    norfolk  ...  east anglia  2\n",
              "\n",
              "[3 rows x 11 columns]"
            ]
          },
          "metadata": {
            "tags": []
          },
          "execution_count": 28
        }
      ]
    },
    {
      "cell_type": "code",
      "metadata": {
        "id": "xg7w2P99lIXR"
      },
      "source": [
        "df_cleaned = df.copy()"
      ],
      "execution_count": null,
      "outputs": []
    },
    {
      "cell_type": "markdown",
      "metadata": {
        "id": "dRDhKBUjlXIA"
      },
      "source": [
        "## Preparing DataFrame for the Graph Database"
      ]
    },
    {
      "cell_type": "code",
      "metadata": {
        "id": "I--F_qduljKh",
        "colab": {
          "base_uri": "https://localhost:8080/"
        },
        "outputId": "b25b4bbc-294d-4500-e371-3f55d3409702"
      },
      "source": [
        "df_cleaned.columns"
      ],
      "execution_count": null,
      "outputs": [
        {
          "output_type": "execute_result",
          "data": {
            "text/plain": [
              "Index(['category', 'city', 'company_name', 'job_description',\n",
              "       'job_requirements', 'job_title', 'job_type', 'post_date',\n",
              "       'salary_offered', 'state', 'id'],\n",
              "      dtype='object')"
            ]
          },
          "metadata": {
            "tags": []
          },
          "execution_count": 30
        }
      ]
    },
    {
      "cell_type": "code",
      "metadata": {
        "id": "5moNiITDlg9o"
      },
      "source": [
        "df_celaned = df_cleaned.rename(columns = {\"company_name\":\"company\",\"job_description\":\"description\",\"job_requirements\":\"requirements\", \"job_title\":\"title\",\"job_type\":\"type\",\"salary_offered\":\"salary\"})"
      ],
      "execution_count": null,
      "outputs": []
    },
    {
      "cell_type": "code",
      "metadata": {
        "id": "ZxXeC2s3mHM9",
        "colab": {
          "base_uri": "https://localhost:8080/"
        },
        "outputId": "6cfcf028-998a-4c1a-8a93-9e3baa630ad3"
      },
      "source": [
        "df_celaned.columns"
      ],
      "execution_count": null,
      "outputs": [
        {
          "output_type": "execute_result",
          "data": {
            "text/plain": [
              "Index(['category', 'city', 'company', 'description', 'requirements', 'title',\n",
              "       'type', 'post_date', 'salary', 'state', 'id'],\n",
              "      dtype='object')"
            ]
          },
          "metadata": {
            "tags": []
          },
          "execution_count": 32
        }
      ]
    },
    {
      "cell_type": "markdown",
      "metadata": {
        "id": "r6ewTF5rqCPk"
      },
      "source": [
        "### Preparing `category` nodes"
      ]
    },
    {
      "cell_type": "code",
      "metadata": {
        "id": "xFSJ2zlLqG_k",
        "colab": {
          "base_uri": "https://localhost:8080/"
        },
        "outputId": "93cb5ae9-9d70-49e4-96ab-4618cfd3ef83"
      },
      "source": [
        "category = pd.DataFrame(df_celaned[[\"category\"]]).explode(\"category\").drop_duplicates(subset=[\"category\"])\n",
        "category.size"
      ],
      "execution_count": null,
      "outputs": [
        {
          "output_type": "execute_result",
          "data": {
            "text/plain": [
              "37"
            ]
          },
          "metadata": {
            "tags": []
          },
          "execution_count": 33
        }
      ]
    },
    {
      "cell_type": "markdown",
      "metadata": {
        "id": "Vs5fVuKCqPjE"
      },
      "source": [
        "### Preparing `city` nodes"
      ]
    },
    {
      "cell_type": "code",
      "metadata": {
        "id": "NKL5q40DqXIq",
        "colab": {
          "base_uri": "https://localhost:8080/"
        },
        "outputId": "7fd44289-1f98-46d8-d7dc-fe68f1d18ce7"
      },
      "source": [
        "city = pd.DataFrame(df_celaned[[\"city\"]]).explode(\"city\").drop_duplicates(subset=[\"city\"])\n",
        "city.size"
      ],
      "execution_count": null,
      "outputs": [
        {
          "output_type": "execute_result",
          "data": {
            "text/plain": [
              "2874"
            ]
          },
          "metadata": {
            "tags": []
          },
          "execution_count": 34
        }
      ]
    },
    {
      "cell_type": "markdown",
      "metadata": {
        "id": "aP3BFckGqerv"
      },
      "source": [
        "### Preparing `company` nodes"
      ]
    },
    {
      "cell_type": "code",
      "metadata": {
        "id": "i6DI4Am0qiZa",
        "colab": {
          "base_uri": "https://localhost:8080/"
        },
        "outputId": "8dc26d00-5db7-4634-d202-a16487181dfb"
      },
      "source": [
        "company = pd.DataFrame(df_celaned[[\"company\"]]).explode(\"company\").drop_duplicates(subset=[\"company\"])\n",
        "company.size"
      ],
      "execution_count": null,
      "outputs": [
        {
          "output_type": "execute_result",
          "data": {
            "text/plain": [
              "5162"
            ]
          },
          "metadata": {
            "tags": []
          },
          "execution_count": 35
        }
      ]
    },
    {
      "cell_type": "markdown",
      "metadata": {
        "id": "XhZz9RHoqo_T"
      },
      "source": [
        "### Preparing `requirement` nodes"
      ]
    },
    {
      "cell_type": "code",
      "metadata": {
        "id": "abH4wVBgqteG",
        "colab": {
          "base_uri": "https://localhost:8080/"
        },
        "outputId": "3ef82b80-717c-4991-91fd-cdf464066003"
      },
      "source": [
        "requirements = pd.DataFrame(df_celaned[[\"requirements\"]]).explode(\"requirements\").drop_duplicates(subset=[\"requirements\"])\n",
        "requirements.size"
      ],
      "execution_count": null,
      "outputs": [
        {
          "output_type": "execute_result",
          "data": {
            "text/plain": [
              "7761"
            ]
          },
          "metadata": {
            "tags": []
          },
          "execution_count": 36
        }
      ]
    },
    {
      "cell_type": "code",
      "metadata": {
        "id": "rbAsMfa7TqM5",
        "colab": {
          "base_uri": "https://localhost:8080/"
        },
        "outputId": "78de5751-e151-49b0-9d39-bd9b8d015814"
      },
      "source": [
        "requirements.isna().sum()"
      ],
      "execution_count": null,
      "outputs": [
        {
          "output_type": "execute_result",
          "data": {
            "text/plain": [
              "requirements    1\n",
              "dtype: int64"
            ]
          },
          "metadata": {
            "tags": []
          },
          "execution_count": 37
        }
      ]
    },
    {
      "cell_type": "code",
      "metadata": {
        "id": "xCyiKJjmTtew"
      },
      "source": [
        "requirements = requirements.dropna()"
      ],
      "execution_count": null,
      "outputs": []
    },
    {
      "cell_type": "code",
      "metadata": {
        "id": "xp8jslw5T35t",
        "colab": {
          "base_uri": "https://localhost:8080/"
        },
        "outputId": "e5874238-3a93-441a-eea7-904fd44167b0"
      },
      "source": [
        "requirements.size"
      ],
      "execution_count": null,
      "outputs": [
        {
          "output_type": "execute_result",
          "data": {
            "text/plain": [
              "7760"
            ]
          },
          "metadata": {
            "tags": []
          },
          "execution_count": 39
        }
      ]
    },
    {
      "cell_type": "markdown",
      "metadata": {
        "id": "ckdrnU4HoQIe"
      },
      "source": [
        "### Preparing `title` nodes"
      ]
    },
    {
      "cell_type": "code",
      "metadata": {
        "id": "aBKLsBYmoV6D",
        "colab": {
          "base_uri": "https://localhost:8080/"
        },
        "outputId": "4b733668-3fba-4910-9077-444d8fc62806"
      },
      "source": [
        "title = pd.DataFrame(df_celaned[[\"title\"]]).explode(\"title\").drop_duplicates(subset=[\"title\"])\n",
        "title.size"
      ],
      "execution_count": null,
      "outputs": [
        {
          "output_type": "execute_result",
          "data": {
            "text/plain": [
              "28702"
            ]
          },
          "metadata": {
            "tags": []
          },
          "execution_count": 40
        }
      ]
    },
    {
      "cell_type": "markdown",
      "metadata": {
        "id": "TnlUpezQrQ2C"
      },
      "source": [
        "### Preparing `type` nodes"
      ]
    },
    {
      "cell_type": "code",
      "metadata": {
        "id": "vg1sKqMSoPkW",
        "colab": {
          "base_uri": "https://localhost:8080/"
        },
        "outputId": "6fa786d7-7d54-46d8-adc3-bd2e04d9c0a5"
      },
      "source": [
        "type_ = pd.DataFrame(df_celaned[[\"type\"]]).explode(\"type\").drop_duplicates(subset=[\"type\"])\n",
        "type_.size"
      ],
      "execution_count": null,
      "outputs": [
        {
          "output_type": "execute_result",
          "data": {
            "text/plain": [
              "9"
            ]
          },
          "metadata": {
            "tags": []
          },
          "execution_count": 41
        }
      ]
    },
    {
      "cell_type": "markdown",
      "metadata": {
        "id": "FZwSV5k7rbP_"
      },
      "source": [
        "### Preparing `state` nodes"
      ]
    },
    {
      "cell_type": "code",
      "metadata": {
        "id": "EDZJ3Y-lrf-Y",
        "colab": {
          "base_uri": "https://localhost:8080/"
        },
        "outputId": "5fdc4f6e-a233-4131-d3bb-d615abe626eb"
      },
      "source": [
        "state = pd.DataFrame(df_celaned[[\"state\"]]).explode(\"state\").drop_duplicates(subset=[\"state\"])\n",
        "state.size"
      ],
      "execution_count": null,
      "outputs": [
        {
          "output_type": "execute_result",
          "data": {
            "text/plain": [
              "164"
            ]
          },
          "metadata": {
            "tags": []
          },
          "execution_count": 42
        }
      ]
    },
    {
      "cell_type": "markdown",
      "metadata": {
        "id": "K6oEoay_rk8g"
      },
      "source": [
        "### Preparing `salary` nodes"
      ]
    },
    {
      "cell_type": "code",
      "metadata": {
        "id": "3Dt0dXkErsAb",
        "colab": {
          "base_uri": "https://localhost:8080/"
        },
        "outputId": "fa4cb183-ae20-4645-9ae4-6a38d9288c14"
      },
      "source": [
        "salary = pd.DataFrame(df_celaned[[\"salary\"]]).explode(\"salary\").drop_duplicates(subset=[\"salary\"])\n",
        "salary.size"
      ],
      "execution_count": null,
      "outputs": [
        {
          "output_type": "execute_result",
          "data": {
            "text/plain": [
              "7345"
            ]
          },
          "metadata": {
            "tags": []
          },
          "execution_count": 43
        }
      ]
    },
    {
      "cell_type": "markdown",
      "metadata": {
        "id": "WNNxMis5V1h9"
      },
      "source": [
        "### Preparing `job` nodes"
      ]
    },
    {
      "cell_type": "code",
      "metadata": {
        "id": "4MaTkY-NV4t5"
      },
      "source": [
        "job = df_celaned[[\"id\",\"description\",\"post_date\"]]"
      ],
      "execution_count": null,
      "outputs": []
    },
    {
      "cell_type": "markdown",
      "metadata": {
        "id": "-jF8T5NWJXuT"
      },
      "source": [
        "## Neo4j Databese"
      ]
    },
    {
      "cell_type": "code",
      "metadata": {
        "id": "go0_9FFXJcp3",
        "colab": {
          "base_uri": "https://localhost:8080/"
        },
        "outputId": "133f4449-5437-4dfd-841c-67d3269cfb7f"
      },
      "source": [
        "!pip install neo4j\n",
        "!pip install tqdm"
      ],
      "execution_count": null,
      "outputs": [
        {
          "output_type": "stream",
          "text": [
            "Collecting neo4j\n",
            "\u001b[?25l  Downloading https://files.pythonhosted.org/packages/36/f7/3c0b20ad7cdeac89d44e5380b0b4507995b1aec843692e3e76dd6cd1c638/neo4j-4.2.1.tar.gz (69kB)\n",
            "\r\u001b[K     |████▊                           | 10kB 18.0MB/s eta 0:00:01\r\u001b[K     |█████████▍                      | 20kB 26.3MB/s eta 0:00:01\r\u001b[K     |██████████████▏                 | 30kB 25.9MB/s eta 0:00:01\r\u001b[K     |██████████████████▉             | 40kB 19.3MB/s eta 0:00:01\r\u001b[K     |███████████████████████▋        | 51kB 13.0MB/s eta 0:00:01\r\u001b[K     |████████████████████████████▎   | 61kB 11.5MB/s eta 0:00:01\r\u001b[K     |████████████████████████████████| 71kB 4.9MB/s \n",
            "\u001b[?25hRequirement already satisfied: pytz in /usr/local/lib/python3.7/dist-packages (from neo4j) (2018.9)\n",
            "Building wheels for collected packages: neo4j\n",
            "  Building wheel for neo4j (setup.py) ... \u001b[?25l\u001b[?25hdone\n",
            "  Created wheel for neo4j: filename=neo4j-4.2.1-cp37-none-any.whl size=95190 sha256=8f1005e11fe305570641ba2664afd395ef221499d429de337685a9e5030507fb\n",
            "  Stored in directory: /root/.cache/pip/wheels/00/a8/69/083e04c2ffc0a7e026c9356cd5bb54c65128f3e08ef8371be0\n",
            "Successfully built neo4j\n",
            "Installing collected packages: neo4j\n",
            "Successfully installed neo4j-4.2.1\n",
            "Requirement already satisfied: tqdm in /usr/local/lib/python3.7/dist-packages (4.41.1)\n"
          ],
          "name": "stdout"
        }
      ]
    },
    {
      "cell_type": "code",
      "metadata": {
        "id": "Fs-jCSsxJZ-R"
      },
      "source": [
        "from tqdm import tqdm\n",
        "import neo4j\n",
        "from neo4j import GraphDatabase"
      ],
      "execution_count": null,
      "outputs": []
    },
    {
      "cell_type": "markdown",
      "metadata": {
        "id": "Y7DBzxeIJnF6"
      },
      "source": [
        "### Connection class and data add functions"
      ]
    },
    {
      "cell_type": "code",
      "metadata": {
        "id": "oS2cgtADJqFY"
      },
      "source": [
        "class Neo4jConnection:\n",
        "    \n",
        "    def __init__(self, uri, user, pwd):\n",
        "        self.__uri = uri\n",
        "        self.__user = user\n",
        "        self.__pwd = pwd\n",
        "        self.__driver = None\n",
        "        try:\n",
        "            self.__driver = GraphDatabase.driver(self.__uri, auth=(self.__user, self.__pwd))\n",
        "        except Exception as e:\n",
        "            print(\"Failed to create the driver:\", e)\n",
        "        \n",
        "    def close(self):\n",
        "        if self.__driver is not None:\n",
        "            self.__driver.close()\n",
        "        \n",
        "    def query(self, query, parameters=None, db=None):\n",
        "        assert self.__driver is not None, \"Driver not initialized!\"\n",
        "        session = None\n",
        "        response = None\n",
        "        try: \n",
        "            session = self.__driver.session(database=db) if db is not None else self.__driver.session() \n",
        "            response = list(session.run(query, parameters))\n",
        "        except Exception as e:\n",
        "            print(\"Query failed:\", e)\n",
        "        finally: \n",
        "            if session is not None:\n",
        "                session.close()\n",
        "        return response"
      ],
      "execution_count": null,
      "outputs": []
    },
    {
      "cell_type": "code",
      "metadata": {
        "id": "ye-YDmU7Jres"
      },
      "source": [
        "def insert_data(query, rows, batch_size = 1000):\n",
        "    # Function to handle the updating the Neo4j database in batch mode.\n",
        "    import time\n",
        "    total = 0\n",
        "    batch = 0\n",
        "    start = time.time()\n",
        "    result = None\n",
        "\n",
        "    while batch * batch_size < len(rows):\n",
        "\n",
        "        res = conn.query(query, parameters={'rows': rows[batch*batch_size:(batch+1)*batch_size].to_dict('records')})\n",
        "        #total += res[0]['total']\n",
        "        batch += 1\n",
        "        result = {\"total\":total, \"batches\":batch, \"time\":time.time()-start}\n",
        "        print(result)\n",
        "\n",
        "    return result"
      ],
      "execution_count": null,
      "outputs": []
    },
    {
      "cell_type": "code",
      "metadata": {
        "id": "PAR_KS7LODaK"
      },
      "source": [
        "def add_category(category):\n",
        "    # Adds category nodes to the Neo4j graph.\n",
        "    query = '''\n",
        "            UNWIND $rows AS row\n",
        "            MERGE (c:Category {category: row.category})\n",
        "            RETURN count(*) as total\n",
        "            '''\n",
        "    return conn.query(query, parameters = {'rows':category.to_dict('records')})"
      ],
      "execution_count": null,
      "outputs": []
    },
    {
      "cell_type": "code",
      "metadata": {
        "id": "AILoLvRzOfPy"
      },
      "source": [
        "def add_city(city):\n",
        "    # Adds city nodes to the Neo4j graph.\n",
        "    query = '''\n",
        "            UNWIND $rows AS row\n",
        "            MERGE (c:City {city: row.city})\n",
        "            RETURN count(*) as total\n",
        "            '''\n",
        "    return conn.query(query, parameters = {'rows':city.to_dict('records')})"
      ],
      "execution_count": null,
      "outputs": []
    },
    {
      "cell_type": "code",
      "metadata": {
        "id": "DwkHUfpCQmMp"
      },
      "source": [
        "def add_company(company):\n",
        "    # Adds company nodes to the Neo4j graph.\n",
        "    query = '''\n",
        "            UNWIND $rows AS row\n",
        "            MERGE (c:Company {company: row.company})\n",
        "            RETURN count(*) as total\n",
        "            '''\n",
        "    return conn.query(query, parameters = {'rows':company.to_dict('records')})"
      ],
      "execution_count": null,
      "outputs": []
    },
    {
      "cell_type": "code",
      "metadata": {
        "id": "ht0dKaGxQvOY"
      },
      "source": [
        "def add_requirements(rows, batch_size=1000):\n",
        "    # Adds requirements nodes to the Neo4j graph.\n",
        "    query = '''\n",
        "            UNWIND $rows AS row\n",
        "            MERGE (c:Requirement {requirement: row.requirements})\n",
        "            RETURN count(*) as total\n",
        "            '''\n",
        "    return insert_data(query, rows, batch_size)"
      ],
      "execution_count": null,
      "outputs": []
    },
    {
      "cell_type": "code",
      "metadata": {
        "id": "oJ9xFpEdQ3zB"
      },
      "source": [
        "def add_title(rows, batch_size=1000):\n",
        "    # Adds title nodes to the Neo4j graph.\n",
        "    query = '''\n",
        "            UNWIND $rows AS row\n",
        "            MERGE (c:Title {title: row.title})\n",
        "            RETURN count(*) as total\n",
        "            '''\n",
        "    return insert_data(query, rows, batch_size)"
      ],
      "execution_count": null,
      "outputs": []
    },
    {
      "cell_type": "code",
      "metadata": {
        "id": "o0-X4ygKQ7fs"
      },
      "source": [
        "def add_type(type_):\n",
        "    # Adds type nodes to the Neo4j graph.\n",
        "    query = '''\n",
        "            UNWIND $rows AS row\n",
        "            MERGE (c:Type {type: row.type})\n",
        "            RETURN count(*) as total\n",
        "            '''\n",
        "    return conn.query(query, parameters = {'rows':type_.to_dict('records')})"
      ],
      "execution_count": null,
      "outputs": []
    },
    {
      "cell_type": "code",
      "metadata": {
        "id": "YppZvr9bRBVE"
      },
      "source": [
        "def add_state(state):\n",
        "    # Adds state nodes to the Neo4j graph.\n",
        "    query = '''\n",
        "            UNWIND $rows AS row\n",
        "            MERGE (c:State {state: row.state})\n",
        "            RETURN count(*) as total\n",
        "            '''\n",
        "    return conn.query(query, parameters = {'rows':state.to_dict('records')})"
      ],
      "execution_count": null,
      "outputs": []
    },
    {
      "cell_type": "code",
      "metadata": {
        "id": "6KVvHy_aRN-_"
      },
      "source": [
        "def add_salary(rows, batch_size=1000):\n",
        "    # Adds salary nodes to the Neo4j graph.\n",
        "    query = '''\n",
        "            UNWIND $rows AS row\n",
        "            MERGE (c:Salary {salary: row.salary})\n",
        "            RETURN count(*) as total\n",
        "            '''\n",
        "    return insert_data(query, rows, batch_size)"
      ],
      "execution_count": null,
      "outputs": []
    },
    {
      "cell_type": "code",
      "metadata": {
        "id": "7_FW4zhRUbVP"
      },
      "source": [
        "def add_jobs(rows, batch_size=1000):\n",
        " \n",
        "   query = '''\n",
        "   UNWIND $rows as row\n",
        "   MERGE (j:Job {id:row.id}) ON CREATE SET j.description = row.description, j.post_date = row.post_date\n",
        "   \n",
        "   // connect categories\n",
        "   WITH row, j\n",
        "   UNWIND row.category AS category_value\n",
        "   MATCH (c:Category {category: category_value})\n",
        "   MERGE (j)-[:IN_CATEGORY]->(c)\n",
        "\n",
        "   // connect cities\n",
        "   WITH row, j\n",
        "   UNWIND row.city AS city_value\n",
        "   MATCH (d:City {city: city_value})\n",
        "   MERGE (j)-[:IN_CITY]->(d)\n",
        "\n",
        "   // connect companies\n",
        "   WITH row, j\n",
        "   UNWIND row.company AS company_value\n",
        "   MATCH (e:Company {company: company_value})\n",
        "   MERGE (j)-[:IN_COMPANY]->(e)\n",
        "\n",
        "   // connect requirements\n",
        "   WITH row, j\n",
        "   UNWIND row.requirements AS requirement_value\n",
        "   MATCH (r:Requirement {requirement: requirement_value})\n",
        "   MERGE (j)-[:ASK_REQUIREMENT]->(r)\n",
        "\n",
        "   // connect titles\n",
        "   WITH row, j\n",
        "   UNWIND row.title AS title_value\n",
        "   MATCH (t:Title {title: title_value})\n",
        "   MERGE (j)-[:NAMED_TITLE]->(t)\n",
        "\n",
        "   // connect types\n",
        "   WITH row, j\n",
        "   UNWIND row.type AS type_value\n",
        "   MATCH (u:Type {type: type_value})\n",
        "   MERGE (j)-[:IS_TYPE]->(u)\n",
        "\n",
        "   // connect states\n",
        "   WITH row, j\n",
        "   UNWIND row.state AS state_value\n",
        "   MATCH (s:State {state: state_value})\n",
        "   MERGE (j)-[:IN_STATE]->(s)\n",
        "\n",
        "   // connect salaries\n",
        "   WITH row, j\n",
        "   UNWIND row.salary AS salary_value\n",
        "   MATCH (z:Salary {salary: salary_value})\n",
        "   MERGE (j)-[:OFFER_SALARY]->(z)\n",
        "   '''\n",
        " \n",
        "   return insert_data(query, rows, batch_size)"
      ],
      "execution_count": null,
      "outputs": []
    },
    {
      "cell_type": "markdown",
      "metadata": {
        "id": "83tpWQBGRdMi"
      },
      "source": [
        "### Connection  to Neo4j"
      ]
    },
    {
      "cell_type": "code",
      "metadata": {
        "id": "CvSeFcoCSQI1",
        "colab": {
          "base_uri": "https://localhost:8080/"
        },
        "outputId": "4f8f9f68-1b8d-4e77-feca-43711deb96c7"
      },
      "source": [
        "conn = Neo4jConnection(uri=\"bolt://18.213.220.99:7687\", \n",
        "                       user=\"neo4j\",              \n",
        "                       pwd=\"airs-concentrations-atom\")\n",
        "neo4j.unit_of_work(timeout=720000)"
      ],
      "execution_count": null,
      "outputs": [
        {
          "output_type": "execute_result",
          "data": {
            "text/plain": [
              "<function neo4j.work.simple.unit_of_work.<locals>.wrapper>"
            ]
          },
          "metadata": {
            "tags": []
          },
          "execution_count": 58
        }
      ]
    },
    {
      "cell_type": "markdown",
      "metadata": {
        "id": "aI7kCs_3SreR"
      },
      "source": [
        "**Creation of Nodes**"
      ]
    },
    {
      "cell_type": "code",
      "metadata": {
        "id": "XOJf-u4MSvGO",
        "colab": {
          "base_uri": "https://localhost:8080/"
        },
        "outputId": "b668928a-b28d-4126-e3d7-e05449b93141"
      },
      "source": [
        "conn.query('CREATE CONSTRAINT jobs IF NOT EXISTS ON (j:Job) ASSERT j.id IS UNIQUE')\n",
        "conn.query('CREATE CONSTRAINT category IF NOT EXISTS ON (c:Category) ASSERT c.category IS UNIQUE')\n",
        "conn.query('CREATE CONSTRAINT city IF NOT EXISTS ON (d:City) ASSERT d.city IS UNIQUE')\n",
        "conn.query('CREATE CONSTRAINT company IF NOT EXISTS ON (e:Company) ASSERT e.company IS UNIQUE')\n",
        "conn.query('CREATE CONSTRAINT requirement IF NOT EXISTS ON (r:Requirement) ASSERT r.requirement IS UNIQUE')\n",
        "conn.query('CREATE CONSTRAINT title IF NOT EXISTS ON (t:Title) ASSERT t.title IS UNIQUE')\n",
        "conn.query('CREATE CONSTRAINT type IF NOT EXISTS ON (u:Type) ASSERT u.title IS UNIQUE')\n",
        "conn.query('CREATE CONSTRAINT state IF NOT EXISTS ON (s:State) ASSERT s.state IS UNIQUE')\n",
        "conn.query('CREATE CONSTRAINT salary IF NOT EXISTS ON (z:Salary) ASSERT z.salary IS UNIQUE')"
      ],
      "execution_count": null,
      "outputs": [
        {
          "output_type": "execute_result",
          "data": {
            "text/plain": [
              "[]"
            ]
          },
          "metadata": {
            "tags": []
          },
          "execution_count": 59
        }
      ]
    },
    {
      "cell_type": "markdown",
      "metadata": {
        "id": "BTYJBB1dzzZM"
      },
      "source": [
        "### Database Population\n",
        "\n",
        "Dont run because the database has already been populated."
      ]
    },
    {
      "cell_type": "code",
      "metadata": {
        "id": "pzX1QNXUWpMB",
        "colab": {
          "base_uri": "https://localhost:8080/"
        },
        "outputId": "200df2d0-ffdf-4020-c22b-13870044e56e"
      },
      "source": [
        "add_category(category)"
      ],
      "execution_count": null,
      "outputs": [
        {
          "output_type": "execute_result",
          "data": {
            "text/plain": [
              "[<Record total=37>]"
            ]
          },
          "metadata": {
            "tags": []
          },
          "execution_count": 138
        }
      ]
    },
    {
      "cell_type": "code",
      "metadata": {
        "id": "S7EV1eeBWqMU",
        "colab": {
          "base_uri": "https://localhost:8080/"
        },
        "outputId": "bf9774a6-7b99-4462-8549-4ee53174b9ee"
      },
      "source": [
        "add_city(city)"
      ],
      "execution_count": null,
      "outputs": [
        {
          "output_type": "execute_result",
          "data": {
            "text/plain": [
              "[<Record total=2874>]"
            ]
          },
          "metadata": {
            "tags": []
          },
          "execution_count": 139
        }
      ]
    },
    {
      "cell_type": "code",
      "metadata": {
        "id": "0p8MKvqcWrTb",
        "colab": {
          "base_uri": "https://localhost:8080/"
        },
        "outputId": "84b7151a-dfc8-4dd9-fe60-aa31cc9fbc7b"
      },
      "source": [
        "add_company(company)"
      ],
      "execution_count": null,
      "outputs": [
        {
          "output_type": "execute_result",
          "data": {
            "text/plain": [
              "[<Record total=5162>]"
            ]
          },
          "metadata": {
            "tags": []
          },
          "execution_count": 140
        }
      ]
    },
    {
      "cell_type": "code",
      "metadata": {
        "id": "0ElfzsSEWr_2",
        "colab": {
          "base_uri": "https://localhost:8080/"
        },
        "outputId": "77b59c0a-1fd2-4e51-e8fc-c084f18af0f2"
      },
      "source": [
        "add_title(title)"
      ],
      "execution_count": null,
      "outputs": [
        {
          "output_type": "stream",
          "text": [
            "{'total': 0, 'batches': 1, 'time': 3.886063575744629}\n",
            "{'total': 0, 'batches': 2, 'time': 7.391524076461792}\n",
            "{'total': 0, 'batches': 3, 'time': 9.59232473373413}\n",
            "{'total': 0, 'batches': 4, 'time': 11.789734840393066}\n",
            "{'total': 0, 'batches': 5, 'time': 13.994056940078735}\n",
            "{'total': 0, 'batches': 6, 'time': 15.886851787567139}\n",
            "{'total': 0, 'batches': 7, 'time': 17.58951735496521}\n",
            "{'total': 0, 'batches': 8, 'time': 19.385392427444458}\n",
            "{'total': 0, 'batches': 9, 'time': 20.989448308944702}\n",
            "{'total': 0, 'batches': 10, 'time': 22.487468719482422}\n",
            "{'total': 0, 'batches': 11, 'time': 24.585427045822144}\n",
            "{'total': 0, 'batches': 12, 'time': 25.986669301986694}\n",
            "{'total': 0, 'batches': 13, 'time': 27.285462141036987}\n",
            "{'total': 0, 'batches': 14, 'time': 28.5943124294281}\n",
            "{'total': 0, 'batches': 15, 'time': 29.985620498657227}\n",
            "{'total': 0, 'batches': 16, 'time': 30.988242864608765}\n",
            "{'total': 0, 'batches': 17, 'time': 31.987191915512085}\n",
            "{'total': 0, 'batches': 18, 'time': 32.89482069015503}\n",
            "{'total': 0, 'batches': 19, 'time': 33.88738036155701}\n",
            "{'total': 0, 'batches': 20, 'time': 34.686880350112915}\n",
            "{'total': 0, 'batches': 21, 'time': 35.58747172355652}\n",
            "{'total': 0, 'batches': 22, 'time': 36.887566328048706}\n",
            "{'total': 0, 'batches': 23, 'time': 37.885541915893555}\n",
            "{'total': 0, 'batches': 24, 'time': 38.98753499984741}\n",
            "{'total': 0, 'batches': 25, 'time': 39.88551425933838}\n",
            "{'total': 0, 'batches': 26, 'time': 40.885579109191895}\n",
            "{'total': 0, 'batches': 27, 'time': 41.785531759262085}\n",
            "{'total': 0, 'batches': 28, 'time': 42.79328966140747}\n",
            "{'total': 0, 'batches': 29, 'time': 43.5854697227478}\n"
          ],
          "name": "stdout"
        },
        {
          "output_type": "execute_result",
          "data": {
            "text/plain": [
              "{'batches': 29, 'time': 43.5854697227478, 'total': 0}"
            ]
          },
          "metadata": {
            "tags": []
          },
          "execution_count": 141
        }
      ]
    },
    {
      "cell_type": "code",
      "metadata": {
        "id": "Vhs725WjWs1k",
        "colab": {
          "base_uri": "https://localhost:8080/"
        },
        "outputId": "36b27ce0-283c-4ace-9483-ec041ff54297"
      },
      "source": [
        "add_type(type_)"
      ],
      "execution_count": null,
      "outputs": [
        {
          "output_type": "execute_result",
          "data": {
            "text/plain": [
              "[<Record total=9>]"
            ]
          },
          "metadata": {
            "tags": []
          },
          "execution_count": 142
        }
      ]
    },
    {
      "cell_type": "code",
      "metadata": {
        "id": "c2xMgGSaWtpt",
        "colab": {
          "base_uri": "https://localhost:8080/"
        },
        "outputId": "caa9a724-893a-431d-b901-43d6fc89e33b"
      },
      "source": [
        "add_state(state)"
      ],
      "execution_count": null,
      "outputs": [
        {
          "output_type": "execute_result",
          "data": {
            "text/plain": [
              "[<Record total=164>]"
            ]
          },
          "metadata": {
            "tags": []
          },
          "execution_count": 143
        }
      ]
    },
    {
      "cell_type": "code",
      "metadata": {
        "id": "9tIxEm2QPeTL",
        "colab": {
          "base_uri": "https://localhost:8080/"
        },
        "outputId": "046b5532-5841-49a2-85e5-de567a724520"
      },
      "source": [
        "add_requirements(requirements)"
      ],
      "execution_count": null,
      "outputs": [
        {
          "output_type": "stream",
          "text": [
            "{'total': 0, 'batches': 1, 'time': 1.8904178142547607}\n",
            "{'total': 0, 'batches': 2, 'time': 3.8913767337799072}\n",
            "{'total': 0, 'batches': 3, 'time': 5.68384051322937}\n",
            "{'total': 0, 'batches': 4, 'time': 7.48760461807251}\n",
            "{'total': 0, 'batches': 5, 'time': 8.293277978897095}\n",
            "{'total': 0, 'batches': 6, 'time': 9.083996534347534}\n",
            "{'total': 0, 'batches': 7, 'time': 9.790867567062378}\n",
            "{'total': 0, 'batches': 8, 'time': 10.483748197555542}\n"
          ],
          "name": "stdout"
        },
        {
          "output_type": "execute_result",
          "data": {
            "text/plain": [
              "{'batches': 8, 'time': 10.483748197555542, 'total': 0}"
            ]
          },
          "metadata": {
            "tags": []
          },
          "execution_count": 144
        }
      ]
    },
    {
      "cell_type": "code",
      "metadata": {
        "id": "xfbpIWNOWEjk",
        "colab": {
          "base_uri": "https://localhost:8080/"
        },
        "outputId": "27a2b5ab-4ab2-4c84-d93b-a6cc0e840dd1"
      },
      "source": [
        "add_salary(salary)"
      ],
      "execution_count": null,
      "outputs": [
        {
          "output_type": "stream",
          "text": [
            "{'total': 0, 'batches': 1, 'time': 1.7745952606201172}\n",
            "{'total': 0, 'batches': 2, 'time': 2.575186252593994}\n",
            "{'total': 0, 'batches': 3, 'time': 3.3746213912963867}\n",
            "{'total': 0, 'batches': 4, 'time': 3.9797022342681885}\n",
            "{'total': 0, 'batches': 5, 'time': 4.477698802947998}\n",
            "{'total': 0, 'batches': 6, 'time': 4.789241790771484}\n",
            "{'total': 0, 'batches': 7, 'time': 5.074818134307861}\n",
            "{'total': 0, 'batches': 8, 'time': 5.183115005493164}\n"
          ],
          "name": "stdout"
        },
        {
          "output_type": "execute_result",
          "data": {
            "text/plain": [
              "{'batches': 8, 'time': 5.183115005493164, 'total': 0}"
            ]
          },
          "metadata": {
            "tags": []
          },
          "execution_count": 145
        }
      ]
    },
    {
      "cell_type": "code",
      "metadata": {
        "id": "jsGGdabfX_IE",
        "colab": {
          "base_uri": "https://localhost:8080/",
          "height": 157
        },
        "outputId": "4a3b7fe0-535a-42c1-c2fb-7c6ba756b752"
      },
      "source": [
        "df_celaned.head(2)"
      ],
      "execution_count": null,
      "outputs": [
        {
          "output_type": "execute_result",
          "data": {
            "text/html": [
              "<div>\n",
              "<style scoped>\n",
              "    .dataframe tbody tr th:only-of-type {\n",
              "        vertical-align: middle;\n",
              "    }\n",
              "\n",
              "    .dataframe tbody tr th {\n",
              "        vertical-align: top;\n",
              "    }\n",
              "\n",
              "    .dataframe thead th {\n",
              "        text-align: right;\n",
              "    }\n",
              "</style>\n",
              "<table border=\"1\" class=\"dataframe\">\n",
              "  <thead>\n",
              "    <tr style=\"text-align: right;\">\n",
              "      <th></th>\n",
              "      <th>category</th>\n",
              "      <th>city</th>\n",
              "      <th>company</th>\n",
              "      <th>description</th>\n",
              "      <th>requirements</th>\n",
              "      <th>title</th>\n",
              "      <th>type</th>\n",
              "      <th>post_date</th>\n",
              "      <th>salary</th>\n",
              "      <th>state</th>\n",
              "      <th>id</th>\n",
              "    </tr>\n",
              "  </thead>\n",
              "  <tbody>\n",
              "    <tr>\n",
              "      <th>0</th>\n",
              "      <td>catering jobs</td>\n",
              "      <td>chudleigh</td>\n",
              "      <td>haulfryn group</td>\n",
              "      <td>Apply now New opportunity not to be missed! H...</td>\n",
              "      <td>[unrequirement]</td>\n",
              "      <td>commis chef</td>\n",
              "      <td>Permanent, full-time</td>\n",
              "      <td>3/12/2018</td>\n",
              "      <td>£18,323 per annum</td>\n",
              "      <td>devon</td>\n",
              "      <td>0</td>\n",
              "    </tr>\n",
              "    <tr>\n",
              "      <th>1</th>\n",
              "      <td>law jobs</td>\n",
              "      <td>swindon</td>\n",
              "      <td>reed</td>\n",
              "      <td>Apply now This role requires an experienced s...</td>\n",
              "      <td>[unrequirement]</td>\n",
              "      <td>corporate legal secretary</td>\n",
              "      <td>Permanent, full-time</td>\n",
              "      <td>3/8/2018</td>\n",
              "      <td>£18,000 - £22,000 per annum</td>\n",
              "      <td>wiltshire</td>\n",
              "      <td>1</td>\n",
              "    </tr>\n",
              "  </tbody>\n",
              "</table>\n",
              "</div>"
            ],
            "text/plain": [
              "        category       city  ...      state id\n",
              "0  catering jobs  chudleigh  ...      devon  0\n",
              "1       law jobs    swindon  ...  wiltshire  1\n",
              "\n",
              "[2 rows x 11 columns]"
            ]
          },
          "metadata": {
            "tags": []
          },
          "execution_count": 147
        }
      ]
    },
    {
      "cell_type": "code",
      "metadata": {
        "id": "_iaPQZtUYM9G",
        "colab": {
          "base_uri": "https://localhost:8080/"
        },
        "outputId": "45584a30-1ebf-4b3f-b4cd-2733088fadee"
      },
      "source": [
        "add_jobs(df_celaned)"
      ],
      "execution_count": null,
      "outputs": [
        {
          "output_type": "stream",
          "text": [
            "{'total': 0, 'batches': 1, 'time': 53.768173694610596}\n",
            "{'total': 0, 'batches': 2, 'time': 91.06008124351501}\n",
            "{'total': 0, 'batches': 3, 'time': 115.26552748680115}\n",
            "{'total': 0, 'batches': 4, 'time': 122.2616696357727}\n",
            "{'total': 0, 'batches': 5, 'time': 125.9559223651886}\n",
            "{'total': 0, 'batches': 6, 'time': 131.9563126564026}\n",
            "{'total': 0, 'batches': 7, 'time': 135.15643072128296}\n",
            "{'total': 0, 'batches': 8, 'time': 138.0673267841339}\n",
            "{'total': 0, 'batches': 9, 'time': 141.36027312278748}\n",
            "{'total': 0, 'batches': 10, 'time': 145.95590806007385}\n",
            "{'total': 0, 'batches': 11, 'time': 149.35742688179016}\n",
            "{'total': 0, 'batches': 12, 'time': 154.25685501098633}\n",
            "{'total': 0, 'batches': 13, 'time': 158.7582688331604}\n",
            "{'total': 0, 'batches': 14, 'time': 163.780353307724}\n",
            "{'total': 0, 'batches': 15, 'time': 167.76018619537354}\n",
            "{'total': 0, 'batches': 16, 'time': 170.76652884483337}\n",
            "{'total': 0, 'batches': 17, 'time': 174.7559196949005}\n",
            "{'total': 0, 'batches': 18, 'time': 177.47639060020447}\n",
            "{'total': 0, 'batches': 19, 'time': 182.26287817955017}\n",
            "{'total': 0, 'batches': 20, 'time': 186.6797354221344}\n",
            "{'total': 0, 'batches': 21, 'time': 190.4726939201355}\n",
            "{'total': 0, 'batches': 22, 'time': 194.56148076057434}\n",
            "{'total': 0, 'batches': 23, 'time': 198.16165447235107}\n",
            "{'total': 0, 'batches': 24, 'time': 201.6680076122284}\n",
            "{'total': 0, 'batches': 25, 'time': 205.96736788749695}\n",
            "{'total': 0, 'batches': 26, 'time': 210.2565519809723}\n",
            "{'total': 0, 'batches': 27, 'time': 212.76907563209534}\n",
            "{'total': 0, 'batches': 28, 'time': 217.5620312690735}\n",
            "{'total': 0, 'batches': 29, 'time': 221.559428691864}\n",
            "{'total': 0, 'batches': 30, 'time': 224.5562641620636}\n",
            "{'total': 0, 'batches': 31, 'time': 229.07122564315796}\n",
            "{'total': 0, 'batches': 32, 'time': 233.05656266212463}\n",
            "{'total': 0, 'batches': 33, 'time': 236.4745852947235}\n",
            "{'total': 0, 'batches': 34, 'time': 241.16178011894226}\n",
            "{'total': 0, 'batches': 35, 'time': 245.75945925712585}\n",
            "{'total': 0, 'batches': 36, 'time': 250.27846431732178}\n",
            "{'total': 0, 'batches': 37, 'time': 254.76158046722412}\n",
            "{'total': 0, 'batches': 38, 'time': 259.66704988479614}\n",
            "{'total': 0, 'batches': 39, 'time': 264.36899995803833}\n",
            "{'total': 0, 'batches': 40, 'time': 269.06657814979553}\n",
            "{'total': 0, 'batches': 41, 'time': 272.9560158252716}\n",
            "{'total': 0, 'batches': 42, 'time': 276.27040100097656}\n",
            "{'total': 0, 'batches': 43, 'time': 283.86629581451416}\n",
            "{'total': 0, 'batches': 44, 'time': 286.9622526168823}\n",
            "{'total': 0, 'batches': 45, 'time': 291.578412771225}\n",
            "{'total': 0, 'batches': 46, 'time': 295.05764269828796}\n",
            "{'total': 0, 'batches': 47, 'time': 298.56309723854065}\n",
            "{'total': 0, 'batches': 48, 'time': 303.17745065689087}\n",
            "{'total': 0, 'batches': 49, 'time': 307.1749677658081}\n",
            "{'total': 0, 'batches': 50, 'time': 309.8576600551605}\n"
          ],
          "name": "stdout"
        },
        {
          "output_type": "execute_result",
          "data": {
            "text/plain": [
              "{'batches': 50, 'time': 309.8576600551605, 'total': 0}"
            ]
          },
          "metadata": {
            "tags": []
          },
          "execution_count": 146
        }
      ]
    },
    {
      "cell_type": "markdown",
      "metadata": {
        "id": "poyLyHtI15nm"
      },
      "source": [
        "## Data Insights"
      ]
    },
    {
      "cell_type": "markdown",
      "metadata": {
        "id": "rO-qN51-2J1_"
      },
      "source": [
        "MATCH (c:City) \n",
        "RETURN c.city, SIZE(()-[:IN_CITY]->(c)) AS inDegree \n",
        "ORDER BY inDegree DESC LIMIT 20\n",
        "\n",
        "MATCH (c:Category) \n",
        "RETURN c.category, SIZE(()-[:IN_CATEGORY]->(c)) AS inDegree \n",
        "ORDER BY inDegree DESC LIMIT 20\n",
        "\n",
        "MATCH (c:Company) \n",
        "RETURN c.company, SIZE(()-[:IN_COMPANY]->(c)) AS inDegree \n",
        "ORDER BY inDegree DESC LIMIT 20\n",
        "\n",
        "MATCH (t:Title) \n",
        "RETURN t.title, SIZE(()-[:NAMED_TITLE]->(t)) AS inDegree \n",
        "ORDER BY inDegree DESC LIMIT 20\n",
        "\n",
        "MATCH (n:Job) RETURN n.post_date LIMIT 25\n",
        "\n",
        "MATCH (s:Salary) \n",
        "RETURN s.salary, SIZE(()-[:OFFER_SALARY]->(s)) AS inDegree \n",
        "ORDER BY inDegree DESC LIMIT 20"
      ]
    },
    {
      "cell_type": "markdown",
      "metadata": {
        "id": "2zfKPd-7Ujuc"
      },
      "source": [
        "### Top 20 Cities with more Jobs"
      ]
    },
    {
      "cell_type": "code",
      "metadata": {
        "id": "bEHNXNK-2HiU",
        "colab": {
          "base_uri": "https://localhost:8080/",
          "height": 639
        },
        "outputId": "fd6e3a27-97e2-42d3-d05f-0d62c0d0faef"
      },
      "source": [
        "query_string = '''\n",
        "MATCH (c:City) \n",
        "RETURN c.city, SIZE(()-[:IN_CITY]->(c)) AS inDegree \n",
        "ORDER BY inDegree DESC LIMIT 20\n",
        "'''\n",
        "top_cities_df = pd.DataFrame([dict(_) for _ in conn.query(query_string)])\n",
        "top_cities_df.head(20)"
      ],
      "execution_count": null,
      "outputs": [
        {
          "output_type": "execute_result",
          "data": {
            "text/html": [
              "<div>\n",
              "<style scoped>\n",
              "    .dataframe tbody tr th:only-of-type {\n",
              "        vertical-align: middle;\n",
              "    }\n",
              "\n",
              "    .dataframe tbody tr th {\n",
              "        vertical-align: top;\n",
              "    }\n",
              "\n",
              "    .dataframe thead th {\n",
              "        text-align: right;\n",
              "    }\n",
              "</style>\n",
              "<table border=\"1\" class=\"dataframe\">\n",
              "  <thead>\n",
              "    <tr style=\"text-align: right;\">\n",
              "      <th></th>\n",
              "      <th>c.city</th>\n",
              "      <th>inDegree</th>\n",
              "    </tr>\n",
              "  </thead>\n",
              "  <tbody>\n",
              "    <tr>\n",
              "      <th>0</th>\n",
              "      <td>london</td>\n",
              "      <td>4349</td>\n",
              "    </tr>\n",
              "    <tr>\n",
              "      <th>1</th>\n",
              "      <td>city of london</td>\n",
              "      <td>1630</td>\n",
              "    </tr>\n",
              "    <tr>\n",
              "      <th>2</th>\n",
              "      <td>manchester</td>\n",
              "      <td>1283</td>\n",
              "    </tr>\n",
              "    <tr>\n",
              "      <th>3</th>\n",
              "      <td>central london</td>\n",
              "      <td>997</td>\n",
              "    </tr>\n",
              "    <tr>\n",
              "      <th>4</th>\n",
              "      <td>birmingham</td>\n",
              "      <td>931</td>\n",
              "    </tr>\n",
              "    <tr>\n",
              "      <th>5</th>\n",
              "      <td>bristol</td>\n",
              "      <td>881</td>\n",
              "    </tr>\n",
              "    <tr>\n",
              "      <th>6</th>\n",
              "      <td>leeds</td>\n",
              "      <td>877</td>\n",
              "    </tr>\n",
              "    <tr>\n",
              "      <th>7</th>\n",
              "      <td>west london</td>\n",
              "      <td>636</td>\n",
              "    </tr>\n",
              "    <tr>\n",
              "      <th>8</th>\n",
              "      <td>south west london</td>\n",
              "      <td>493</td>\n",
              "    </tr>\n",
              "    <tr>\n",
              "      <th>9</th>\n",
              "      <td>reading</td>\n",
              "      <td>483</td>\n",
              "    </tr>\n",
              "    <tr>\n",
              "      <th>10</th>\n",
              "      <td>glasgow</td>\n",
              "      <td>478</td>\n",
              "    </tr>\n",
              "    <tr>\n",
              "      <th>11</th>\n",
              "      <td>east london</td>\n",
              "      <td>455</td>\n",
              "    </tr>\n",
              "    <tr>\n",
              "      <th>12</th>\n",
              "      <td>milton keynes</td>\n",
              "      <td>445</td>\n",
              "    </tr>\n",
              "    <tr>\n",
              "      <th>13</th>\n",
              "      <td>cambridge</td>\n",
              "      <td>422</td>\n",
              "    </tr>\n",
              "    <tr>\n",
              "      <th>14</th>\n",
              "      <td>edinburgh</td>\n",
              "      <td>416</td>\n",
              "    </tr>\n",
              "    <tr>\n",
              "      <th>15</th>\n",
              "      <td>sheffield</td>\n",
              "      <td>410</td>\n",
              "    </tr>\n",
              "    <tr>\n",
              "      <th>16</th>\n",
              "      <td>liverpool</td>\n",
              "      <td>399</td>\n",
              "    </tr>\n",
              "    <tr>\n",
              "      <th>17</th>\n",
              "      <td>south east london</td>\n",
              "      <td>377</td>\n",
              "    </tr>\n",
              "    <tr>\n",
              "      <th>18</th>\n",
              "      <td>coventry</td>\n",
              "      <td>336</td>\n",
              "    </tr>\n",
              "    <tr>\n",
              "      <th>19</th>\n",
              "      <td>nottingham</td>\n",
              "      <td>334</td>\n",
              "    </tr>\n",
              "  </tbody>\n",
              "</table>\n",
              "</div>"
            ],
            "text/plain": [
              "               c.city  inDegree\n",
              "0              london      4349\n",
              "1      city of london      1630\n",
              "2          manchester      1283\n",
              "3      central london       997\n",
              "4          birmingham       931\n",
              "5             bristol       881\n",
              "6               leeds       877\n",
              "7         west london       636\n",
              "8   south west london       493\n",
              "9             reading       483\n",
              "10            glasgow       478\n",
              "11        east london       455\n",
              "12      milton keynes       445\n",
              "13          cambridge       422\n",
              "14          edinburgh       416\n",
              "15          sheffield       410\n",
              "16          liverpool       399\n",
              "17  south east london       377\n",
              "18           coventry       336\n",
              "19         nottingham       334"
            ]
          },
          "metadata": {
            "tags": []
          },
          "execution_count": 59
        }
      ]
    },
    {
      "cell_type": "code",
      "metadata": {
        "id": "iHla5rbRUx31",
        "colab": {
          "base_uri": "https://localhost:8080/",
          "height": 441
        },
        "outputId": "1463599a-d886-44ba-ebd0-e6e3027e7d51"
      },
      "source": [
        "# Top 20 cities barplot\n",
        "fig = plt.figure(figsize=(10,5  ))\n",
        "ax = fig.add_subplot()\n",
        "\n",
        "sns.barplot(x = top_cities_df[\"c.city\"], y = top_cities_df[\"inDegree\"], ax=ax, palette='RdYlBu');\n",
        "ax.set_title(\"Top 20 Cities with more Job's\", pad=10, size = 15)\n",
        "ax.set_ylabel(\"Job's\", size = 12)\n",
        "ax.set_xlabel(\"Cities\", size = 12)\n",
        "ax.tick_params(axis='x', rotation=80)"
      ],
      "execution_count": null,
      "outputs": [
        {
          "output_type": "display_data",
          "data": {
            "image/png": "[encoded data removed]",
            "text/plain": [
              "<Figure size 720x360 with 1 Axes>"
            ]
          },
          "metadata": {
            "tags": [],
            "needs_background": "light"
          }
        }
      ]
    },
    {
      "cell_type": "markdown",
      "metadata": {
        "id": "EQd9XZUiV8CN"
      },
      "source": [
        "### Top 20 Categories with more Jobs"
      ]
    },
    {
      "cell_type": "code",
      "metadata": {
        "id": "cGwIi-kxV-9l",
        "colab": {
          "base_uri": "https://localhost:8080/",
          "height": 639
        },
        "outputId": "2e250fed-10bc-4f1e-f4af-77ab7813db1c"
      },
      "source": [
        "query_string = '''\n",
        "MATCH (c:Category) \n",
        "RETURN c.category, SIZE(()-[:IN_CATEGORY]->(c)) AS inDegree \n",
        "ORDER BY inDegree DESC LIMIT 20\n",
        "'''\n",
        "top_categories_df = pd.DataFrame([dict(_) for _ in conn.query(query_string)])\n",
        "top_categories_df.head(20)"
      ],
      "execution_count": null,
      "outputs": [
        {
          "output_type": "execute_result",
          "data": {
            "text/html": [
              "<div>\n",
              "<style scoped>\n",
              "    .dataframe tbody tr th:only-of-type {\n",
              "        vertical-align: middle;\n",
              "    }\n",
              "\n",
              "    .dataframe tbody tr th {\n",
              "        vertical-align: top;\n",
              "    }\n",
              "\n",
              "    .dataframe thead th {\n",
              "        text-align: right;\n",
              "    }\n",
              "</style>\n",
              "<table border=\"1\" class=\"dataframe\">\n",
              "  <thead>\n",
              "    <tr style=\"text-align: right;\">\n",
              "      <th></th>\n",
              "      <th>c.category</th>\n",
              "      <th>inDegree</th>\n",
              "    </tr>\n",
              "  </thead>\n",
              "  <tbody>\n",
              "    <tr>\n",
              "      <th>0</th>\n",
              "      <td>health jobs</td>\n",
              "      <td>1930</td>\n",
              "    </tr>\n",
              "    <tr>\n",
              "      <th>1</th>\n",
              "      <td>education jobs</td>\n",
              "      <td>1898</td>\n",
              "    </tr>\n",
              "    <tr>\n",
              "      <th>2</th>\n",
              "      <td>it jobs</td>\n",
              "      <td>1890</td>\n",
              "    </tr>\n",
              "    <tr>\n",
              "      <th>3</th>\n",
              "      <td>logistics jobs</td>\n",
              "      <td>1885</td>\n",
              "    </tr>\n",
              "    <tr>\n",
              "      <th>4</th>\n",
              "      <td>construction property jobs</td>\n",
              "      <td>1859</td>\n",
              "    </tr>\n",
              "    <tr>\n",
              "      <th>5</th>\n",
              "      <td>engineering jobs</td>\n",
              "      <td>1858</td>\n",
              "    </tr>\n",
              "    <tr>\n",
              "      <th>6</th>\n",
              "      <td>accountancy jobs</td>\n",
              "      <td>1856</td>\n",
              "    </tr>\n",
              "    <tr>\n",
              "      <th>7</th>\n",
              "      <td>sales jobs</td>\n",
              "      <td>1855</td>\n",
              "    </tr>\n",
              "    <tr>\n",
              "      <th>8</th>\n",
              "      <td>accountancy qualified jobs</td>\n",
              "      <td>1836</td>\n",
              "    </tr>\n",
              "    <tr>\n",
              "      <th>9</th>\n",
              "      <td>social care jobs</td>\n",
              "      <td>1823</td>\n",
              "    </tr>\n",
              "    <tr>\n",
              "      <th>10</th>\n",
              "      <td>admin secretarial pa jobs</td>\n",
              "      <td>1799</td>\n",
              "    </tr>\n",
              "    <tr>\n",
              "      <th>11</th>\n",
              "      <td>finance jobs</td>\n",
              "      <td>1793</td>\n",
              "    </tr>\n",
              "    <tr>\n",
              "      <th>12</th>\n",
              "      <td>factory jobs</td>\n",
              "      <td>1755</td>\n",
              "    </tr>\n",
              "    <tr>\n",
              "      <th>13</th>\n",
              "      <td>recruitment consultancy jobs</td>\n",
              "      <td>1747</td>\n",
              "    </tr>\n",
              "    <tr>\n",
              "      <th>14</th>\n",
              "      <td>motoring automotive jobs</td>\n",
              "      <td>1578</td>\n",
              "    </tr>\n",
              "    <tr>\n",
              "      <th>15</th>\n",
              "      <td>retail jobs</td>\n",
              "      <td>1559</td>\n",
              "    </tr>\n",
              "    <tr>\n",
              "      <th>16</th>\n",
              "      <td>customer service jobs</td>\n",
              "      <td>1548</td>\n",
              "    </tr>\n",
              "    <tr>\n",
              "      <th>17</th>\n",
              "      <td>catering jobs</td>\n",
              "      <td>1536</td>\n",
              "    </tr>\n",
              "    <tr>\n",
              "      <th>18</th>\n",
              "      <td>law jobs</td>\n",
              "      <td>1535</td>\n",
              "    </tr>\n",
              "    <tr>\n",
              "      <th>19</th>\n",
              "      <td>marketing jobs</td>\n",
              "      <td>1463</td>\n",
              "    </tr>\n",
              "  </tbody>\n",
              "</table>\n",
              "</div>"
            ],
            "text/plain": [
              "                      c.category  inDegree\n",
              "0                    health jobs      1930\n",
              "1                 education jobs      1898\n",
              "2                        it jobs      1890\n",
              "3                 logistics jobs      1885\n",
              "4     construction property jobs      1859\n",
              "5               engineering jobs      1858\n",
              "6               accountancy jobs      1856\n",
              "7                     sales jobs      1855\n",
              "8     accountancy qualified jobs      1836\n",
              "9               social care jobs      1823\n",
              "10     admin secretarial pa jobs      1799\n",
              "11                  finance jobs      1793\n",
              "12                  factory jobs      1755\n",
              "13  recruitment consultancy jobs      1747\n",
              "14      motoring automotive jobs      1578\n",
              "15                   retail jobs      1559\n",
              "16         customer service jobs      1548\n",
              "17                 catering jobs      1536\n",
              "18                      law jobs      1535\n",
              "19                marketing jobs      1463"
            ]
          },
          "metadata": {
            "tags": []
          },
          "execution_count": 70
        }
      ]
    },
    {
      "cell_type": "code",
      "metadata": {
        "id": "lytxz9OhWSyq",
        "colab": {
          "base_uri": "https://localhost:8080/",
          "height": 494
        },
        "outputId": "21247a25-a5d9-4a84-b5ed-7f6a975fe005"
      },
      "source": [
        "# Top 20 categories barplot\n",
        "fig = plt.figure(figsize=(10,5  ))\n",
        "ax = fig.add_subplot()\n",
        "\n",
        "sns.barplot(x = top_categories_df[\"c.category\"], y = top_categories_df[\"inDegree\"], ax=ax, palette='RdYlBu');\n",
        "ax.set_title(\"Top 20 Categories with more Job's\", pad=10, size = 15)\n",
        "ax.set_ylabel(\"Job's\", size = 12)\n",
        "ax.set_xlabel(\"Categories\", size = 12)\n",
        "ax.tick_params(axis='x', rotation=80)"
      ],
      "execution_count": null,
      "outputs": [
        {
          "output_type": "display_data",
          "data": {
            "image/png": "[encoded data removed]",
            "text/plain": [
              "<Figure size 720x360 with 1 Axes>"
            ]
          },
          "metadata": {
            "tags": [],
            "needs_background": "light"
          }
        }
      ]
    },
    {
      "cell_type": "markdown",
      "metadata": {
        "id": "fCzfWF3yWqic"
      },
      "source": [
        "### Top 20 Companies with more Jobs"
      ]
    },
    {
      "cell_type": "code",
      "metadata": {
        "id": "m_rHbFiCWtXo",
        "colab": {
          "base_uri": "https://localhost:8080/",
          "height": 639
        },
        "outputId": "f29f3b1a-fa6d-47d8-b131-c8ec8157b5bc"
      },
      "source": [
        "query_string = '''\n",
        "MATCH (c:Company) \n",
        "RETURN c.company, SIZE(()-[:IN_COMPANY]->(c)) AS inDegree \n",
        "ORDER BY inDegree DESC LIMIT 20\n",
        "'''\n",
        "top_companies_df = pd.DataFrame([dict(_) for _ in conn.query(query_string)])\n",
        "top_companies_df.head(20)"
      ],
      "execution_count": null,
      "outputs": [
        {
          "output_type": "execute_result",
          "data": {
            "text/html": [
              "<div>\n",
              "<style scoped>\n",
              "    .dataframe tbody tr th:only-of-type {\n",
              "        vertical-align: middle;\n",
              "    }\n",
              "\n",
              "    .dataframe tbody tr th {\n",
              "        vertical-align: top;\n",
              "    }\n",
              "\n",
              "    .dataframe thead th {\n",
              "        text-align: right;\n",
              "    }\n",
              "</style>\n",
              "<table border=\"1\" class=\"dataframe\">\n",
              "  <thead>\n",
              "    <tr style=\"text-align: right;\">\n",
              "      <th></th>\n",
              "      <th>c.company</th>\n",
              "      <th>inDegree</th>\n",
              "    </tr>\n",
              "  </thead>\n",
              "  <tbody>\n",
              "    <tr>\n",
              "      <th>0</th>\n",
              "      <td>hays specialist recruitment limited</td>\n",
              "      <td>1830</td>\n",
              "    </tr>\n",
              "    <tr>\n",
              "      <th>1</th>\n",
              "      <td>reed</td>\n",
              "      <td>804</td>\n",
              "    </tr>\n",
              "    <tr>\n",
              "      <th>2</th>\n",
              "      <td>search consultancy</td>\n",
              "      <td>534</td>\n",
              "    </tr>\n",
              "    <tr>\n",
              "      <th>3</th>\n",
              "      <td>pareto</td>\n",
              "      <td>450</td>\n",
              "    </tr>\n",
              "    <tr>\n",
              "      <th>4</th>\n",
              "      <td>adecco uk limited</td>\n",
              "      <td>355</td>\n",
              "    </tr>\n",
              "    <tr>\n",
              "      <th>5</th>\n",
              "      <td>sw6 associates ltd</td>\n",
              "      <td>302</td>\n",
              "    </tr>\n",
              "    <tr>\n",
              "      <th>6</th>\n",
              "      <td>randstad construction, property and engineering</td>\n",
              "      <td>287</td>\n",
              "    </tr>\n",
              "    <tr>\n",
              "      <th>7</th>\n",
              "      <td>rise technical recruitment limited</td>\n",
              "      <td>280</td>\n",
              "    </tr>\n",
              "    <tr>\n",
              "      <th>8</th>\n",
              "      <td>interaction recruitment</td>\n",
              "      <td>267</td>\n",
              "    </tr>\n",
              "    <tr>\n",
              "      <th>9</th>\n",
              "      <td>reed accountancy</td>\n",
              "      <td>266</td>\n",
              "    </tr>\n",
              "    <tr>\n",
              "      <th>10</th>\n",
              "      <td>g2 legal limited</td>\n",
              "      <td>223</td>\n",
              "    </tr>\n",
              "    <tr>\n",
              "      <th>11</th>\n",
              "      <td>auto skills uk</td>\n",
              "      <td>215</td>\n",
              "    </tr>\n",
              "    <tr>\n",
              "      <th>12</th>\n",
              "      <td>esg recruitment</td>\n",
              "      <td>196</td>\n",
              "    </tr>\n",
              "    <tr>\n",
              "      <th>13</th>\n",
              "      <td>page personnel finance</td>\n",
              "      <td>193</td>\n",
              "    </tr>\n",
              "    <tr>\n",
              "      <th>14</th>\n",
              "      <td>reed insurance</td>\n",
              "      <td>185</td>\n",
              "    </tr>\n",
              "    <tr>\n",
              "      <th>15</th>\n",
              "      <td>we are ssg</td>\n",
              "      <td>183</td>\n",
              "    </tr>\n",
              "    <tr>\n",
              "      <th>16</th>\n",
              "      <td>office angels</td>\n",
              "      <td>183</td>\n",
              "    </tr>\n",
              "    <tr>\n",
              "      <th>17</th>\n",
              "      <td>michael page finance</td>\n",
              "      <td>172</td>\n",
              "    </tr>\n",
              "    <tr>\n",
              "      <th>18</th>\n",
              "      <td>cordant group</td>\n",
              "      <td>168</td>\n",
              "    </tr>\n",
              "    <tr>\n",
              "      <th>19</th>\n",
              "      <td>harnham</td>\n",
              "      <td>167</td>\n",
              "    </tr>\n",
              "  </tbody>\n",
              "</table>\n",
              "</div>"
            ],
            "text/plain": [
              "                                           c.company  inDegree\n",
              "0               hays specialist recruitment limited       1830\n",
              "1                                              reed        804\n",
              "2                                search consultancy        534\n",
              "3                                            pareto        450\n",
              "4                                 adecco uk limited        355\n",
              "5                                sw6 associates ltd        302\n",
              "6   randstad construction, property and engineering        287\n",
              "7                rise technical recruitment limited        280\n",
              "8                           interaction recruitment        267\n",
              "9                                  reed accountancy        266\n",
              "10                                 g2 legal limited        223\n",
              "11                                   auto skills uk        215\n",
              "12                                  esg recruitment        196\n",
              "13                           page personnel finance        193\n",
              "14                                   reed insurance        185\n",
              "15                                       we are ssg        183\n",
              "16                                    office angels        183\n",
              "17                             michael page finance        172\n",
              "18                                    cordant group        168\n",
              "19                                          harnham        167"
            ]
          },
          "metadata": {
            "tags": []
          },
          "execution_count": 73
        }
      ]
    },
    {
      "cell_type": "code",
      "metadata": {
        "id": "G2JWBz6eXFRj",
        "colab": {
          "base_uri": "https://localhost:8080/",
          "height": 594
        },
        "outputId": "4fa0cccb-5417-452b-988d-28c10618e62b"
      },
      "source": [
        "# Top 20 companies barplot\n",
        "fig = plt.figure(figsize=(10,5  ))\n",
        "ax = fig.add_subplot()\n",
        "\n",
        "sns.barplot(x = top_companies_df[\"c.company\"], y = top_companies_df[\"inDegree\"], ax=ax, palette='RdYlBu');\n",
        "ax.set_title(\"Top 20 Companies with more Job's\", pad=10, size = 15)\n",
        "ax.set_ylabel(\"Job's\", size = 12)\n",
        "ax.set_xlabel(\"Companies\", size = 12)\n",
        "ax.tick_params(axis='x', rotation=80)"
      ],
      "execution_count": null,
      "outputs": [
        {
          "output_type": "display_data",
          "data": {
            "image/png": "[encoded data removed]",
            "text/plain": [
              "<Figure size 720x360 with 1 Axes>"
            ]
          },
          "metadata": {
            "tags": [],
            "needs_background": "light"
          }
        }
      ]
    },
    {
      "cell_type": "markdown",
      "metadata": {
        "id": "qtsdoTi5XlGA"
      },
      "source": [
        "### Top 20 Job Titles more popular"
      ]
    },
    {
      "cell_type": "code",
      "metadata": {
        "id": "1dPD6g_dXVHQ",
        "colab": {
          "base_uri": "https://localhost:8080/",
          "height": 639
        },
        "outputId": "e846dc13-80e6-493f-9de2-4380e9a95e37"
      },
      "source": [
        "query_string = '''\n",
        "MATCH (t:Title) \n",
        "RETURN t.title, SIZE(()-[:NAMED_TITLE]->(t)) AS inDegree \n",
        "ORDER BY inDegree DESC LIMIT 20\n",
        "'''\n",
        "top_titles_df = pd.DataFrame([dict(_) for _ in conn.query(query_string)])\n",
        "top_titles_df.head(20)"
      ],
      "execution_count": null,
      "outputs": [
        {
          "output_type": "execute_result",
          "data": {
            "text/html": [
              "<div>\n",
              "<style scoped>\n",
              "    .dataframe tbody tr th:only-of-type {\n",
              "        vertical-align: middle;\n",
              "    }\n",
              "\n",
              "    .dataframe tbody tr th {\n",
              "        vertical-align: top;\n",
              "    }\n",
              "\n",
              "    .dataframe thead th {\n",
              "        text-align: right;\n",
              "    }\n",
              "</style>\n",
              "<table border=\"1\" class=\"dataframe\">\n",
              "  <thead>\n",
              "    <tr style=\"text-align: right;\">\n",
              "      <th></th>\n",
              "      <th>t.title</th>\n",
              "      <th>inDegree</th>\n",
              "    </tr>\n",
              "  </thead>\n",
              "  <tbody>\n",
              "    <tr>\n",
              "      <th>0</th>\n",
              "      <td>administrator</td>\n",
              "      <td>162</td>\n",
              "    </tr>\n",
              "    <tr>\n",
              "      <th>1</th>\n",
              "      <td>customer service advisor</td>\n",
              "      <td>150</td>\n",
              "    </tr>\n",
              "    <tr>\n",
              "      <th>2</th>\n",
              "      <td>management accountant</td>\n",
              "      <td>144</td>\n",
              "    </tr>\n",
              "    <tr>\n",
              "      <th>3</th>\n",
              "      <td>warehouse operative</td>\n",
              "      <td>140</td>\n",
              "    </tr>\n",
              "    <tr>\n",
              "      <th>4</th>\n",
              "      <td>recruitment consultant</td>\n",
              "      <td>127</td>\n",
              "    </tr>\n",
              "    <tr>\n",
              "      <th>5</th>\n",
              "      <td>buyer</td>\n",
              "      <td>116</td>\n",
              "    </tr>\n",
              "    <tr>\n",
              "      <th>6</th>\n",
              "      <td>care assistant</td>\n",
              "      <td>116</td>\n",
              "    </tr>\n",
              "    <tr>\n",
              "      <th>7</th>\n",
              "      <td>account manager</td>\n",
              "      <td>113</td>\n",
              "    </tr>\n",
              "    <tr>\n",
              "      <th>8</th>\n",
              "      <td>support worker</td>\n",
              "      <td>112</td>\n",
              "    </tr>\n",
              "    <tr>\n",
              "      <th>9</th>\n",
              "      <td>vehicle technician</td>\n",
              "      <td>110</td>\n",
              "    </tr>\n",
              "    <tr>\n",
              "      <th>10</th>\n",
              "      <td>accounts assistant</td>\n",
              "      <td>104</td>\n",
              "    </tr>\n",
              "    <tr>\n",
              "      <th>11</th>\n",
              "      <td>finance manager</td>\n",
              "      <td>103</td>\n",
              "    </tr>\n",
              "    <tr>\n",
              "      <th>12</th>\n",
              "      <td>sales executive</td>\n",
              "      <td>103</td>\n",
              "    </tr>\n",
              "    <tr>\n",
              "      <th>13</th>\n",
              "      <td>hr administrator</td>\n",
              "      <td>97</td>\n",
              "    </tr>\n",
              "    <tr>\n",
              "      <th>14</th>\n",
              "      <td>trainee recruitment consultant</td>\n",
              "      <td>96</td>\n",
              "    </tr>\n",
              "    <tr>\n",
              "      <th>15</th>\n",
              "      <td>project manager</td>\n",
              "      <td>91</td>\n",
              "    </tr>\n",
              "    <tr>\n",
              "      <th>16</th>\n",
              "      <td>maintenance engineer</td>\n",
              "      <td>90</td>\n",
              "    </tr>\n",
              "    <tr>\n",
              "      <th>17</th>\n",
              "      <td>graduate management trainee</td>\n",
              "      <td>85</td>\n",
              "    </tr>\n",
              "    <tr>\n",
              "      <th>18</th>\n",
              "      <td>credit controller</td>\n",
              "      <td>82</td>\n",
              "    </tr>\n",
              "    <tr>\n",
              "      <th>19</th>\n",
              "      <td>assistant manager</td>\n",
              "      <td>80</td>\n",
              "    </tr>\n",
              "  </tbody>\n",
              "</table>\n",
              "</div>"
            ],
            "text/plain": [
              "                           t.title  inDegree\n",
              "0                    administrator       162\n",
              "1         customer service advisor       150\n",
              "2            management accountant       144\n",
              "3              warehouse operative       140\n",
              "4           recruitment consultant       127\n",
              "5                            buyer       116\n",
              "6                   care assistant       116\n",
              "7                  account manager       113\n",
              "8                   support worker       112\n",
              "9               vehicle technician       110\n",
              "10              accounts assistant       104\n",
              "11                 finance manager       103\n",
              "12                 sales executive       103\n",
              "13                hr administrator        97\n",
              "14  trainee recruitment consultant        96\n",
              "15                 project manager        91\n",
              "16            maintenance engineer        90\n",
              "17    graduate management trainee         85\n",
              "18               credit controller        82\n",
              "19               assistant manager        80"
            ]
          },
          "metadata": {
            "tags": []
          },
          "execution_count": 75
        }
      ]
    },
    {
      "cell_type": "code",
      "metadata": {
        "id": "In1nKyImX9GU",
        "colab": {
          "base_uri": "https://localhost:8080/",
          "height": 505
        },
        "outputId": "b82af325-2f67-452c-af5c-eb8467396380"
      },
      "source": [
        "# Top 20 titles barplot\n",
        "fig = plt.figure(figsize=(10,5  ))\n",
        "ax = fig.add_subplot()\n",
        "\n",
        "sns.barplot(x = top_titles_df[\"t.title\"], y = top_titles_df[\"inDegree\"], ax=ax, palette='RdYlBu');\n",
        "ax.set_title(\"Top 20 Job Titles more popular\", pad=10, size = 15)\n",
        "ax.set_ylabel(\"Count\", size = 12)\n",
        "ax.set_xlabel(\"Job Titles\", size = 12)\n",
        "ax.tick_params(axis='x', rotation=80)"
      ],
      "execution_count": null,
      "outputs": [
        {
          "output_type": "display_data",
          "data": {
            "image/png": "[encoded data removed]",
            "text/plain": [
              "<Figure size 720x360 with 1 Axes>"
            ]
          },
          "metadata": {
            "tags": [],
            "needs_background": "light"
          }
        }
      ]
    },
    {
      "cell_type": "markdown",
      "metadata": {
        "id": "r8ssEVC6YO6a"
      },
      "source": [
        ""
      ]
    },
    {
      "cell_type": "markdown",
      "metadata": {
        "id": "erl0XJHkYeGY"
      },
      "source": [
        "### Top 20 Salary Offers"
      ]
    },
    {
      "cell_type": "code",
      "metadata": {
        "id": "62hiDB4sYWq6",
        "colab": {
          "base_uri": "https://localhost:8080/",
          "height": 639
        },
        "outputId": "a99d7f71-8aef-4311-d321-8dc09c4201ee"
      },
      "source": [
        "query_string = '''\n",
        "MATCH (s:Salary) \n",
        "RETURN s.salary, SIZE(()-[:OFFER_SALARY]->(s)) AS inDegree \n",
        "ORDER BY inDegree DESC LIMIT 20\n",
        "'''\n",
        "top_salaries_df = pd.DataFrame([dict(_) for _ in conn.query(query_string)])\n",
        "top_salaries_df.head(20)"
      ],
      "execution_count": null,
      "outputs": [
        {
          "output_type": "execute_result",
          "data": {
            "text/html": [
              "<div>\n",
              "<style scoped>\n",
              "    .dataframe tbody tr th:only-of-type {\n",
              "        vertical-align: middle;\n",
              "    }\n",
              "\n",
              "    .dataframe tbody tr th {\n",
              "        vertical-align: top;\n",
              "    }\n",
              "\n",
              "    .dataframe thead th {\n",
              "        text-align: right;\n",
              "    }\n",
              "</style>\n",
              "<table border=\"1\" class=\"dataframe\">\n",
              "  <thead>\n",
              "    <tr style=\"text-align: right;\">\n",
              "      <th></th>\n",
              "      <th>s.salary</th>\n",
              "      <th>inDegree</th>\n",
              "    </tr>\n",
              "  </thead>\n",
              "  <tbody>\n",
              "    <tr>\n",
              "      <th>0</th>\n",
              "      <td>Salary negotiable</td>\n",
              "      <td>4538</td>\n",
              "    </tr>\n",
              "    <tr>\n",
              "      <th>1</th>\n",
              "      <td>Competitive salary</td>\n",
              "      <td>3997</td>\n",
              "    </tr>\n",
              "    <tr>\n",
              "      <th>2</th>\n",
              "      <td>£30,000 - £35,000 per annum</td>\n",
              "      <td>633</td>\n",
              "    </tr>\n",
              "    <tr>\n",
              "      <th>3</th>\n",
              "      <td>£25,000 - £30,000 per annum</td>\n",
              "      <td>569</td>\n",
              "    </tr>\n",
              "    <tr>\n",
              "      <th>4</th>\n",
              "      <td>£35,000 - £40,000 per annum</td>\n",
              "      <td>488</td>\n",
              "    </tr>\n",
              "    <tr>\n",
              "      <th>5</th>\n",
              "      <td>£20,000 - £25,000 per annum</td>\n",
              "      <td>487</td>\n",
              "    </tr>\n",
              "    <tr>\n",
              "      <th>6</th>\n",
              "      <td>£7.50 per hour</td>\n",
              "      <td>477</td>\n",
              "    </tr>\n",
              "    <tr>\n",
              "      <th>7</th>\n",
              "      <td>£30,000 - £40,000 per annum</td>\n",
              "      <td>468</td>\n",
              "    </tr>\n",
              "    <tr>\n",
              "      <th>8</th>\n",
              "      <td>£40,000 - £45,000 per annum</td>\n",
              "      <td>386</td>\n",
              "    </tr>\n",
              "    <tr>\n",
              "      <th>9</th>\n",
              "      <td>£18,000 - £20,000 per annum</td>\n",
              "      <td>371</td>\n",
              "    </tr>\n",
              "    <tr>\n",
              "      <th>10</th>\n",
              "      <td>£40,000 - £50,000 per annum</td>\n",
              "      <td>343</td>\n",
              "    </tr>\n",
              "    <tr>\n",
              "      <th>11</th>\n",
              "      <td>£35,000 - £45,000 per annum</td>\n",
              "      <td>343</td>\n",
              "    </tr>\n",
              "    <tr>\n",
              "      <th>12</th>\n",
              "      <td>Salary not specified</td>\n",
              "      <td>317</td>\n",
              "    </tr>\n",
              "    <tr>\n",
              "      <th>13</th>\n",
              "      <td>£25,000 - £35,000 per annum</td>\n",
              "      <td>307</td>\n",
              "    </tr>\n",
              "    <tr>\n",
              "      <th>14</th>\n",
              "      <td>£18,000 - £22,000 per annum</td>\n",
              "      <td>290</td>\n",
              "    </tr>\n",
              "    <tr>\n",
              "      <th>15</th>\n",
              "      <td>£45,000 - £50,000 per annum</td>\n",
              "      <td>286</td>\n",
              "    </tr>\n",
              "    <tr>\n",
              "      <th>16</th>\n",
              "      <td>£30,000 per annum</td>\n",
              "      <td>251</td>\n",
              "    </tr>\n",
              "    <tr>\n",
              "      <th>17</th>\n",
              "      <td>£8.00 per hour</td>\n",
              "      <td>251</td>\n",
              "    </tr>\n",
              "    <tr>\n",
              "      <th>18</th>\n",
              "      <td>£25,000 per annum</td>\n",
              "      <td>247</td>\n",
              "    </tr>\n",
              "    <tr>\n",
              "      <th>19</th>\n",
              "      <td>£18,000 per annum</td>\n",
              "      <td>242</td>\n",
              "    </tr>\n",
              "  </tbody>\n",
              "</table>\n",
              "</div>"
            ],
            "text/plain": [
              "                       s.salary  inDegree\n",
              "0             Salary negotiable      4538\n",
              "1            Competitive salary      3997\n",
              "2   £30,000 - £35,000 per annum       633\n",
              "3   £25,000 - £30,000 per annum       569\n",
              "4   £35,000 - £40,000 per annum       488\n",
              "5   £20,000 - £25,000 per annum       487\n",
              "6                £7.50 per hour       477\n",
              "7   £30,000 - £40,000 per annum       468\n",
              "8   £40,000 - £45,000 per annum       386\n",
              "9   £18,000 - £20,000 per annum       371\n",
              "10  £40,000 - £50,000 per annum       343\n",
              "11  £35,000 - £45,000 per annum       343\n",
              "12         Salary not specified       317\n",
              "13  £25,000 - £35,000 per annum       307\n",
              "14  £18,000 - £22,000 per annum       290\n",
              "15  £45,000 - £50,000 per annum       286\n",
              "16            £30,000 per annum       251\n",
              "17               £8.00 per hour       251\n",
              "18            £25,000 per annum       247\n",
              "19            £18,000 per annum       242"
            ]
          },
          "metadata": {
            "tags": []
          },
          "execution_count": 79
        }
      ]
    },
    {
      "cell_type": "code",
      "metadata": {
        "id": "6njF-WEyYqDJ",
        "colab": {
          "base_uri": "https://localhost:8080/",
          "height": 498
        },
        "outputId": "7283daff-a3b7-486e-8905-56f777cfc399"
      },
      "source": [
        "# Top 20 salaries barplot\n",
        "fig = plt.figure(figsize=(10,5  ))\n",
        "ax = fig.add_subplot()\n",
        "\n",
        "sns.barplot(x = top_salaries_df[\"s.salary\"], y = top_titles_df[\"inDegree\"], ax=ax, palette='RdYlBu');\n",
        "ax.set_title(\"Top 20 Salary Offers\", pad=10, size = 15)\n",
        "ax.set_ylabel(\"Count\", size = 12)\n",
        "ax.set_xlabel(\"Salary Offers\", size = 12)\n",
        "ax.tick_params(axis='x', rotation=80)"
      ],
      "execution_count": null,
      "outputs": [
        {
          "output_type": "display_data",
          "data": {
            "image/png": "[encoded data removed]",
            "text/plain": [
              "<Figure size 720x360 with 1 Axes>"
            ]
          },
          "metadata": {
            "tags": [],
            "needs_background": "light"
          }
        }
      ]
    },
    {
      "cell_type": "markdown",
      "metadata": {
        "id": "lIYFMgvUZ2xu"
      },
      "source": [
        "### Jobs Posted Per Day"
      ]
    },
    {
      "cell_type": "code",
      "metadata": {
        "id": "XJej5WQLY0NF",
        "colab": {
          "base_uri": "https://localhost:8080/",
          "height": 195
        },
        "outputId": "b5759d69-92a8-4000-859c-5c63cb56e7a5"
      },
      "source": [
        "query_string = '''\n",
        "MATCH (n:Job) RETURN n.post_date\n",
        "'''\n",
        "jobs = pd.DataFrame([dict(_) for _ in conn.query(query_string)])\n",
        "jobs[\"count\"] = 1\n",
        "jobs.head(5)"
      ],
      "execution_count": null,
      "outputs": [
        {
          "output_type": "execute_result",
          "data": {
            "text/html": [
              "<div>\n",
              "<style scoped>\n",
              "    .dataframe tbody tr th:only-of-type {\n",
              "        vertical-align: middle;\n",
              "    }\n",
              "\n",
              "    .dataframe tbody tr th {\n",
              "        vertical-align: top;\n",
              "    }\n",
              "\n",
              "    .dataframe thead th {\n",
              "        text-align: right;\n",
              "    }\n",
              "</style>\n",
              "<table border=\"1\" class=\"dataframe\">\n",
              "  <thead>\n",
              "    <tr style=\"text-align: right;\">\n",
              "      <th></th>\n",
              "      <th>n.post_date</th>\n",
              "      <th>count</th>\n",
              "    </tr>\n",
              "  </thead>\n",
              "  <tbody>\n",
              "    <tr>\n",
              "      <th>0</th>\n",
              "      <td>3/12/2018</td>\n",
              "      <td>1</td>\n",
              "    </tr>\n",
              "    <tr>\n",
              "      <th>1</th>\n",
              "      <td>3/8/2018</td>\n",
              "      <td>1</td>\n",
              "    </tr>\n",
              "    <tr>\n",
              "      <th>2</th>\n",
              "      <td>2/27/2018</td>\n",
              "      <td>1</td>\n",
              "    </tr>\n",
              "    <tr>\n",
              "      <th>3</th>\n",
              "      <td>2/21/2018</td>\n",
              "      <td>1</td>\n",
              "    </tr>\n",
              "    <tr>\n",
              "      <th>4</th>\n",
              "      <td>3/1/2018</td>\n",
              "      <td>1</td>\n",
              "    </tr>\n",
              "  </tbody>\n",
              "</table>\n",
              "</div>"
            ],
            "text/plain": [
              "  n.post_date  count\n",
              "0   3/12/2018      1\n",
              "1    3/8/2018      1\n",
              "2   2/27/2018      1\n",
              "3   2/21/2018      1\n",
              "4    3/1/2018      1"
            ]
          },
          "metadata": {
            "tags": []
          },
          "execution_count": 85
        }
      ]
    },
    {
      "cell_type": "code",
      "metadata": {
        "id": "v4L10SwVbWHH",
        "colab": {
          "base_uri": "https://localhost:8080/"
        },
        "outputId": "c665dc85-392d-48bc-f9b1-7bb6cfd72579"
      },
      "source": [
        "jobs[\"n.post_date\"] = pd.to_datetime(jobs[\"n.post_date\"])\n",
        "jobs.dtypes"
      ],
      "execution_count": null,
      "outputs": [
        {
          "output_type": "execute_result",
          "data": {
            "text/plain": [
              "n.post_date    datetime64[ns]\n",
              "count                   int64\n",
              "dtype: object"
            ]
          },
          "metadata": {
            "tags": []
          },
          "execution_count": 89
        }
      ]
    },
    {
      "cell_type": "code",
      "metadata": {
        "id": "gwTg6M09bjCX",
        "colab": {
          "base_uri": "https://localhost:8080/",
          "height": 195
        },
        "outputId": "1bf2d3a6-273e-4f3f-a9c6-2e0d0e9ed59b"
      },
      "source": [
        "jobs.head()"
      ],
      "execution_count": null,
      "outputs": [
        {
          "output_type": "execute_result",
          "data": {
            "text/html": [
              "<div>\n",
              "<style scoped>\n",
              "    .dataframe tbody tr th:only-of-type {\n",
              "        vertical-align: middle;\n",
              "    }\n",
              "\n",
              "    .dataframe tbody tr th {\n",
              "        vertical-align: top;\n",
              "    }\n",
              "\n",
              "    .dataframe thead th {\n",
              "        text-align: right;\n",
              "    }\n",
              "</style>\n",
              "<table border=\"1\" class=\"dataframe\">\n",
              "  <thead>\n",
              "    <tr style=\"text-align: right;\">\n",
              "      <th></th>\n",
              "      <th>n.post_date</th>\n",
              "      <th>count</th>\n",
              "    </tr>\n",
              "  </thead>\n",
              "  <tbody>\n",
              "    <tr>\n",
              "      <th>0</th>\n",
              "      <td>2018-03-12</td>\n",
              "      <td>1</td>\n",
              "    </tr>\n",
              "    <tr>\n",
              "      <th>1</th>\n",
              "      <td>2018-03-08</td>\n",
              "      <td>1</td>\n",
              "    </tr>\n",
              "    <tr>\n",
              "      <th>2</th>\n",
              "      <td>2018-02-27</td>\n",
              "      <td>1</td>\n",
              "    </tr>\n",
              "    <tr>\n",
              "      <th>3</th>\n",
              "      <td>2018-02-21</td>\n",
              "      <td>1</td>\n",
              "    </tr>\n",
              "    <tr>\n",
              "      <th>4</th>\n",
              "      <td>2018-03-01</td>\n",
              "      <td>1</td>\n",
              "    </tr>\n",
              "  </tbody>\n",
              "</table>\n",
              "</div>"
            ],
            "text/plain": [
              "  n.post_date  count\n",
              "0  2018-03-12      1\n",
              "1  2018-03-08      1\n",
              "2  2018-02-27      1\n",
              "3  2018-02-21      1\n",
              "4  2018-03-01      1"
            ]
          },
          "metadata": {
            "tags": []
          },
          "execution_count": 90
        }
      ]
    },
    {
      "cell_type": "code",
      "metadata": {
        "id": "wVFS-KuPaKVB",
        "colab": {
          "base_uri": "https://localhost:8080/",
          "height": 402
        },
        "outputId": "91526bd9-a18b-4f68-81b2-4266aa7c8b93"
      },
      "source": [
        "jobs_by_day = jobs.groupby(\"n.post_date\")[\"count\"].sum()\n",
        "jobs_by_day = pd.DataFrame({\"date\":jobs_by_day.index, \"count\":jobs_by_day.values})\n",
        "jobs_by_day"
      ],
      "execution_count": null,
      "outputs": [
        {
          "output_type": "execute_result",
          "data": {
            "text/html": [
              "<div>\n",
              "<style scoped>\n",
              "    .dataframe tbody tr th:only-of-type {\n",
              "        vertical-align: middle;\n",
              "    }\n",
              "\n",
              "    .dataframe tbody tr th {\n",
              "        vertical-align: top;\n",
              "    }\n",
              "\n",
              "    .dataframe thead th {\n",
              "        text-align: right;\n",
              "    }\n",
              "</style>\n",
              "<table border=\"1\" class=\"dataframe\">\n",
              "  <thead>\n",
              "    <tr style=\"text-align: right;\">\n",
              "      <th></th>\n",
              "      <th>date</th>\n",
              "      <th>count</th>\n",
              "    </tr>\n",
              "  </thead>\n",
              "  <tbody>\n",
              "    <tr>\n",
              "      <th>0</th>\n",
              "      <td>2017-08-31</td>\n",
              "      <td>1</td>\n",
              "    </tr>\n",
              "    <tr>\n",
              "      <th>1</th>\n",
              "      <td>2017-09-21</td>\n",
              "      <td>1</td>\n",
              "    </tr>\n",
              "    <tr>\n",
              "      <th>2</th>\n",
              "      <td>2017-11-30</td>\n",
              "      <td>1</td>\n",
              "    </tr>\n",
              "    <tr>\n",
              "      <th>3</th>\n",
              "      <td>2017-12-18</td>\n",
              "      <td>1</td>\n",
              "    </tr>\n",
              "    <tr>\n",
              "      <th>4</th>\n",
              "      <td>2017-12-21</td>\n",
              "      <td>1</td>\n",
              "    </tr>\n",
              "    <tr>\n",
              "      <th>...</th>\n",
              "      <td>...</td>\n",
              "      <td>...</td>\n",
              "    </tr>\n",
              "    <tr>\n",
              "      <th>61</th>\n",
              "      <td>2018-03-09</td>\n",
              "      <td>2215</td>\n",
              "    </tr>\n",
              "    <tr>\n",
              "      <th>62</th>\n",
              "      <td>2018-03-10</td>\n",
              "      <td>270</td>\n",
              "    </tr>\n",
              "    <tr>\n",
              "      <th>63</th>\n",
              "      <td>2018-03-11</td>\n",
              "      <td>616</td>\n",
              "    </tr>\n",
              "    <tr>\n",
              "      <th>64</th>\n",
              "      <td>2018-03-12</td>\n",
              "      <td>7503</td>\n",
              "    </tr>\n",
              "    <tr>\n",
              "      <th>65</th>\n",
              "      <td>2018-03-13</td>\n",
              "      <td>49</td>\n",
              "    </tr>\n",
              "  </tbody>\n",
              "</table>\n",
              "<p>66 rows × 2 columns</p>\n",
              "</div>"
            ],
            "text/plain": [
              "         date  count\n",
              "0  2017-08-31      1\n",
              "1  2017-09-21      1\n",
              "2  2017-11-30      1\n",
              "3  2017-12-18      1\n",
              "4  2017-12-21      1\n",
              "..        ...    ...\n",
              "61 2018-03-09   2215\n",
              "62 2018-03-10    270\n",
              "63 2018-03-11    616\n",
              "64 2018-03-12   7503\n",
              "65 2018-03-13     49\n",
              "\n",
              "[66 rows x 2 columns]"
            ]
          },
          "metadata": {
            "tags": []
          },
          "execution_count": 92
        }
      ]
    },
    {
      "cell_type": "code",
      "metadata": {
        "id": "3S17tNWvbKaT",
        "colab": {
          "base_uri": "https://localhost:8080/"
        },
        "outputId": "052f4e56-c464-48e6-f40e-8702026ea9cb"
      },
      "source": [
        "jobs_by_day.dtypes"
      ],
      "execution_count": null,
      "outputs": [
        {
          "output_type": "execute_result",
          "data": {
            "text/plain": [
              "date     datetime64[ns]\n",
              "count             int64\n",
              "dtype: object"
            ]
          },
          "metadata": {
            "tags": []
          },
          "execution_count": 94
        }
      ]
    },
    {
      "cell_type": "code",
      "metadata": {
        "id": "olRIWItgb5cq",
        "colab": {
          "base_uri": "https://localhost:8080/",
          "height": 409
        },
        "outputId": "bb3e0a28-7143-41c3-eb91-5d5a43bf03cd"
      },
      "source": [
        "fig = plt.figure(figsize=(12,6))\n",
        "ax = fig.add_subplot()\n",
        "sns.lineplot(x=jobs_by_day[\"date\"], y=jobs_by_day[\"count\"], color = \"green\")\n",
        "\n",
        "ax.set_title('Jobs Posted By Day', size = 15)\n",
        "ax.set_ylabel(\"Jobs Posted\", size = 12)\n",
        "ax.set_xlabel(\"Date\", size = 12);"
      ],
      "execution_count": null,
      "outputs": [
        {
          "output_type": "display_data",
          "data": {
            "image/png": "[encoded data removed]",
            "text/plain": [
              "<Figure size 864x432 with 1 Axes>"
            ]
          },
          "metadata": {
            "tags": [],
            "needs_background": "light"
          }
        }
      ]
    },
    {
      "cell_type": "code",
      "metadata": {
        "id": "a1E5ihHwclJ3"
      },
      "source": [
        ""
      ],
      "execution_count": null,
      "outputs": []
    }
  ]
}