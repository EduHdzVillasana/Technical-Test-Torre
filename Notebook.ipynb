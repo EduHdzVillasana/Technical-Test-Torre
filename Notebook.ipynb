{
 "metadata": {
  "language_info": {
   "codemirror_mode": {
    "name": "ipython",
    "version": 3
   },
   "file_extension": ".py",
   "mimetype": "text/x-python",
   "name": "python",
   "nbconvert_exporter": "python",
   "pygments_lexer": "ipython3",
   "version": "3.9.0"
  },
  "orig_nbformat": 2,
  "kernelspec": {
   "name": "python390jvsc74a57bd01f65e174391277f634e70871feaa21300658cb740b5dabfc689c4c43dbc10e3e",
   "display_name": "Python 3.9.0 64-bit"
  },
  "metadata": {
   "interpreter": {
    "hash": "1f65e174391277f634e70871feaa21300658cb740b5dabfc689c4c43dbc10e3e"
   }
  }
 },
 "nbformat": 4,
 "nbformat_minor": 2,
 "cells": [
  {
   "cell_type": "code",
   "execution_count": 1,
   "metadata": {},
   "outputs": [],
   "source": [
    "# Libraries\n",
    "import pandas as pd\n",
    "import numpy as np\n",
    "import matplotlib.pyplot as plt\n",
    "import seaborn as sns"
   ]
  },
  {
   "cell_type": "code",
   "execution_count": 2,
   "metadata": {},
   "outputs": [],
   "source": [
    "data_url = \"https://query.data.world/s/rut5pr5nm5i4onzlfp6xjgcsw3rvu4\"\n",
    "df_raw = pd.read_csv(data_url)"
   ]
  },
  {
   "cell_type": "code",
   "execution_count": 3,
   "metadata": {},
   "outputs": [
    {
     "output_type": "execute_result",
     "data": {
      "text/plain": [
       "                       category               city  \\\n",
       "30255  motoring automotive jobs               Hull   \n",
       "30688            marketing jobs              Chard   \n",
       "41137          accountancy jobs  South West London   \n",
       "30062  motoring automotive jobs          St. Neots   \n",
       "46680           purchasing jobs       Peterborough   \n",
       "\n",
       "                               company_name geo job_board  \\\n",
       "30255                            Northgate   uk      reed   \n",
       "30688                        Office Angels   uk      reed   \n",
       "41137  Hays Specialist Recruitment Limited   uk      reed   \n",
       "30062                          Auto Talent   uk      reed   \n",
       "46680                                 Reed   uk      reed   \n",
       "\n",
       "                                         job_description  \\\n",
       "30255   Apply on employer's website Northgate vehicle...   \n",
       "30688   Apply now Are you ambitious, highly motivated...   \n",
       "41137   Apply now Audit and Accounts Payable Officer ...   \n",
       "30062   Apply now Due to ever increasing levels of bu...   \n",
       "46680   Apply now Do you possess a high degree of pro...   \n",
       "\n",
       "                                        job_requirements  \\\n",
       "30255                                                NaN   \n",
       "30688                                                NaN   \n",
       "41137                                                NaN   \n",
       "30062   Required skills vehicle technician mechanic d...   \n",
       "46680                                                NaN   \n",
       "\n",
       "                                    job_title              job_type  \\\n",
       "30255                        Driver / Valeter  Permanent, full-time   \n",
       "30688                     Marketing Executive  Permanent, full-time   \n",
       "41137  Audit and Accounts Payable Officer Job  Temporary, full-time   \n",
       "30062                      Vehicle Technician  Permanent, full-time   \n",
       "46680              Supplier Liaison Assistant  Temporary, full-time   \n",
       "\n",
       "       post_date                 salary_offered             state  \n",
       "30255   3/7/2018                £7.50 per hour   North Humberside  \n",
       "30688   3/7/2018   £18,000 - £25,000 per annum           Somerset  \n",
       "41137  2/27/2018     £130.00 - £170.00 per day             London  \n",
       "30062  2/27/2018   £25,000 - £33,000 per annum     Cambridgeshire  \n",
       "46680   3/5/2018                £8.89 per hour     Cambridgeshire  "
      ],
      "text/html": "<div>\n<style scoped>\n    .dataframe tbody tr th:only-of-type {\n        vertical-align: middle;\n    }\n\n    .dataframe tbody tr th {\n        vertical-align: top;\n    }\n\n    .dataframe thead th {\n        text-align: right;\n    }\n</style>\n<table border=\"1\" class=\"dataframe\">\n  <thead>\n    <tr style=\"text-align: right;\">\n      <th></th>\n      <th>category</th>\n      <th>city</th>\n      <th>company_name</th>\n      <th>geo</th>\n      <th>job_board</th>\n      <th>job_description</th>\n      <th>job_requirements</th>\n      <th>job_title</th>\n      <th>job_type</th>\n      <th>post_date</th>\n      <th>salary_offered</th>\n      <th>state</th>\n    </tr>\n  </thead>\n  <tbody>\n    <tr>\n      <th>30255</th>\n      <td>motoring automotive jobs</td>\n      <td>Hull</td>\n      <td>Northgate</td>\n      <td>uk</td>\n      <td>reed</td>\n      <td>Apply on employer's website Northgate vehicle...</td>\n      <td>NaN</td>\n      <td>Driver / Valeter</td>\n      <td>Permanent, full-time</td>\n      <td>3/7/2018</td>\n      <td>£7.50 per hour</td>\n      <td>North Humberside</td>\n    </tr>\n    <tr>\n      <th>30688</th>\n      <td>marketing jobs</td>\n      <td>Chard</td>\n      <td>Office Angels</td>\n      <td>uk</td>\n      <td>reed</td>\n      <td>Apply now Are you ambitious, highly motivated...</td>\n      <td>NaN</td>\n      <td>Marketing Executive</td>\n      <td>Permanent, full-time</td>\n      <td>3/7/2018</td>\n      <td>£18,000 - £25,000 per annum</td>\n      <td>Somerset</td>\n    </tr>\n    <tr>\n      <th>41137</th>\n      <td>accountancy jobs</td>\n      <td>South West London</td>\n      <td>Hays Specialist Recruitment Limited</td>\n      <td>uk</td>\n      <td>reed</td>\n      <td>Apply now Audit and Accounts Payable Officer ...</td>\n      <td>NaN</td>\n      <td>Audit and Accounts Payable Officer Job</td>\n      <td>Temporary, full-time</td>\n      <td>2/27/2018</td>\n      <td>£130.00 - £170.00 per day</td>\n      <td>London</td>\n    </tr>\n    <tr>\n      <th>30062</th>\n      <td>motoring automotive jobs</td>\n      <td>St. Neots</td>\n      <td>Auto Talent</td>\n      <td>uk</td>\n      <td>reed</td>\n      <td>Apply now Due to ever increasing levels of bu...</td>\n      <td>Required skills vehicle technician mechanic d...</td>\n      <td>Vehicle Technician</td>\n      <td>Permanent, full-time</td>\n      <td>2/27/2018</td>\n      <td>£25,000 - £33,000 per annum</td>\n      <td>Cambridgeshire</td>\n    </tr>\n    <tr>\n      <th>46680</th>\n      <td>purchasing jobs</td>\n      <td>Peterborough</td>\n      <td>Reed</td>\n      <td>uk</td>\n      <td>reed</td>\n      <td>Apply now Do you possess a high degree of pro...</td>\n      <td>NaN</td>\n      <td>Supplier Liaison Assistant</td>\n      <td>Temporary, full-time</td>\n      <td>3/5/2018</td>\n      <td>£8.89 per hour</td>\n      <td>Cambridgeshire</td>\n    </tr>\n  </tbody>\n</table>\n</div>"
     },
     "metadata": {},
     "execution_count": 3
    }
   ],
   "source": [
    "df_raw.sample(5)"
   ]
  },
  {
   "cell_type": "code",
   "execution_count": 4,
   "metadata": {},
   "outputs": [
    {
     "output_type": "execute_result",
     "data": {
      "text/plain": [
       "category            object\n",
       "city                object\n",
       "company_name        object\n",
       "geo                 object\n",
       "job_board           object\n",
       "job_description     object\n",
       "job_requirements    object\n",
       "job_title           object\n",
       "job_type            object\n",
       "post_date           object\n",
       "salary_offered      object\n",
       "state               object\n",
       "dtype: object"
      ]
     },
     "metadata": {},
     "execution_count": 4
    }
   ],
   "source": [
    "df_raw.dtypes"
   ]
  },
  {
   "cell_type": "code",
   "execution_count": 5,
   "metadata": {},
   "outputs": [
    {
     "output_type": "execute_result",
     "data": {
      "text/plain": [
       "category                0\n",
       "city                    0\n",
       "company_name            0\n",
       "geo                     0\n",
       "job_board               0\n",
       "job_description         0\n",
       "job_requirements    29452\n",
       "job_title               0\n",
       "job_type                0\n",
       "post_date               0\n",
       "salary_offered          0\n",
       "state                  20\n",
       "dtype: int64"
      ]
     },
     "metadata": {},
     "execution_count": 5
    }
   ],
   "source": [
    "df_raw.isnull().sum()"
   ]
  },
  {
   "cell_type": "code",
   "execution_count": 6,
   "metadata": {},
   "outputs": [
    {
     "output_type": "execute_result",
     "data": {
      "text/plain": [
       "(50000, 12)"
      ]
     },
     "metadata": {},
     "execution_count": 6
    }
   ],
   "source": [
    "df_raw.shape"
   ]
  },
  {
   "cell_type": "code",
   "execution_count": 7,
   "metadata": {},
   "outputs": [
    {
     "output_type": "execute_result",
     "data": {
      "text/plain": [
       "           category    city                          company_name    geo  \\\n",
       "count         50000   50000                                 50000  50000   \n",
       "unique           37    2918                                  5166      1   \n",
       "top     health jobs  London  Hays Specialist Recruitment Limited      uk   \n",
       "freq           1930    4349                                  1830  50000   \n",
       "\n",
       "       job_board                                    job_description  \\\n",
       "count      50000                                              50000   \n",
       "unique         1                                              42057   \n",
       "top         reed   Apply on employer's website Add an annual tur...   \n",
       "freq       50000                                                 85   \n",
       "\n",
       "                     job_requirements      job_title              job_type  \\\n",
       "count                           20548          50000                 50000   \n",
       "unique                          14887          29155                     9   \n",
       "top      Required skills Recruitment   Administrator  Permanent, full-time   \n",
       "freq                              123            162                 36864   \n",
       "\n",
       "       post_date       salary_offered   state  \n",
       "count      50000                50000   49980  \n",
       "unique        66                 7345     167  \n",
       "top     3/7/2018   Salary negotiable   London  \n",
       "freq        8472                 4539    5900  "
      ],
      "text/html": "<div>\n<style scoped>\n    .dataframe tbody tr th:only-of-type {\n        vertical-align: middle;\n    }\n\n    .dataframe tbody tr th {\n        vertical-align: top;\n    }\n\n    .dataframe thead th {\n        text-align: right;\n    }\n</style>\n<table border=\"1\" class=\"dataframe\">\n  <thead>\n    <tr style=\"text-align: right;\">\n      <th></th>\n      <th>category</th>\n      <th>city</th>\n      <th>company_name</th>\n      <th>geo</th>\n      <th>job_board</th>\n      <th>job_description</th>\n      <th>job_requirements</th>\n      <th>job_title</th>\n      <th>job_type</th>\n      <th>post_date</th>\n      <th>salary_offered</th>\n      <th>state</th>\n    </tr>\n  </thead>\n  <tbody>\n    <tr>\n      <th>count</th>\n      <td>50000</td>\n      <td>50000</td>\n      <td>50000</td>\n      <td>50000</td>\n      <td>50000</td>\n      <td>50000</td>\n      <td>20548</td>\n      <td>50000</td>\n      <td>50000</td>\n      <td>50000</td>\n      <td>50000</td>\n      <td>49980</td>\n    </tr>\n    <tr>\n      <th>unique</th>\n      <td>37</td>\n      <td>2918</td>\n      <td>5166</td>\n      <td>1</td>\n      <td>1</td>\n      <td>42057</td>\n      <td>14887</td>\n      <td>29155</td>\n      <td>9</td>\n      <td>66</td>\n      <td>7345</td>\n      <td>167</td>\n    </tr>\n    <tr>\n      <th>top</th>\n      <td>health jobs</td>\n      <td>London</td>\n      <td>Hays Specialist Recruitment Limited</td>\n      <td>uk</td>\n      <td>reed</td>\n      <td>Apply on employer's website Add an annual tur...</td>\n      <td>Required skills Recruitment</td>\n      <td>Administrator</td>\n      <td>Permanent, full-time</td>\n      <td>3/7/2018</td>\n      <td>Salary negotiable</td>\n      <td>London</td>\n    </tr>\n    <tr>\n      <th>freq</th>\n      <td>1930</td>\n      <td>4349</td>\n      <td>1830</td>\n      <td>50000</td>\n      <td>50000</td>\n      <td>85</td>\n      <td>123</td>\n      <td>162</td>\n      <td>36864</td>\n      <td>8472</td>\n      <td>4539</td>\n      <td>5900</td>\n    </tr>\n  </tbody>\n</table>\n</div>"
     },
     "metadata": {},
     "execution_count": 7
    }
   ],
   "source": [
    "df_raw.describe()"
   ]
  },
  {
   "cell_type": "code",
   "execution_count": 28,
   "metadata": {},
   "outputs": [
    {
     "output_type": "execute_result",
     "data": {
      "text/plain": [
       "[nan,\n",
       " nan,\n",
       " ' Required skills MRP Production Planning Supply Chain ',\n",
       " nan,\n",
       " ' Required skills Business Development Client Meetings Negotiating Sales Candidate Generation ']"
      ]
     },
     "metadata": {},
     "execution_count": 28
    }
   ],
   "source": [
    "list(df_raw[\"job_requirements\"].sample(5))"
   ]
  },
  {
   "cell_type": "code",
   "execution_count": 47,
   "metadata": {},
   "outputs": [
    {
     "output_type": "stream",
     "name": "stderr",
     "text": [
      "<ipython-input-47-fde8f5888301>:1: FutureWarning: Indexing with multiple keys (implicitly converted to a tuple of keys) will be deprecated, use a list instead.\n  df_raw.groupby(\"state\")[\"city\",\"company_name\"].count()\n"
     ]
    },
    {
     "output_type": "execute_result",
     "data": {
      "text/plain": [
       "                          city  company_name\n",
       "state                                       \n",
       "Aberdeen                     3             3\n",
       "Aberdeenshire              187           187\n",
       "Abu Dhabi                   19            19\n",
       "Afghanistan                  2             2\n",
       "Angus                       78            78\n",
       "...                        ...           ...\n",
       "Wigtownshire                 3             3\n",
       "Wiltshire                  579           579\n",
       "Worcestershire             322           322\n",
       "Wrexham                      2             2\n",
       "Yorkshire and Humberside   162           162\n",
       "\n",
       "[167 rows x 2 columns]"
      ],
      "text/html": "<div>\n<style scoped>\n    .dataframe tbody tr th:only-of-type {\n        vertical-align: middle;\n    }\n\n    .dataframe tbody tr th {\n        vertical-align: top;\n    }\n\n    .dataframe thead th {\n        text-align: right;\n    }\n</style>\n<table border=\"1\" class=\"dataframe\">\n  <thead>\n    <tr style=\"text-align: right;\">\n      <th></th>\n      <th>city</th>\n      <th>company_name</th>\n    </tr>\n    <tr>\n      <th>state</th>\n      <th></th>\n      <th></th>\n    </tr>\n  </thead>\n  <tbody>\n    <tr>\n      <th>Aberdeen</th>\n      <td>3</td>\n      <td>3</td>\n    </tr>\n    <tr>\n      <th>Aberdeenshire</th>\n      <td>187</td>\n      <td>187</td>\n    </tr>\n    <tr>\n      <th>Abu Dhabi</th>\n      <td>19</td>\n      <td>19</td>\n    </tr>\n    <tr>\n      <th>Afghanistan</th>\n      <td>2</td>\n      <td>2</td>\n    </tr>\n    <tr>\n      <th>Angus</th>\n      <td>78</td>\n      <td>78</td>\n    </tr>\n    <tr>\n      <th>...</th>\n      <td>...</td>\n      <td>...</td>\n    </tr>\n    <tr>\n      <th>Wigtownshire</th>\n      <td>3</td>\n      <td>3</td>\n    </tr>\n    <tr>\n      <th>Wiltshire</th>\n      <td>579</td>\n      <td>579</td>\n    </tr>\n    <tr>\n      <th>Worcestershire</th>\n      <td>322</td>\n      <td>322</td>\n    </tr>\n    <tr>\n      <th>Wrexham</th>\n      <td>2</td>\n      <td>2</td>\n    </tr>\n    <tr>\n      <th>Yorkshire and Humberside</th>\n      <td>162</td>\n      <td>162</td>\n    </tr>\n  </tbody>\n</table>\n<p>167 rows × 2 columns</p>\n</div>"
     },
     "metadata": {},
     "execution_count": 47
    }
   ],
   "source": [
    "df_raw.groupby(\"state\")[\"city\",\"company_name\"].count()"
   ]
  }
 ]
}